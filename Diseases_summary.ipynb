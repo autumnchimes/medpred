{
 "cells": [
  {
   "cell_type": "markdown",
   "metadata": {},
   "source": [
    "<h2>Imports and Globals</h2>"
   ]
  },
  {
   "cell_type": "code",
   "execution_count": 2,
   "metadata": {
    "collapsed": false
   },
   "outputs": [],
   "source": [
    "%matplotlib inline"
   ]
  },
  {
   "cell_type": "code",
   "execution_count": 198,
   "metadata": {
    "collapsed": true
   },
   "outputs": [],
   "source": [
    "from __future__ import absolute_import\n",
    "import os\n",
    "import random\n",
    "import re\n",
    "\n",
    "from sklearn import tree\n",
    "from sklearn.cross_decomposition import CCA\n",
    "from sklearn.cross_validation import cross_val_score, train_test_split\n",
    "\n",
    "import matplotlib.pyplot as plt\n",
    "import numpy as np\n",
    "import pandas as pd\n",
    "import seaborn as sns\n",
    "\n",
    "\n",
    "DATA_DIR = '/Users/emiwang/Learning/notebooks/medpred/data/'\n",
    "BASE_FILE = 'meps_base_data.csv'\n",
    "MEDS_FILE = 'meps_meds.csv'\n",
    "\n",
    "plt.style.use('ggplot')"
   ]
  },
  {
   "cell_type": "markdown",
   "metadata": {},
   "source": [
    "<h2>Methods for data cleaning and getting disease/meds stats</h2>"
   ]
  },
  {
   "cell_type": "code",
   "execution_count": 177,
   "metadata": {
    "collapsed": false
   },
   "outputs": [],
   "source": [
    "def clean_rxname(rxname):\n",
    "    \"\"\"Make string substitutions to dedupe rxnames.\n",
    "    \n",
    "    After looking at various drug name families to understand \n",
    "    common duping situations, decided on these substitutions.  \n",
    "    Full details of exploration in Diseases notebook.\n",
    "    \n",
    "    -Remove all parenthetical statements, as they tend to be commentary.\n",
    "    -Remove all statements after a comma, for same reason as above.\n",
    "    -Remove HCL and HYDROCHLORIDE groups since this is a salt group suffix.\n",
    "    -Replace ' AND ', '/', ' & ' with '-'.\n",
    "    -Truncate trailing ' TABLET', ' TAB' unit commentary.\n",
    "    -Strip trailing and leading spaces.\n",
    "\n",
    "    \"\"\"\n",
    "    replacements = [\n",
    "        ('\\([\\w\\s\\D]+\\)', ''),\n",
    "        (',[\\w\\s\\D]+', ''),\n",
    "        ('\\([-,/\\w^\\)]+\\Z',''),  \n",
    "        (' HCL', ''),\n",
    "        (' HYDROCHLORIDE', ''),\n",
    "        (' AND ', '-'),\n",
    "        (' & ', '-'),\n",
    "        ('/', '-'),\n",
    "        (' TABLET\\Z', ''),\n",
    "        (' TAB\\Z', '')\n",
    "    ]\n",
    "    for pattern in replacements:\n",
    "        rxname = re.sub(pattern[0], pattern[1], rxname)\n",
    "    rxname = rxname.rstrip().lstrip()\n",
    "    return rxname\n",
    "\n",
    "\n",
    "def get_disease_stats(disease_med_counts, disease, top_n=10,\n",
    "                      print_stats=True):\n",
    "    \"\"\"Get medication stats for a given disease diagnosis.\"\"\"\n",
    "    \n",
    "    counts = disease_med_counts[disease]\n",
    "    matched = re.match('^([\\w]+)Diagnosed_Yes', disease)\n",
    "    disease_edit = matched.group(1)\n",
    "    sorted_counts = sorted(counts.items(), key = itemgetter(1), reverse=True)\n",
    "    top_disease_meds = pd.DataFrame(sorted_counts, columns=['med', 'med_counts'])\n",
    "    total_counts = float(top_disease_meds.med_counts.sum())\n",
    "    top_disease_meds['percent'] = 100 * top_disease_meds.med_counts.astype(float) / total_counts\n",
    "    top_disease_meds['percent'] = [round(i, 2) for i in top_disease_meds.percent]\n",
    "    \n",
    "    leaders = top_disease_meds[0:top_n]\n",
    "    if print_stats:\n",
    "        print '\\n{} medications:'.format(disease_edit)\n",
    "        print leaders\n",
    "    return leaders\n",
    "\n",
    "\n",
    "def get_top_rxnames(disease_med_counts, top_n=10, print_stats=True):\n",
    "    \"\"\"Get top_n meds for each disease, union and dedupe into one list.\"\"\"\n",
    "    \n",
    "    top_rxnames = []\n",
    "    for disease in disease_med_counts.iterkeys():\n",
    "        top_disease_meds = get_disease_stats(disease_med_counts, disease,\n",
    "                                             top_n=top_n, print_stats=print_stats)\n",
    "    \n",
    "        rxname_list = list(top_disease_meds.med)\n",
    "        top_rxnames = top_rxnames + rxname_list \n",
    "    top_rxnames = list(set(top_rxnames))\n",
    "    \n",
    "    return top_rxnames"
   ]
  },
  {
   "cell_type": "markdown",
   "metadata": {},
   "source": [
    "<h2>Methods for further data processing and decision tree</h2>"
   ]
  },
  {
   "cell_type": "code",
   "execution_count": 69,
   "metadata": {
    "collapsed": false
   },
   "outputs": [],
   "source": [
    "def process_inputs(meds_data):\n",
    "    \"\"\"Dedupe medication names from raw file using clean_rxname().\n",
    "    \n",
    "    Used for decision tree model.\"\"\"\n",
    "    \n",
    "    meds_copy = meds_data.copy(deep=True)\n",
    "    meds_copy = meds_copy.drop('Unnamed: 0', 1)\n",
    "    rxnames = meds_copy.rxName\n",
    "    rxnames_clean = [clean_rxname(i) for i in rxnames]\n",
    "    meds_copy['rxName'] = rxnames_clean\n",
    "    \n",
    "    # Only count one instance of each medication per patient id.\n",
    "    meds_copy = meds_copy.drop_duplicates(subset=['id','rxName'])\n",
    "    \n",
    "    return meds_copy\n",
    "\n",
    "\n",
    "def process_outputs(base_data):\n",
    "    \"\"\"Process base data in preparation for getting single yes diagnoses.\n",
    "    \n",
    "    Used for decision tree model.  Select id and diagnosis columns, \n",
    "    make ones column for easy counting, and binary-ify the diagnoses.  \n",
    "    \n",
    "    \"\"\"\n",
    "    base_copy = base_data.copy(deep=True)\n",
    "    diagnosis_cols = [i for i in base_copy.columns if 'Diagnosed' in i]\n",
    "    subset_cols = ['id'] + diagnosis_cols\n",
    "    base_copy = base_copy[subset_cols]\n",
    "    base_copy['entry_count'] = 1\n",
    "    base_cats = pd.get_dummies(base_copy)\n",
    "    \n",
    "    return base_cats\n",
    "\n",
    "\n",
    "def match_input_output(meds_input, output, output_list=[]):\n",
    "    \"\"\"Return medication data with 1/0 diagnosis flags for each patient.\"\"\"\n",
    "    \n",
    "    if not len(output_list):\n",
    "        output_list = [i for i in output.columns if 'Diagnosed' in i]\n",
    "        \n",
    "    output_cols = ['id'] + output_list\n",
    "    \n",
    "    # Merge medication data with diagnosis data on patient id.\n",
    "    all_data = pd.merge(meds_input, output[output_cols], on='id', how='outer')\n",
    "    all_data = all_data.fillna(0)\n",
    "    \n",
    "    # Consolidate all patient medication info into one row per ['id', outputs].\n",
    "    grouped_data = all_data.groupby(output_cols, as_index=False).sum()\n",
    "    return grouped_data\n",
    "\n",
    "\n",
    "def make_output_binary(data_df):\n",
    "    \"\"\"Turn any diagnosis that is not a Yes or No into the most common value.\"\"\"\n",
    "    \n",
    "    df = data_df.copy(deep=True)\n",
    "    diagnoses = [i for i in df.columns if 'Diagnosed' in i]\n",
    "    \n",
    "    # Iterate over every disease column.\n",
    "    for diagnosis in diagnoses:\n",
    "        \n",
    "        all_labels = list(output[diagnosis].unique())\n",
    "        binary_labels = ['Yes', 'No']\n",
    "        non_binary_labels = [i for i in all_labels if i not in binary_labels]\n",
    "        \n",
    "        # Obtaining the label mode\n",
    "        binary_labeled = df[df[diagnosis].isin(binary_labels)]\n",
    "        diagnosis_mode = binary_labeled[diagnosis].mode()[0]\n",
    "        \n",
    "        # Replacing non binary labels with the mode.\n",
    "        for class_label in non_binary_labels:\n",
    "            df[diagnosis] = df[diagnosis].replace(class_label, diagnosis_mode)\n",
    "                    \n",
    "    df = df.replace('Yes', 1)\n",
    "    df = df.replace('No', 0)\n",
    "    \n",
    "    return df\n",
    "\n",
    "\n",
    "def make_x_and_y(all_outputs_data):\n",
    "    \"\"\"Pull out X (meds) and Y (diagnoses) arrays.\"\"\"\n",
    "    y_cols = [i for i in all_outputs_data.columns if 'Diagnosed' in i]\n",
    "    x_cols = [i for i in all_outputs_data.columns if i not in y_cols and i != 'id']\n",
    "    X = all_outputs_data[x_cols]\n",
    "    Y = all_outputs_data[y_cols]\n",
    "    \n",
    "    return X, Y\n",
    "\n",
    "\n",
    "def fit_tree(X, Y, test_size=0.2, random_state=137):\n",
    "    \"\"\"Fit a decision tree with a holdout test group of fraction test_size.\"\"\"\n",
    "    \n",
    "    X_train, X_test, Y_train, Y_test = train_test_split(\n",
    "        X, Y, test_size=test_size, random_state=random_state\n",
    "    )\n",
    "\n",
    "    clf = tree.DecisionTreeClassifier()\n",
    "    clf = clf.fit(X_train, Y_train)\n",
    "\n",
    "    print 'Num features: {}\\nNum outputs: {}\\nNum classes: {}'.format(clf.n_features_, clf.n_outputs_, clf.n_classes_)\n",
    "    print 'Train set accuracy: {:.3}'.format(clf.score(X_train, Y_train))\n",
    "    print 'Test set accuracy: {:.3}'.format(clf.score(X_test, Y_test))\n",
    "    print 'Classes: {}'.format(list(clf.classes_))\n",
    "    \n",
    "    return clf"
   ]
  },
  {
   "cell_type": "code",
   "execution_count": 5,
   "metadata": {
    "collapsed": false
   },
   "outputs": [
    {
     "data": {
      "text/plain": [
       "'HYDROCHLOROTHIAZIDE-MEEP-RAINBOW-CHARMS'"
      ]
     },
     "execution_count": 5,
     "metadata": {},
     "output_type": "execute_result"
    }
   ],
   "source": [
    "# Example of cleaning medication name\n",
    "clean_rxname(' HYDROCHLOROTHIAZIDE AND MEEP & RAINBOW/CHARMS (FILM-COATED 22 MG)')"
   ]
  },
  {
   "cell_type": "markdown",
   "metadata": {},
   "source": [
    "<h2>Exploring the datasets</h2>"
   ]
  },
  {
   "cell_type": "code",
   "execution_count": 6,
   "metadata": {
    "collapsed": false
   },
   "outputs": [],
   "source": [
    "base_data = pd.read_csv(os.path.join(DATA_DIR, BASE_FILE))\n",
    "meds_data = pd.read_csv(os.path.join(DATA_DIR, MEDS_FILE))"
   ]
  },
  {
   "cell_type": "markdown",
   "metadata": {},
   "source": [
    "<h3>Base data</h3>"
   ]
  },
  {
   "cell_type": "code",
   "execution_count": 7,
   "metadata": {
    "collapsed": false
   },
   "outputs": [
    {
     "data": {
      "text/html": [
       "<div>\n",
       "<table border=\"1\" class=\"dataframe\">\n",
       "  <thead>\n",
       "    <tr style=\"text-align: right;\">\n",
       "      <th></th>\n",
       "      <th>panel</th>\n",
       "      <th>pooledWeight</th>\n",
       "      <th>age</th>\n",
       "    </tr>\n",
       "  </thead>\n",
       "  <tbody>\n",
       "    <tr>\n",
       "      <th>count</th>\n",
       "      <td>61489.000000</td>\n",
       "      <td>61489.000000</td>\n",
       "      <td>61489.000000</td>\n",
       "    </tr>\n",
       "    <tr>\n",
       "      <th>mean</th>\n",
       "      <td>13.534453</td>\n",
       "      <td>5063.701982</td>\n",
       "      <td>33.578396</td>\n",
       "    </tr>\n",
       "    <tr>\n",
       "      <th>std</th>\n",
       "      <td>1.061329</td>\n",
       "      <td>3815.885387</td>\n",
       "      <td>22.887576</td>\n",
       "    </tr>\n",
       "    <tr>\n",
       "      <th>min</th>\n",
       "      <td>12.000000</td>\n",
       "      <td>127.710358</td>\n",
       "      <td>-1.000000</td>\n",
       "    </tr>\n",
       "    <tr>\n",
       "      <th>25%</th>\n",
       "      <td>13.000000</td>\n",
       "      <td>2217.419038</td>\n",
       "      <td>14.000000</td>\n",
       "    </tr>\n",
       "    <tr>\n",
       "      <th>50%</th>\n",
       "      <td>14.000000</td>\n",
       "      <td>3989.180418</td>\n",
       "      <td>32.000000</td>\n",
       "    </tr>\n",
       "    <tr>\n",
       "      <th>75%</th>\n",
       "      <td>14.000000</td>\n",
       "      <td>6905.677619</td>\n",
       "      <td>51.000000</td>\n",
       "    </tr>\n",
       "    <tr>\n",
       "      <th>max</th>\n",
       "      <td>15.000000</td>\n",
       "      <td>38828.153564</td>\n",
       "      <td>85.000000</td>\n",
       "    </tr>\n",
       "  </tbody>\n",
       "</table>\n",
       "</div>"
      ],
      "text/plain": [
       "              panel  pooledWeight           age\n",
       "count  61489.000000  61489.000000  61489.000000\n",
       "mean      13.534453   5063.701982     33.578396\n",
       "std        1.061329   3815.885387     22.887576\n",
       "min       12.000000    127.710358     -1.000000\n",
       "25%       13.000000   2217.419038     14.000000\n",
       "50%       14.000000   3989.180418     32.000000\n",
       "75%       14.000000   6905.677619     51.000000\n",
       "max       15.000000  38828.153564     85.000000"
      ]
     },
     "execution_count": 7,
     "metadata": {},
     "output_type": "execute_result"
    }
   ],
   "source": [
    "# There are ages of -1?  No data?\n",
    "base_data[['panel', 'pooledWeight', 'age']].describe()"
   ]
  },
  {
   "cell_type": "code",
   "execution_count": 9,
   "metadata": {
    "collapsed": false
   },
   "outputs": [
    {
     "data": {
      "text/plain": [
       "(61489, 61489)"
      ]
     },
     "execution_count": 9,
     "metadata": {},
     "output_type": "execute_result"
    }
   ],
   "source": [
    "len(base_data), len(base_data.drop_duplicates())  # No completely duplicate entries"
   ]
  },
  {
   "cell_type": "code",
   "execution_count": 8,
   "metadata": {
    "collapsed": false
   },
   "outputs": [
    {
     "data": {
      "text/plain": [
       "0.28297744311990763"
      ]
     },
     "execution_count": 8,
     "metadata": {},
     "output_type": "execute_result"
    }
   ],
   "source": [
    "# Remove the unnamed index, id, and panel columns\n",
    "subset_cols = [i for i in base_data.columns if i not in ('Unnamed: 0', 'id', 'panel')]\n",
    "\n",
    "# Percent duplicate patient data: less than 1% are duplicated.\n",
    "# This could be actual duplicates or patients who happen to have the exact same stats.  \n",
    "# Do nothing for nows ince there are so few duplicates.\n",
    "100 * float(len(base_data) - len(base_data.drop_duplicates(subset=subset_cols))) / len(base_data)"
   ]
  },
  {
   "cell_type": "code",
   "execution_count": 9,
   "metadata": {
    "collapsed": false
   },
   "outputs": [],
   "source": [
    "subset_base_data = base_data.copy(deep=True)\n",
    "subset_base_data = subset_base_data[subset_cols]\n",
    "subset_base_data['entry_count'] = 1"
   ]
  },
  {
   "cell_type": "code",
   "execution_count": 10,
   "metadata": {
    "collapsed": false
   },
   "outputs": [],
   "source": [
    "dupe_count = subset_base_data.groupby(subset_cols).count()\n",
    "# dupe_count[dupe_count.entry_count > 1].head()"
   ]
  },
  {
   "cell_type": "code",
   "execution_count": 11,
   "metadata": {
    "collapsed": false
   },
   "outputs": [
    {
     "data": {
      "text/plain": [
       "<matplotlib.text.Text at 0x10edb2cd0>"
      ]
     },
     "execution_count": 11,
     "metadata": {},
     "output_type": "execute_result"
    },
    {
     "data": {
      "image/png": "[encoded data removed]",
      "text/plain": [
       "<matplotlib.figure.Figure at 0x108e198d0>"
      ]
     },
     "metadata": {},
     "output_type": "display_data"
    }
   ],
   "source": [
    "dupe_count.entry_count.hist(bins=10)\n",
    "plt.title('Counts of identical base data entries\\nexcluding index, id, panel columns')\n",
    "plt.xlabel('Counts of a given entry')\n",
    "plt.ylabel('Unique entries')\n",
    "plt.text(1.3, 30000, 'No entries are duplicated more than once', fontsize=12)"
   ]
  },
  {
   "cell_type": "code",
   "execution_count": 12,
   "metadata": {
    "collapsed": true
   },
   "outputs": [],
   "source": [
    "base_copy = base_data.copy(deep=True)\n",
    "base_copy = base_copy.drop('Unnamed: 0', 1)"
   ]
  },
  {
   "cell_type": "markdown",
   "metadata": {},
   "source": [
    "<h3>Frequencies of categorical disease outputs</h3>"
   ]
  },
  {
   "cell_type": "markdown",
   "metadata": {},
   "source": [
    "Below, we see that some are fairly balanced between Yes and No, while others are quite unbalanced (e.g. emphysema and heart failure)."
   ]
  },
  {
   "cell_type": "code",
   "execution_count": 13,
   "metadata": {
    "collapsed": false,
    "scrolled": false
   },
   "outputs": [
    {
     "name": "stdout",
     "output_type": "stream",
     "text": [
      "                 entry_count\n",
      "highBPDiagnosed             \n",
      "DK                        48\n",
      "Inapplicable           18270\n",
      "No                     29525\n",
      "Refused                    4\n",
      "Yes                    13637\n",
      "not ascertained            5\n",
      "                   entry_count\n",
      "diabetesDiagnosed             \n",
      "DK                          19\n",
      "Inapplicable             18270\n",
      "No                       38848\n",
      "Refused                      5\n",
      "Yes                       4340\n",
      "not ascertained              7\n",
      "                 entry_count\n",
      "chdDiagnosed                \n",
      "DK                        36\n",
      "Inapplicable           18270\n",
      "No                     40844\n",
      "Refused                    4\n",
      "Yes                     2328\n",
      "not ascertained            7\n",
      "                 entry_count\n",
      "miDiagnosed                 \n",
      "DK                        22\n",
      "Inapplicable           18270\n",
      "No                     41658\n",
      "Refused                    5\n",
      "Yes                     1527\n",
      "not ascertained            7\n",
      "                 entry_count\n",
      "anginaDiagnosed             \n",
      "DK                        37\n",
      "Inapplicable           18270\n",
      "No                     42031\n",
      "Refused                    6\n",
      "Yes                     1138\n",
      "not ascertained            7\n",
      "                 entry_count\n",
      "strokeDiagnosed             \n",
      "DK                        20\n",
      "Inapplicable           18270\n",
      "No                     41630\n",
      "Refused                    5\n",
      "Yes                     1556\n",
      "not ascertained            8\n",
      "                    entry_count\n",
      "emphysemaDiagnosed             \n",
      "DK                           15\n",
      "Inapplicable              18270\n",
      "No                        42285\n",
      "Refused                       5\n",
      "Yes                         907\n",
      "not ascertained               7\n",
      "                 entry_count\n",
      "asthmaDiagnosed             \n",
      "DK                        19\n",
      "Inapplicable            1035\n",
      "No                     54425\n",
      "Refused                    8\n",
      "Yes                     6001\n",
      "not ascertained            1\n",
      "                  entry_count\n",
      "otherHDDiagnosed             \n",
      "DK                         21\n",
      "Inapplicable            18270\n",
      "No                      39317\n",
      "Refused                     5\n",
      "Yes                      3868\n",
      "not ascertained             8\n",
      "                       entry_count\n",
      "heartFailureDiagnosed             \n",
      "No                           61056\n",
      "Yes                            433\n"
     ]
    }
   ],
   "source": [
    "base_copy['entry_count'] = 1\n",
    "cat_cols = [i for i in base_data.columns if i not in ('Unnamed: 0', 'id', 'panel', 'age', 'pooledWeight', 'sex', 'race', 'married')]\n",
    "for column in cat_cols:\n",
    "    print base_copy.groupby(column).count()[['entry_count']]"
   ]
  },
  {
   "cell_type": "markdown",
   "metadata": {},
   "source": [
    "<h3>Prescribed meds data</h3>"
   ]
  },
  {
   "cell_type": "code",
   "execution_count": 14,
   "metadata": {
    "collapsed": false
   },
   "outputs": [
    {
     "data": {
      "text/html": [
       "<div>\n",
       "<table border=\"1\" class=\"dataframe\">\n",
       "  <thead>\n",
       "    <tr style=\"text-align: right;\">\n",
       "      <th></th>\n",
       "      <th>Unnamed: 0</th>\n",
       "      <th>id</th>\n",
       "      <th>rxStartMonth</th>\n",
       "      <th>rxStartYear</th>\n",
       "      <th>rxNDC</th>\n",
       "      <th>rxQuantity</th>\n",
       "    </tr>\n",
       "  </thead>\n",
       "  <tbody>\n",
       "    <tr>\n",
       "      <th>count</th>\n",
       "      <td>1.148347e+06</td>\n",
       "      <td>1.148347e+06</td>\n",
       "      <td>1.148347e+06</td>\n",
       "      <td>1.148347e+06</td>\n",
       "      <td>1.148347e+06</td>\n",
       "      <td>1.148347e+06</td>\n",
       "    </tr>\n",
       "    <tr>\n",
       "      <th>mean</th>\n",
       "      <td>1.240252e+06</td>\n",
       "      <td>5.523596e+07</td>\n",
       "      <td>5.184600e-01</td>\n",
       "      <td>1.172427e+03</td>\n",
       "      <td>2.226109e+10</td>\n",
       "      <td>5.942380e+01</td>\n",
       "    </tr>\n",
       "    <tr>\n",
       "      <th>std</th>\n",
       "      <td>9.590400e+05</td>\n",
       "      <td>2.728584e+07</td>\n",
       "      <td>4.087907e+00</td>\n",
       "      <td>9.895660e+02</td>\n",
       "      <td>2.834269e+10</td>\n",
       "      <td>3.702845e+02</td>\n",
       "    </tr>\n",
       "    <tr>\n",
       "      <th>min</th>\n",
       "      <td>1.000000e+00</td>\n",
       "      <td>1.000710e+07</td>\n",
       "      <td>-9.000000e+00</td>\n",
       "      <td>-1.400000e+01</td>\n",
       "      <td>-9.000000e+00</td>\n",
       "      <td>-9.000000e+00</td>\n",
       "    </tr>\n",
       "    <tr>\n",
       "      <th>25%</th>\n",
       "      <td>2.870875e+05</td>\n",
       "      <td>4.063810e+07</td>\n",
       "      <td>-1.000000e+00</td>\n",
       "      <td>-1.000000e+00</td>\n",
       "      <td>1.490472e+08</td>\n",
       "      <td>3.000000e+01</td>\n",
       "    </tr>\n",
       "    <tr>\n",
       "      <th>50%</th>\n",
       "      <td>1.093262e+06</td>\n",
       "      <td>4.947510e+07</td>\n",
       "      <td>-1.000000e+00</td>\n",
       "      <td>2.000000e+03</td>\n",
       "      <td>5.910385e+08</td>\n",
       "      <td>3.000000e+01</td>\n",
       "    </tr>\n",
       "    <tr>\n",
       "      <th>75%</th>\n",
       "      <td>2.103602e+06</td>\n",
       "      <td>8.118210e+07</td>\n",
       "      <td>1.000000e+00</td>\n",
       "      <td>2.008000e+03</td>\n",
       "      <td>5.486835e+10</td>\n",
       "      <td>6.800000e+01</td>\n",
       "    </tr>\n",
       "    <tr>\n",
       "      <th>max</th>\n",
       "      <td>3.336212e+06</td>\n",
       "      <td>8.968810e+07</td>\n",
       "      <td>1.200000e+01</td>\n",
       "      <td>2.011000e+03</td>\n",
       "      <td>9.920707e+10</td>\n",
       "      <td>1.200000e+05</td>\n",
       "    </tr>\n",
       "  </tbody>\n",
       "</table>\n",
       "</div>"
      ],
      "text/plain": [
       "         Unnamed: 0            id  rxStartMonth   rxStartYear         rxNDC  \\\n",
       "count  1.148347e+06  1.148347e+06  1.148347e+06  1.148347e+06  1.148347e+06   \n",
       "mean   1.240252e+06  5.523596e+07  5.184600e-01  1.172427e+03  2.226109e+10   \n",
       "std    9.590400e+05  2.728584e+07  4.087907e+00  9.895660e+02  2.834269e+10   \n",
       "min    1.000000e+00  1.000710e+07 -9.000000e+00 -1.400000e+01 -9.000000e+00   \n",
       "25%    2.870875e+05  4.063810e+07 -1.000000e+00 -1.000000e+00  1.490472e+08   \n",
       "50%    1.093262e+06  4.947510e+07 -1.000000e+00  2.000000e+03  5.910385e+08   \n",
       "75%    2.103602e+06  8.118210e+07  1.000000e+00  2.008000e+03  5.486835e+10   \n",
       "max    3.336212e+06  8.968810e+07  1.200000e+01  2.011000e+03  9.920707e+10   \n",
       "\n",
       "         rxQuantity  \n",
       "count  1.148347e+06  \n",
       "mean   5.942380e+01  \n",
       "std    3.702845e+02  \n",
       "min   -9.000000e+00  \n",
       "25%    3.000000e+01  \n",
       "50%    3.000000e+01  \n",
       "75%    6.800000e+01  \n",
       "max    1.200000e+05  "
      ]
     },
     "execution_count": 14,
     "metadata": {},
     "output_type": "execute_result"
    }
   ],
   "source": [
    "meds_data.describe()  # Missing start month and start year represented as negative numbers?"
   ]
  },
  {
   "cell_type": "code",
   "execution_count": 15,
   "metadata": {
    "collapsed": false
   },
   "outputs": [
    {
     "data": {
      "text/html": [
       "<div>\n",
       "<table border=\"1\" class=\"dataframe\">\n",
       "  <thead>\n",
       "    <tr style=\"text-align: right;\">\n",
       "      <th></th>\n",
       "      <th>Unnamed: 0</th>\n",
       "      <th>id</th>\n",
       "      <th>rxStartMonth</th>\n",
       "      <th>rxStartYear</th>\n",
       "      <th>rxName</th>\n",
       "      <th>rxNDC</th>\n",
       "      <th>rxQuantity</th>\n",
       "      <th>rxForm</th>\n",
       "    </tr>\n",
       "  </thead>\n",
       "  <tbody>\n",
       "    <tr>\n",
       "      <th>0</th>\n",
       "      <td>1</td>\n",
       "      <td>10007104</td>\n",
       "      <td>3</td>\n",
       "      <td>2011</td>\n",
       "      <td>AMOXICILLIN</td>\n",
       "      <td>143988775</td>\n",
       "      <td>75.0</td>\n",
       "      <td>SUSR</td>\n",
       "    </tr>\n",
       "    <tr>\n",
       "      <th>1</th>\n",
       "      <td>2</td>\n",
       "      <td>10007104</td>\n",
       "      <td>3</td>\n",
       "      <td>2011</td>\n",
       "      <td>OTIC EDGE SOLUTION</td>\n",
       "      <td>68032032814</td>\n",
       "      <td>14.0</td>\n",
       "      <td>SOL</td>\n",
       "    </tr>\n",
       "    <tr>\n",
       "      <th>2</th>\n",
       "      <td>3</td>\n",
       "      <td>10008102</td>\n",
       "      <td>3</td>\n",
       "      <td>2011</td>\n",
       "      <td>NASAL DECONGESTANT 0.05% SPRAY</td>\n",
       "      <td>63981056903</td>\n",
       "      <td>15.0</td>\n",
       "      <td>SPR</td>\n",
       "    </tr>\n",
       "    <tr>\n",
       "      <th>3</th>\n",
       "      <td>4</td>\n",
       "      <td>10008102</td>\n",
       "      <td>3</td>\n",
       "      <td>2011</td>\n",
       "      <td>NASAL DECONGESTANT 0.05% SPRAY</td>\n",
       "      <td>63981056903</td>\n",
       "      <td>15.0</td>\n",
       "      <td>SPR</td>\n",
       "    </tr>\n",
       "    <tr>\n",
       "      <th>4</th>\n",
       "      <td>5</td>\n",
       "      <td>10008102</td>\n",
       "      <td>9</td>\n",
       "      <td>2011</td>\n",
       "      <td>DIPHENHYDRAM</td>\n",
       "      <td>603333921</td>\n",
       "      <td>30.0</td>\n",
       "      <td>CAP</td>\n",
       "    </tr>\n",
       "  </tbody>\n",
       "</table>\n",
       "</div>"
      ],
      "text/plain": [
       "   Unnamed: 0        id  rxStartMonth  rxStartYear  \\\n",
       "0           1  10007104             3         2011   \n",
       "1           2  10007104             3         2011   \n",
       "2           3  10008102             3         2011   \n",
       "3           4  10008102             3         2011   \n",
       "4           5  10008102             9         2011   \n",
       "\n",
       "                           rxName        rxNDC  rxQuantity rxForm  \n",
       "0                     AMOXICILLIN    143988775        75.0   SUSR  \n",
       "1              OTIC EDGE SOLUTION  68032032814        14.0    SOL  \n",
       "2  NASAL DECONGESTANT 0.05% SPRAY  63981056903        15.0    SPR  \n",
       "3  NASAL DECONGESTANT 0.05% SPRAY  63981056903        15.0    SPR  \n",
       "4                    DIPHENHYDRAM    603333921        30.0    CAP  "
      ]
     },
     "execution_count": 15,
     "metadata": {},
     "output_type": "execute_result"
    }
   ],
   "source": [
    "meds_data.head()"
   ]
  },
  {
   "cell_type": "code",
   "execution_count": 16,
   "metadata": {
    "collapsed": false
   },
   "outputs": [
    {
     "data": {
      "text/plain": [
       "(1148347, 1148347)"
      ]
     },
     "execution_count": 16,
     "metadata": {},
     "output_type": "execute_result"
    }
   ],
   "source": [
    "len(meds_data), len(meds_data.drop_duplicates())  # Also no completely duplicate rows here"
   ]
  },
  {
   "cell_type": "markdown",
   "metadata": {},
   "source": [
    "<h2>Most common medications for each disease</h2>"
   ]
  },
  {
   "cell_type": "markdown",
   "metadata": {},
   "source": [
    "<i>Approach</i>: Get all patients who only have one diagnosis.  Group them by disease and count up all the different medications.  For each disease, get the top 10 medications."
   ]
  },
  {
   "cell_type": "markdown",
   "metadata": {},
   "source": [
    "Some considerations:\n",
    "    \n",
    "- Even with selecting people diagnosed with just one disease, we could be missing diagnosis data for other diseases.  Or a doctor might prescribe corresponding medication just in case?  High blood pressure can apparently lead to diabetes:\n",
    "http://www.webmd.com/hypertension-high-blood-pressure/guide/high-blood-pressure\n",
    "\n",
    "- People could have multuple Rx entries for the same drug.  We want to only count one per patient when getting frequencies.\n",
    "\n",
    "- We have only done rudimentary deduping, related to string formatting and extra comments.  More deduping could be done if we had a repository of the multiple names different drugs can take.  Some quick googling reveals most drugs have generic and brand names."
   ]
  },
  {
   "cell_type": "markdown",
   "metadata": {},
   "source": [
    "If we dummyify all of the prescriptions, even after some deduping, pandas is going to be very sad with that many columns.  I think we're going to have to rely on good old defaultdict iteration!  \n",
    "\n",
    "Make an empty default dict whose keys are the user id."
   ]
  },
  {
   "cell_type": "code",
   "execution_count": 17,
   "metadata": {
    "collapsed": true
   },
   "outputs": [],
   "source": [
    "from collections import defaultdict, Counter\n",
    "from operator import itemgetter"
   ]
  },
  {
   "cell_type": "code",
   "execution_count": 18,
   "metadata": {
    "collapsed": false
   },
   "outputs": [],
   "source": [
    "meds_copy = process_inputs(meds_data)"
   ]
  },
  {
   "cell_type": "code",
   "execution_count": 19,
   "metadata": {
    "collapsed": false
   },
   "outputs": [],
   "source": [
    "base_cats = process_outputs(base_data)\n",
    "yes_cols = [i for i in base_cats.columns if 'Yes' in i]\n",
    "yes_cols = ['id'] + yes_cols\n",
    "base_cats = base_cats[yes_cols]"
   ]
  },
  {
   "cell_type": "code",
   "execution_count": 20,
   "metadata": {
    "collapsed": false
   },
   "outputs": [],
   "source": [
    "meds_name = meds_copy[['id', 'rxName']]\n",
    "merged = pd.merge(base_cats, meds_name, on='id')"
   ]
  },
  {
   "cell_type": "code",
   "execution_count": 21,
   "metadata": {
    "collapsed": false
   },
   "outputs": [],
   "source": [
    "merged_list = merged.to_dict(orient='record')"
   ]
  },
  {
   "cell_type": "code",
   "execution_count": 22,
   "metadata": {
    "collapsed": false
   },
   "outputs": [],
   "source": [
    "patient_meds = defaultdict(Counter)\n",
    "for entry in merged_list:\n",
    "    # We need to update all of the diagnoses\n",
    "    # And we need to turn all of the rxNames into their own entries.\n",
    "    diagnoses = Counter({key:value for key, value in entry.iteritems() if 'Yes' in key})\n",
    "    patient_id = entry['id']\n",
    "    rxname = entry['rxName']\n",
    "    patient_meds[patient_id][rxname] = 1\n",
    "    patient_meds[patient_id]['id'] = patient_id\n",
    "    patient_meds[patient_id].update(diagnoses)\n",
    "\n",
    "# Turn the whole thing into a dict so we don't accidentally add more keys.\n",
    "patient_meds = dict(patient_meds)"
   ]
  },
  {
   "cell_type": "code",
   "execution_count": 23,
   "metadata": {
    "collapsed": false
   },
   "outputs": [],
   "source": [
    "# The diagnoses will get repeated so we have to figure out how many are just one diagnosis.  \n",
    "single_yes_diagnoses = []\n",
    "for entry in patient_meds.itervalues():\n",
    "    num_diagnoses = 0\n",
    "    disease = None\n",
    "    for key, yes_count in entry.iteritems():\n",
    "        if 'Yes' in key and yes_count != 0:\n",
    "            num_diagnoses += 1\n",
    "            disease = key\n",
    "    if num_diagnoses == 1:\n",
    "        entry['disease'] = disease\n",
    "        single_yes_diagnoses.append(entry)\n",
    "single_yes_diagnoses = [dict(i) for i in single_yes_diagnoses]"
   ]
  },
  {
   "cell_type": "code",
   "execution_count": 24,
   "metadata": {
    "collapsed": false
   },
   "outputs": [
    {
     "data": {
      "text/plain": [
       "(10926, 41783)"
      ]
     },
     "execution_count": 24,
     "metadata": {},
     "output_type": "execute_result"
    }
   ],
   "source": [
    "len(single_yes_diagnoses), len(patient_meds)  # About 25% of all patients are single diagnoses"
   ]
  },
  {
   "cell_type": "code",
   "execution_count": 25,
   "metadata": {
    "collapsed": false
   },
   "outputs": [],
   "source": [
    "# For all single_yes_diagnoses, sort it into a defaultdict that is keyed by disease and \n",
    "# has dicts that count up every prescription.\n",
    "disease_med_counts = defaultdict(dict)\n",
    "for patient in single_yes_diagnoses:\n",
    "    disease = patient['disease']\n",
    "    medicines = [i for i in patient.keys() if i not in ('disease', 'id') and '_Yes' not in i]\n",
    "    for med in medicines:\n",
    "        # Increment the med count if the med already exists.\n",
    "        # Otherwise initialize the count for the med.\n",
    "        if disease_med_counts[disease].get(med, None):\n",
    "            disease_med_counts[disease][med] += 1\n",
    "        else:\n",
    "            disease_med_counts[disease][med] = 1\n",
    "disease_med_counts = dict(disease_med_counts)"
   ]
  },
  {
   "cell_type": "markdown",
   "metadata": {},
   "source": [
    "Below are the top 10 medications seen in a given disease.  Some of the sample sizes are rather small, so we may not have a clear signal. Sample sizes are small because we've restricted it to people who have only one diagnosis, to avoid the issue of disease correlations.  Note also that the top 10 medications each comprise a small percent of total medications (none are greater than ~5%), which suggests a long tail of medications.  We probably still have a lot of alternate names for the same medications.\n",
    "\n",
    "Expanded disease names from google:\n",
    "\n",
    "mi = Myocardial Infarction (heart attack)\n",
    "\n",
    "chd = Coronary Heart Disease\n",
    "\n",
    "other hd = Other heart disease\n",
    "\n",
    "As a first simple cut, let's save the list of top_rxnames and first use only these as a simple way to reduce the dimensionality of our feature space."
   ]
  },
  {
   "cell_type": "code",
   "execution_count": 38,
   "metadata": {
    "collapsed": false,
    "scrolled": false
   },
   "outputs": [
    {
     "name": "stdout",
     "output_type": "stream",
     "text": [
      "\n",
      "mi medications:\n",
      "                       med  med_counts  percent\n",
      "0             HYDROCO-APAP           7     2.45\n",
      "1              SIMVASTATIN           6     2.10\n",
      "2               LISINOPRIL           5     1.75\n",
      "3             AZITHROMYCIN           5     1.75\n",
      "4                  LIPITOR           5     1.75\n",
      "5                   PLAVIX           5     1.75\n",
      "6      METOPROLOL TARTRATE           4     1.40\n",
      "7             PANTOPRAZOLE           4     1.40\n",
      "8               FUROSEMIDE           4     1.40\n",
      "9  METOPROLOL SUCCINATE ER           4     1.40\n",
      "\n",
      "stroke medications:\n",
      "            med  med_counts  percent\n",
      "0   SIMVASTATIN          24     2.96\n",
      "1  AZITHROMYCIN          22     2.72\n",
      "2   AMOXICILLIN          17     2.10\n",
      "3     IBUPROFEN          14     1.73\n",
      "4  HYDROCO-APAP          11     1.36\n",
      "5       LIPITOR          10     1.23\n",
      "6  LEVOTHYROXIN           9     1.11\n",
      "7    GABAPENTIN           8     0.99\n",
      "8    PREDNISONE           7     0.86\n",
      "9    FLUOXETINE           6     0.74\n",
      "\n",
      "emphysema medications:\n",
      "            med  med_counts  percent\n",
      "0       SPIRIVA          18     2.83\n",
      "1  AZITHROMYCIN          11     1.73\n",
      "2    PREDNISONE          11     1.73\n",
      "3     IBUPROFEN          10     1.57\n",
      "4   SIMVASTATIN           9     1.41\n",
      "5   AMOXICILLIN           9     1.41\n",
      "6  HYDROCO-APAP           8     1.26\n",
      "7  ADVAIR DISKU           8     1.26\n",
      "8    CLONAZEPAM           8     1.26\n",
      "9    ALPRAZOLAM           8     1.26\n",
      "\n",
      "otherHD medications:\n",
      "                           med  med_counts  percent\n",
      "0                 AZITHROMYCIN         117     3.12\n",
      "1                  AMOXICILLIN         112     2.99\n",
      "2                    IBUPROFEN          66     1.76\n",
      "3                  SIMVASTATIN          52     1.39\n",
      "4                   PREDNISONE          49     1.31\n",
      "5                 HYDROCO-APAP          48     1.28\n",
      "6                     NAPROXEN          37     0.99\n",
      "7                 LEVOTHYROXIN          33     0.88\n",
      "8                   OMEPRAZOLE          33     0.88\n",
      "9  APAP-HYDROCODONE BITARTRATE          33     0.88\n",
      "\n",
      "asthma medications:\n",
      "                 med  med_counts  percent\n",
      "0          ALBUTEROL         809     5.03\n",
      "1        AMOXICILLIN         615     3.83\n",
      "2       AZITHROMYCIN         538     3.35\n",
      "3          SINGULAIR         525     3.27\n",
      "4         PROAIR HFA         405     2.52\n",
      "5         PREDNISONE         330     2.05\n",
      "6          IBUPROFEN         274     1.70\n",
      "7       VENTOLIN HFA         222     1.38\n",
      "8  ALBUTEROL SULFATE         183     1.14\n",
      "9          PROVENTIL         171     1.06\n",
      "\n",
      "chd medications:\n",
      "            med  med_counts  percent\n",
      "0   SIMVASTATIN          13     3.44\n",
      "1     IBUPROFEN           7     1.85\n",
      "2      ATENOLOL           6     1.59\n",
      "3       LIPITOR           6     1.59\n",
      "4    FUROSEMIDE           6     1.59\n",
      "5   AMOXICILLIN           6     1.59\n",
      "6  HYDROCO-APAP           5     1.32\n",
      "7    METOPROLOL           5     1.32\n",
      "8  AZITHROMYCIN           5     1.32\n",
      "9     SYNTHROID           5     1.32\n",
      "\n",
      "angina medications:\n",
      "                           med  med_counts  percent\n",
      "0                 AZITHROMYCIN           8     4.91\n",
      "1                  AMOXICILLIN           4     2.45\n",
      "2                    IBUPROFEN           3     1.84\n",
      "3         LEVOTHYROXINE SODIUM           3     1.84\n",
      "4  APAP-HYDROCODONE BITARTRATE           3     1.84\n",
      "5                     PREMARIN           2     1.23\n",
      "6                   CEPHALEXIN           2     1.23\n",
      "7                      PRISTIQ           2     1.23\n",
      "8                  SIMVASTATIN           2     1.23\n",
      "9                     NAPROXEN           2     1.23\n",
      "\n",
      "highBP medications:\n",
      "                   med  med_counts  percent\n",
      "0           LISINOPRIL        1104     3.01\n",
      "1          SIMVASTATIN         743     2.03\n",
      "2         AZITHROMYCIN         673     1.84\n",
      "3  HYDROCHLOROTHIAZIDE         646     1.76\n",
      "4             ATENOLOL         503     1.37\n",
      "5          AMOXICILLIN         463     1.26\n",
      "6         HYDROCHLOROT         445     1.21\n",
      "7            IBUPROFEN         422     1.15\n",
      "8           AMLODIPINE         418     1.14\n",
      "9              LIPITOR         416     1.13\n",
      "\n",
      "heartFailure medications:\n",
      "              med  med_counts  percent\n",
      "0      FUROSEMIDE           3     5.00\n",
      "1      AMLODIPINE           2     3.33\n",
      "2       SYNTHROID           2     3.33\n",
      "3        TRAMADOL           2     3.33\n",
      "4      CARVEDILOL           2     3.33\n",
      "5    LISINOP-HCTZ           1     1.67\n",
      "6  ARMOUR THYROID           1     1.67\n",
      "7       ENALAPRIL           1     1.67\n",
      "8         LIPITOR           1     1.67\n",
      "9    PRENAVITE PC           1     1.67\n",
      "\n",
      "diabetes medications:\n",
      "            med  med_counts  percent\n",
      "0     METFORMIN         415     7.02\n",
      "1    LISINOPRIL         144     2.43\n",
      "2   SIMVASTATIN         135     2.28\n",
      "3         ACTOS         110     1.86\n",
      "4      ONETOUCH         108     1.83\n",
      "5     GLIPIZIDE          95     1.61\n",
      "6     GLYBURIDE          81     1.37\n",
      "7  AZITHROMYCIN          67     1.13\n",
      "8     HUMULIN N          66     1.12\n",
      "9       LIPITOR          66     1.12\n"
     ]
    }
   ],
   "source": [
    "top_rxnames = get_top_rxnames(disease_med_counts, top_n=10, \n",
    "                              print_stats=True)"
   ]
  },
  {
   "cell_type": "code",
   "execution_count": 50,
   "metadata": {
    "collapsed": false
   },
   "outputs": [
    {
     "data": {
      "text/plain": [
       "<matplotlib.text.Text at 0x11042fa90>"
      ]
     },
     "execution_count": 50,
     "metadata": {},
     "output_type": "execute_result"
    },
    {
     "data": {
      "image/png": "[encoded data removed]",
      "text/plain": [
       "<matplotlib.figure.Figure at 0x1103d8250>"
      ]
     },
     "metadata": {},
     "output_type": "display_data"
    }
   ],
   "source": [
    "rxname_count_highbp = get_disease_stats(disease_med_counts, disease='highBPDiagnosed_Yes',\n",
    "                                        top_n=30, print_stats=False)\n",
    "sorted_bp = rxname_count_highbp.sort_values(by='med_counts', ascending=False)\n",
    "sorted_bp.plot(x='med', y='percent', rot=30)\n",
    "plt.ylabel('Percent of total entries')\n",
    "plt.xlabel('Medication')\n",
    "plt.title('High Blood Pressure')"
   ]
  },
  {
   "cell_type": "code",
   "execution_count": 51,
   "metadata": {
    "collapsed": false
   },
   "outputs": [
    {
     "data": {
      "text/plain": [
       "<matplotlib.text.Text at 0x1105103d0>"
      ]
     },
     "execution_count": 51,
     "metadata": {},
     "output_type": "execute_result"
    },
    {
     "data": {
      "image/png": "[encoded data removed]",
      "text/plain": [
       "<matplotlib.figure.Figure at 0x10fdf8a90>"
      ]
     },
     "metadata": {},
     "output_type": "display_data"
    }
   ],
   "source": [
    "rxname_count_ast = get_disease_stats(disease_med_counts, disease='asthmaDiagnosed_Yes',\n",
    "                                        top_n=30, print_stats=False)\n",
    "sorted_ast = rxname_count_ast.sort_values(by='med_counts', ascending=False)\n",
    "sorted_ast.plot(x='med', y='percent', rot=30)\n",
    "plt.ylabel('Percent of total entries')\n",
    "plt.xlabel('Medication')\n",
    "plt.title('Asthma')"
   ]
  },
  {
   "cell_type": "markdown",
   "metadata": {},
   "source": [
    "<h2>Medications are most indicative of each disease</h2>"
   ]
  },
  {
   "cell_type": "markdown",
   "metadata": {},
   "source": [
    "<i>Approach</i>: Compute Pearson correlation coefficient for each medication against each possible disease.  This coefficient consists of the covariance between two variables divided by the product of each variable's standard deviation, and looks for a linear relationship between the given two variables (so this won't detect all types of correlation).  A coefficient of 1 means they are perfectly positively correlated, while a value of -1 means that they are perfectly negatively correlated.\n",
    "\n",
    "Limit our independent variables to the unioned and deduped most prevalent medications for each disease, which is 71 medications total."
   ]
  },
  {
   "cell_type": "markdown",
   "metadata": {},
   "source": [
    "<h3>Preparing the data</h3>"
   ]
  },
  {
   "cell_type": "code",
   "execution_count": 98,
   "metadata": {
    "collapsed": false
   },
   "outputs": [],
   "source": [
    "top_rxnames = get_top_rxnames(disease_med_counts, top_n=15, print_stats=False)"
   ]
  },
  {
   "cell_type": "code",
   "execution_count": 99,
   "metadata": {
    "collapsed": false
   },
   "outputs": [
    {
     "data": {
      "text/plain": [
       "71"
      ]
     },
     "execution_count": 99,
     "metadata": {},
     "output_type": "execute_result"
    }
   ],
   "source": [
    "len(top_rxnames) # Number of input variables"
   ]
  },
  {
   "cell_type": "code",
   "execution_count": 100,
   "metadata": {
    "collapsed": true
   },
   "outputs": [],
   "source": [
    "meds_input = meds_copy.copy(deep=True)"
   ]
  },
  {
   "cell_type": "code",
   "execution_count": 101,
   "metadata": {
    "collapsed": false
   },
   "outputs": [],
   "source": [
    "meds_input = meds_input[meds_input.rxName.isin(top_rxnames)]  # Filter for top rxnames and then drop dupes\n",
    "meds_input = meds_input[['id','rxName']]\n",
    "meds_input = meds_input.drop_duplicates()"
   ]
  },
  {
   "cell_type": "code",
   "execution_count": 102,
   "metadata": {
    "collapsed": false
   },
   "outputs": [],
   "source": [
    "rxname_dummies = pd.get_dummies(meds_input.rxName)  # make rxname classes have binary 1/0 values\n",
    "meds_input = pd.merge(meds_input[['id']], rxname_dummies, left_index=True, right_index=True)  # tack the ids back on"
   ]
  },
  {
   "cell_type": "code",
   "execution_count": 103,
   "metadata": {
    "collapsed": false
   },
   "outputs": [],
   "source": [
    "output = base_data.copy(deep=True)\n",
    "diagnoses = [i for i in output.columns if 'Diagnosed' in i]\n",
    "diagnoses_cols = ['id'] + diagnoses"
   ]
  },
  {
   "cell_type": "code",
   "execution_count": 104,
   "metadata": {
    "collapsed": false
   },
   "outputs": [],
   "source": [
    "output = output[diagnoses_cols]"
   ]
  },
  {
   "cell_type": "code",
   "execution_count": 105,
   "metadata": {
    "collapsed": false
   },
   "outputs": [
    {
     "data": {
      "text/plain": [
       "['No', 'Inapplicable', 'Yes', 'DK', 'not ascertained', 'Refused']"
      ]
     },
     "execution_count": 105,
     "metadata": {},
     "output_type": "execute_result"
    }
   ],
   "source": [
    "list(output.chdDiagnosed.unique())"
   ]
  },
  {
   "cell_type": "code",
   "execution_count": 201,
   "metadata": {
    "collapsed": false
   },
   "outputs": [
    {
     "data": {
      "text/plain": [
       "(61489, 61489)"
      ]
     },
     "execution_count": 201,
     "metadata": {},
     "output_type": "execute_result"
    }
   ],
   "source": [
    "all_outputs_data = match_input_output(meds_input, output, output_list=[])\n",
    "all_outputs_data = make_output_binary(all_outputs_data)\n",
    "# Sweet there are no conflicting diagnoses\n",
    "len(all_outputs_data.id.unique()), len(all_outputs_data)"
   ]
  },
  {
   "cell_type": "code",
   "execution_count": 202,
   "metadata": {
    "collapsed": true
   },
   "outputs": [],
   "source": [
    "X, Y = make_x_and_y(all_outputs_data)"
   ]
  },
  {
   "cell_type": "markdown",
   "metadata": {},
   "source": [
    "<h3>Get the correlations</h3>"
   ]
  },
  {
   "cell_type": "code",
   "execution_count": 219,
   "metadata": {
    "collapsed": false
   },
   "outputs": [],
   "source": [
    "all_corr = []\n",
    "for med in X.columns:\n",
    "    x_arr = np.array(X[med])\n",
    "    for disease in Y.columns:\n",
    "        y_arr = np.array(Y[disease])\n",
    "        cc = np.corrcoef(x_arr, y_arr)\n",
    "        one_entry = {\n",
    "            'med': med,\n",
    "            'disease': disease,\n",
    "            'corrcoef': round(cc[0,1], 3),\n",
    "        }\n",
    "        all_corr.append(one_entry)\n",
    "all_corr_df = pd.DataFrame(all_corr)"
   ]
  },
  {
   "cell_type": "markdown",
   "metadata": {},
   "source": [
    "Below, for each disease we show the top 10 correlated medications, or the medications that are most indicative of that given disease."
   ]
  },
  {
   "cell_type": "code",
   "execution_count": 235,
   "metadata": {
    "collapsed": false
   },
   "outputs": [
    {
     "name": "stdout",
     "output_type": "stream",
     "text": [
      "             disease                  med  corrcoef\n",
      "410  highBPDiagnosed           LISINOPRIL     0.379\n",
      "620  highBPDiagnosed          SIMVASTATIN     0.283\n",
      "310  highBPDiagnosed  HYDROCHLOROTHIAZIDE     0.271\n",
      "440  highBPDiagnosed            METFORMIN     0.243\n",
      "130  highBPDiagnosed             ATENOLOL     0.241\n",
      "70   highBPDiagnosed           AMLODIPINE     0.240\n",
      "80   highBPDiagnosed  AMLODIPINE BESYLATE     0.238\n",
      "300  highBPDiagnosed         HYDROCHLOROT     0.225\n",
      "250  highBPDiagnosed           FUROSEMIDE     0.223\n",
      "390  highBPDiagnosed              LIPITOR     0.206\n",
      "               disease           med  corrcoef\n",
      "441  diabetesDiagnosed     METFORMIN     0.619\n",
      "271  diabetesDiagnosed     GLIPIZIDE     0.343\n",
      "531  diabetesDiagnosed      ONETOUCH     0.337\n",
      "1    diabetesDiagnosed         ACTOS     0.333\n",
      "291  diabetesDiagnosed     HUMULIN N     0.303\n",
      "281  diabetesDiagnosed     GLYBURIDE     0.303\n",
      "351  diabetesDiagnosed        LANTUS     0.301\n",
      "511  diabetesDiagnosed     NOVOLIN N     0.290\n",
      "341  diabetesDiagnosed  INSULIN SYRG     0.284\n",
      "411  diabetesDiagnosed    LISINOPRIL     0.268\n",
      "          disease                  med  corrcoef\n",
      "552  chdDiagnosed               PLAVIX     0.333\n",
      "252  chdDiagnosed           FUROSEMIDE     0.277\n",
      "152  chdDiagnosed           CARVEDILOL     0.233\n",
      "482  chdDiagnosed  METOPROLOL TARTRATE     0.207\n",
      "622  chdDiagnosed          SIMVASTATIN     0.202\n",
      "462  chdDiagnosed           METOPROLOL     0.179\n",
      "392  chdDiagnosed              LIPITOR     0.178\n",
      "412  chdDiagnosed           LISINOPRIL     0.174\n",
      "692  chdDiagnosed             WARFARIN     0.167\n",
      "452  chdDiagnosed         METOPROL TAR     0.167\n",
      "         disease                  med  corrcoef\n",
      "553  miDiagnosed               PLAVIX     0.312\n",
      "253  miDiagnosed           FUROSEMIDE     0.226\n",
      "483  miDiagnosed  METOPROLOL TARTRATE     0.200\n",
      "153  miDiagnosed           CARVEDILOL     0.194\n",
      "623  miDiagnosed          SIMVASTATIN     0.171\n",
      "413  miDiagnosed           LISINOPRIL     0.160\n",
      "463  miDiagnosed           METOPROLOL     0.152\n",
      "393  miDiagnosed              LIPITOR     0.143\n",
      "453  miDiagnosed         METOPROL TAR     0.140\n",
      "693  miDiagnosed             WARFARIN     0.102\n",
      "             disease                  med  corrcoef\n",
      "554  anginaDiagnosed               PLAVIX     0.246\n",
      "254  anginaDiagnosed           FUROSEMIDE     0.176\n",
      "484  anginaDiagnosed  METOPROLOL TARTRATE     0.148\n",
      "624  anginaDiagnosed          SIMVASTATIN     0.124\n",
      "464  anginaDiagnosed           METOPROLOL     0.118\n",
      "454  anginaDiagnosed         METOPROL TAR     0.115\n",
      "154  anginaDiagnosed           CARVEDILOL     0.115\n",
      "524  anginaDiagnosed           OMEPRAZOLE     0.112\n",
      "394  anginaDiagnosed              LIPITOR     0.111\n",
      "414  anginaDiagnosed           LISINOPRIL     0.107\n",
      "             disease                  med  corrcoef\n",
      "555  strokeDiagnosed               PLAVIX     0.240\n",
      "255  strokeDiagnosed           FUROSEMIDE     0.176\n",
      "625  strokeDiagnosed          SIMVASTATIN     0.153\n",
      "415  strokeDiagnosed           LISINOPRIL     0.128\n",
      "695  strokeDiagnosed             WARFARIN     0.119\n",
      "155  strokeDiagnosed           CARVEDILOL     0.114\n",
      "485  strokeDiagnosed  METOPROLOL TARTRATE     0.107\n",
      "75   strokeDiagnosed           AMLODIPINE     0.095\n",
      "85   strokeDiagnosed  AMLODIPINE BESYLATE     0.095\n",
      "525  strokeDiagnosed           OMEPRAZOLE     0.088\n",
      "                disease            med  corrcoef\n",
      "646  emphysemaDiagnosed        SPIRIVA     0.330\n",
      "16   emphysemaDiagnosed   ADVAIR DISKU     0.129\n",
      "26   emphysemaDiagnosed  ADVAIR DISKUS     0.124\n",
      "256  emphysemaDiagnosed     FUROSEMIDE     0.120\n",
      "36   emphysemaDiagnosed      ALBUTEROL     0.119\n",
      "526  emphysemaDiagnosed     OMEPRAZOLE     0.097\n",
      "606  emphysemaDiagnosed     PROAIR HFA     0.095\n",
      "556  emphysemaDiagnosed         PLAVIX     0.094\n",
      "566  emphysemaDiagnosed     PREDNISONE     0.088\n",
      "266  emphysemaDiagnosed     GABAPENTIN     0.080\n",
      "             disease                med  corrcoef\n",
      "37   asthmaDiagnosed          ALBUTEROL     0.320\n",
      "637  asthmaDiagnosed          SINGULAIR     0.250\n",
      "607  asthmaDiagnosed         PROAIR HFA     0.246\n",
      "27   asthmaDiagnosed      ADVAIR DISKUS     0.186\n",
      "677  asthmaDiagnosed       VENTOLIN HFA     0.180\n",
      "17   asthmaDiagnosed       ADVAIR DISKU     0.174\n",
      "617  asthmaDiagnosed          PROVENTIL     0.159\n",
      "237  asthmaDiagnosed        FLOVENT HFA     0.146\n",
      "47   asthmaDiagnosed  ALBUTEROL SULFATE     0.130\n",
      "567  asthmaDiagnosed         PREDNISONE     0.120\n",
      "              disease                  med  corrcoef\n",
      "258  otherHDDiagnosed           FUROSEMIDE     0.236\n",
      "558  otherHDDiagnosed               PLAVIX     0.193\n",
      "158  otherHDDiagnosed           CARVEDILOL     0.188\n",
      "698  otherHDDiagnosed             WARFARIN     0.178\n",
      "488  otherHDDiagnosed  METOPROLOL TARTRATE     0.164\n",
      "628  otherHDDiagnosed          SIMVASTATIN     0.153\n",
      "418  otherHDDiagnosed           LISINOPRIL     0.151\n",
      "468  otherHDDiagnosed           METOPROLOL     0.145\n",
      "458  otherHDDiagnosed         METOPROL TAR     0.127\n",
      "138  otherHDDiagnosed             ATENOLOL     0.127\n",
      "                   disease                  med  corrcoef\n",
      "259  heartFailureDiagnosed           FUROSEMIDE     0.296\n",
      "159  heartFailureDiagnosed           CARVEDILOL     0.221\n",
      "419  heartFailureDiagnosed           LISINOPRIL     0.108\n",
      "559  heartFailureDiagnosed               PLAVIX     0.102\n",
      "699  heartFailureDiagnosed             WARFARIN     0.094\n",
      "489  heartFailureDiagnosed  METOPROLOL TARTRATE     0.085\n",
      "299  heartFailureDiagnosed            HUMULIN N     0.083\n",
      "359  heartFailureDiagnosed               LANTUS     0.072\n",
      "539  heartFailureDiagnosed             ONETOUCH     0.067\n",
      "459  heartFailureDiagnosed         METOPROL TAR     0.066\n"
     ]
    }
   ],
   "source": [
    "for disease in list(all_corr_df.disease.unique()):\n",
    "    subset = all_corr_df[all_corr_df.disease == disease]\n",
    "    subset = subset.sort_values(by='corrcoef', ascending=False)[0:10]\n",
    "    print subset[['disease', 'med', 'corrcoef']]"
   ]
  },
  {
   "cell_type": "markdown",
   "metadata": {},
   "source": [
    "<h2>Creating a model to predict disease state</h2>"
   ]
  },
  {
   "cell_type": "markdown",
   "metadata": {},
   "source": [
    "We want to take as input the medications prescribed and give as output what diseases a patient has.  This is a multi-output classification problem, since patients may have more than one disease.  We can approach this as a set of binary classification problems where we implement a one-vs-all strategy, or we can choose a model that does not require a problem transformation, such as a decision tree, random forest, or kNN.\n",
    "\n",
    "I will go with a decision tree.  Decision trees are a model that can handle categorical variables, multiple labels per sample, and can also compute human-interpretable feature importances.  Making label decisions by splitting on features is also easy to understand.  Decisions trees don't perform well with unbalanced classes, so it would be best if we rebalanced the disease classes that have a big difference between numbers of Yeses and Nos.  We could do this by undersampling the majority class label.\n",
    "\n",
    "- First take the top 10 medications for Yes in all the categories\n",
    "- Keep all the different classes for diagnoses\n",
    "- Make a decision tree!\n",
    "\n",
    "If I had more time I would compare the results of using Multiple Correspondance Analysis (MCA) with Canonical Correlation Analysis to reduce dimensionality.  MCA is the categorical variable equivalent of PCA, which transforms variables that are correlated into new feature eigenvectors."
   ]
  },
  {
   "cell_type": "markdown",
   "metadata": {},
   "source": [
    "<h3>Getting a decision tree working, first with just one output: highBPDiagnosed</h3>"
   ]
  },
  {
   "cell_type": "code",
   "execution_count": 191,
   "metadata": {
    "collapsed": true
   },
   "outputs": [],
   "source": [
    "binary_output = make_output_binary(output)"
   ]
  },
  {
   "cell_type": "code",
   "execution_count": 193,
   "metadata": {
    "collapsed": true
   },
   "outputs": [],
   "source": [
    "bp_data = match_input_output(meds_input, output,\n",
    "                             output_list=['highBPDiagnosed'])"
   ]
  },
  {
   "cell_type": "code",
   "execution_count": 195,
   "metadata": {
    "collapsed": false
   },
   "outputs": [
    {
     "data": {
      "text/plain": [
       "(61489, 61489)"
      ]
     },
     "execution_count": 195,
     "metadata": {},
     "output_type": "execute_result"
    }
   ],
   "source": [
    "len(bp_data.id.unique()), len(bp_data)  # No conflicting diagnoses"
   ]
  },
  {
   "cell_type": "markdown",
   "metadata": {},
   "source": [
    "Accuracy not great even on training set with only one output (67%).  As expected, somewhat lower accuracy for holdout/test set (60%)."
   ]
  },
  {
   "cell_type": "code",
   "execution_count": 189,
   "metadata": {
    "collapsed": false
   },
   "outputs": [
    {
     "name": "stdout",
     "output_type": "stream",
     "text": [
      "Num features: 71\n",
      "Num outputs: 1\n",
      "Num classes: 6\n",
      "Train set accuracy: 0.672\n",
      "Test set accuracy: 0.601\n",
      "Classes: ['DK', 'Inapplicable', 'No', 'Refused', 'Yes', 'not ascertained']\n"
     ]
    }
   ],
   "source": [
    "x_cols = [i for i in bp_data.columns if i != 'id' and i != 'highBPDiagnosed']\n",
    "X = bp_data[x_cols]\n",
    "Y = bp_data[['highBPDiagnosed']]\n",
    "clf = fit_tree(X, Y, test_size=0.2, random_state=223)"
   ]
  },
  {
   "cell_type": "code",
   "execution_count": 114,
   "metadata": {
    "collapsed": false
   },
   "outputs": [
    {
     "data": {
      "text/plain": [
       "['DK', 'Inapplicable', 'No', 'Yes']"
      ]
     },
     "execution_count": 114,
     "metadata": {},
     "output_type": "execute_result"
    }
   ],
   "source": [
    "sorted(set(Y_predict))  # It didn't predict any Refused or not ascertained, \n",
    "                        # probably because they are so rare."
   ]
  },
  {
   "cell_type": "markdown",
   "metadata": {},
   "source": [
    "Let's try only using the Yes and No data and fill in the other labels with the mode"
   ]
  },
  {
   "cell_type": "code",
   "execution_count": 111,
   "metadata": {
    "collapsed": false
   },
   "outputs": [
    {
     "name": "stdout",
     "output_type": "stream",
     "text": [
      "Num features: 71\n",
      "Num outputs: 1\n",
      "Num classes: 2\n",
      "Train set accuracy: 0.916\n",
      "Test set accuracy: 0.866\n",
      "Classes: ['No', 'Yes']\n"
     ]
    }
   ],
   "source": [
    "x_cols = [i for i in bp_data.columns if i != 'id' and i != 'highBPDiagnosed']\n",
    "\n",
    "# Turn all non Yes and No things into mode\n",
    "diagnosis_mode = bp_data[bp_data.highBPDiagnosed.isin(('Yes', 'No'))].highBPDiagnosed.mode()[0]\n",
    "diagnosis_classes = list(bp_data.highBPDiagnosed.unique())\n",
    "non_binary = [i for i in diagnosis_classes if i not in ('Yes', 'No')]\n",
    "bp_binary = bp_data.copy(deep=True)\n",
    "\n",
    "for class_label in non_binary:\n",
    "    bp_binary = bp_binary.replace(class_label, diagnosis_mode)\n",
    "\n",
    "X = bp_binary[x_cols]\n",
    "Y = bp_binary[['highBPDiagnosed']]\n",
    "clf_bp = fit_tree(X, Y, test_size=0.2, random_state=211)"
   ]
  },
  {
   "cell_type": "markdown",
   "metadata": {},
   "source": [
    "Accuracy is a lot higher now: 92% for training and 87% for testing.  But we are assuming the non-binary decisions are the same as the mode, for simplicity.  With more time, I would try some undersampling of the mode labels, since some of the category labels are quite unbalanced between Yes and No."
   ]
  },
  {
   "cell_type": "markdown",
   "metadata": {},
   "source": [
    "Below, we see that precision is pretty good for both Nos and Yeses (87% and 80% respectively) but low recall for Yeses (51%)."
   ]
  },
  {
   "cell_type": "code",
   "execution_count": 112,
   "metadata": {
    "collapsed": false
   },
   "outputs": [
    {
     "name": "stdout",
     "output_type": "stream",
     "text": [
      "Classes: ['No', 'Yes']\n",
      "Precision: [ 0.87831142  0.79545455]\n",
      "Recall: [ 0.96150636  0.52912979]\n",
      "Fscore: [ 0.91802789  0.63551816]\n",
      "Support: [9586 2712]\n"
     ]
    }
   ],
   "source": [
    "X_train, X_test, Y_train, Y_test = train_test_split(\n",
    "    X, Y, test_size=0.2, random_state=211\n",
    ")\n",
    "Y_test_predict = clf_bp.predict(X_test)\n",
    "\n",
    "# By default returns label stats in alphabetical order of labels.\n",
    "precision, recall, fscore, support = precision_recall_fscore_support(Y_test, Y_test_predict) \n",
    "classes = sorted(list(clf_bp.classes_))\n",
    "\n",
    "print 'Classes: {}'.format(classes)\n",
    "print 'Precision: {}\\nRecall: {}\\nFscore: {}\\nSupport: {}'.format(precision, recall, fscore, support)"
   ]
  },
  {
   "cell_type": "markdown",
   "metadata": {},
   "source": [
    "<h2>Decision tree final multi-output model</h2>"
   ]
  },
  {
   "cell_type": "markdown",
   "metadata": {},
   "source": [
    "Now using the 71 medication features with all of the possible disease state outputs.  Uses same meds_input and output dataframes we used to compute correlations. "
   ]
  },
  {
   "cell_type": "code",
   "execution_count": 118,
   "metadata": {
    "collapsed": false
   },
   "outputs": [
    {
     "data": {
      "text/plain": [
       "(61489, 61489)"
      ]
     },
     "execution_count": 118,
     "metadata": {},
     "output_type": "execute_result"
    }
   ],
   "source": [
    "all_outputs_data = match_input_output(meds_input, output, output_list=[])\n",
    "all_outputs_data = make_output_binary(all_outputs_data)"
   ]
  },
  {
   "cell_type": "code",
   "execution_count": 119,
   "metadata": {
    "collapsed": true
   },
   "outputs": [],
   "source": [
    "X, Y = make_x_and_y(all_outputs_data)"
   ]
  },
  {
   "cell_type": "markdown",
   "metadata": {},
   "source": [
    "First without CCA, the 71-feature decision tree performs okay but not great. Training set 83% accuracy, testing set 70% accuracy.  The score function for the decision tree is strict and requires that *all* labels are correct for a given entry in order for it to be counted as correct.  \n",
    "\n",
    "Stats are pretty stable over a few different random seeds for breaking up train and test sets.  An 80/20 split for train/test is used."
   ]
  },
  {
   "cell_type": "code",
   "execution_count": 123,
   "metadata": {
    "collapsed": false
   },
   "outputs": [
    {
     "name": "stdout",
     "output_type": "stream",
     "text": [
      "Num features: 71\n",
      "Num outputs: 10\n",
      "Num classes: [2 2 2 2 2 2 2 2 2 2]\n",
      "Train set accuracy: 0.826\n",
      "Test set accuracy: 0.703\n",
      "Classes: [array([0, 1]), array([0, 1]), array([0, 1]), array([0, 1]), array([0, 1]), array([0, 1]), array([0, 1]), array([0, 1]), array([0, 1]), array([0, 1])]\n"
     ]
    }
   ],
   "source": [
    "clf_all = fit_tree(X, Y, test_size=0.2, random_state=13)"
   ]
  },
  {
   "cell_type": "code",
   "execution_count": 124,
   "metadata": {
    "collapsed": false
   },
   "outputs": [
    {
     "name": "stdout",
     "output_type": "stream",
     "text": [
      "Num features: 71\n",
      "Num outputs: 10\n",
      "Num classes: [2 2 2 2 2 2 2 2 2 2]\n",
      "Train set accuracy: 0.825\n",
      "Test set accuracy: 0.702\n",
      "Classes: [array([0, 1]), array([0, 1]), array([0, 1]), array([0, 1]), array([0, 1]), array([0, 1]), array([0, 1]), array([0, 1]), array([0, 1]), array([0, 1])]\n"
     ]
    }
   ],
   "source": [
    "clf_all = fit_tree(X, Y, test_size=0.2, random_state=9)"
   ]
  },
  {
   "cell_type": "code",
   "execution_count": 163,
   "metadata": {
    "collapsed": false
   },
   "outputs": [
    {
     "name": "stdout",
     "output_type": "stream",
     "text": [
      "Num features: 71\n",
      "Num outputs: 10\n",
      "Num classes: [2 2 2 2 2 2 2 2 2 2]\n",
      "Train set accuracy: 0.826\n",
      "Test set accuracy: 0.702\n",
      "Classes: [array([0, 1]), array([0, 1]), array([0, 1]), array([0, 1]), array([0, 1]), array([0, 1]), array([0, 1]), array([0, 1]), array([0, 1]), array([0, 1])]\n"
     ]
    }
   ],
   "source": [
    "clf_all = fit_tree(X, Y, test_size=0.2, random_state=77)"
   ]
  },
  {
   "cell_type": "markdown",
   "metadata": {},
   "source": [
    "Let's try Canonical Correlation Analysis (CCA), which transforms features in a way that maximizes the correlation between independent and dependent variables.  With a 5-component CCA below, the accuracy seems virtually the same (train 83% accuracy, test 70% accuracy).  Maybe it's because we already curated the original feature space down to 71 features.  I tried a 10-component CCA as well, but the transform did not converge."
   ]
  },
  {
   "cell_type": "code",
   "execution_count": 161,
   "metadata": {
    "collapsed": false
   },
   "outputs": [
    {
     "data": {
      "text/plain": [
       "CCA(copy=True, max_iter=500, n_components=5, scale=True, tol=1e-06)"
      ]
     },
     "execution_count": 161,
     "metadata": {},
     "output_type": "execute_result"
    }
   ],
   "source": [
    "cca = CCA(n_components=5)\n",
    "cca.fit(X, Y)"
   ]
  },
  {
   "cell_type": "code",
   "execution_count": 171,
   "metadata": {
    "collapsed": true
   },
   "outputs": [],
   "source": [
    "X_cca = cca.transform(X)"
   ]
  },
  {
   "cell_type": "code",
   "execution_count": 172,
   "metadata": {
    "collapsed": false
   },
   "outputs": [
    {
     "name": "stdout",
     "output_type": "stream",
     "text": [
      "Num features: 5\n",
      "Num outputs: 10\n",
      "Num classes: [2 2 2 2 2 2 2 2 2 2]\n",
      "Train set accuracy: 0.827\n",
      "Test set accuracy: 0.696\n",
      "Classes: [array([0, 1]), array([0, 1]), array([0, 1]), array([0, 1]), array([0, 1]), array([0, 1]), array([0, 1]), array([0, 1]), array([0, 1]), array([0, 1])]\n"
     ]
    }
   ],
   "source": [
    "clf_cca = fit_tree(X_cca, Y, test_size=0.2, random_state=1137)"
   ]
  },
  {
   "cell_type": "code",
   "execution_count": 126,
   "metadata": {
    "collapsed": false
   },
   "outputs": [],
   "source": [
    "feature_importances = pd.DataFrame(zip(list(X.columns), list(clf_all.feature_importances_)),\n",
    "             columns=['feature', 'importance'])"
   ]
  },
  {
   "cell_type": "markdown",
   "metadata": {},
   "source": [
    "Looking at feature importances (Gini importance) below, for non-CCA features.  Larger importances mean a feature has better ability to distinguish between labels accurately.  Metformin has the highest importance, probably because it dominated in the diabetes Yes diagnoses, and to a larger extent than any of the other diagnoses' top medications.  Lisinopril was present in many of the top 10 medications but was farther down in asthma in particular.  Furosemide and Albuterol both dominated only in one diagnosis each, so would also be useful for selecting one particular disease.\n",
    "\n",
    "Caveat: we are assuming the non-binary decisions are the same as the mode, for simplicity.  With more time, I would also try some undersampling of the No labels, since some of the disease category labels are quite unbalanced between Yes and No."
   ]
  },
  {
   "cell_type": "code",
   "execution_count": 127,
   "metadata": {
    "collapsed": false
   },
   "outputs": [
    {
     "data": {
      "text/html": [
       "<div>\n",
       "<table border=\"1\" class=\"dataframe\">\n",
       "  <thead>\n",
       "    <tr style=\"text-align: right;\">\n",
       "      <th></th>\n",
       "      <th>feature</th>\n",
       "      <th>importance</th>\n",
       "    </tr>\n",
       "  </thead>\n",
       "  <tbody>\n",
       "    <tr>\n",
       "      <th>44</th>\n",
       "      <td>METFORMIN</td>\n",
       "      <td>0.116958</td>\n",
       "    </tr>\n",
       "    <tr>\n",
       "      <th>41</th>\n",
       "      <td>LISINOPRIL</td>\n",
       "      <td>0.082107</td>\n",
       "    </tr>\n",
       "    <tr>\n",
       "      <th>25</th>\n",
       "      <td>FUROSEMIDE</td>\n",
       "      <td>0.042527</td>\n",
       "    </tr>\n",
       "    <tr>\n",
       "      <th>3</th>\n",
       "      <td>ALBUTEROL</td>\n",
       "      <td>0.032218</td>\n",
       "    </tr>\n",
       "    <tr>\n",
       "      <th>55</th>\n",
       "      <td>PLAVIX</td>\n",
       "      <td>0.031208</td>\n",
       "    </tr>\n",
       "    <tr>\n",
       "      <th>31</th>\n",
       "      <td>HYDROCHLOROTHIAZIDE</td>\n",
       "      <td>0.031173</td>\n",
       "    </tr>\n",
       "    <tr>\n",
       "      <th>62</th>\n",
       "      <td>SIMVASTATIN</td>\n",
       "      <td>0.027606</td>\n",
       "    </tr>\n",
       "    <tr>\n",
       "      <th>7</th>\n",
       "      <td>AMLODIPINE</td>\n",
       "      <td>0.027042</td>\n",
       "    </tr>\n",
       "    <tr>\n",
       "      <th>13</th>\n",
       "      <td>ATENOLOL</td>\n",
       "      <td>0.025368</td>\n",
       "    </tr>\n",
       "    <tr>\n",
       "      <th>14</th>\n",
       "      <td>AZITHROMYCIN</td>\n",
       "      <td>0.023262</td>\n",
       "    </tr>\n",
       "    <tr>\n",
       "      <th>48</th>\n",
       "      <td>METOPROLOL TARTRATE</td>\n",
       "      <td>0.018560</td>\n",
       "    </tr>\n",
       "    <tr>\n",
       "      <th>39</th>\n",
       "      <td>LIPITOR</td>\n",
       "      <td>0.017757</td>\n",
       "    </tr>\n",
       "    <tr>\n",
       "      <th>52</th>\n",
       "      <td>OMEPRAZOLE</td>\n",
       "      <td>0.016576</td>\n",
       "    </tr>\n",
       "    <tr>\n",
       "      <th>8</th>\n",
       "      <td>AMLODIPINE BESYLATE</td>\n",
       "      <td>0.016096</td>\n",
       "    </tr>\n",
       "    <tr>\n",
       "      <th>9</th>\n",
       "      <td>AMOXICILLIN</td>\n",
       "      <td>0.015593</td>\n",
       "    </tr>\n",
       "    <tr>\n",
       "      <th>60</th>\n",
       "      <td>PROAIR HFA</td>\n",
       "      <td>0.014895</td>\n",
       "    </tr>\n",
       "    <tr>\n",
       "      <th>33</th>\n",
       "      <td>IBUPROFEN</td>\n",
       "      <td>0.013545</td>\n",
       "    </tr>\n",
       "    <tr>\n",
       "      <th>15</th>\n",
       "      <td>CARVEDILOL</td>\n",
       "      <td>0.013019</td>\n",
       "    </tr>\n",
       "    <tr>\n",
       "      <th>56</th>\n",
       "      <td>PREDNISONE</td>\n",
       "      <td>0.012903</td>\n",
       "    </tr>\n",
       "    <tr>\n",
       "      <th>26</th>\n",
       "      <td>GABAPENTIN</td>\n",
       "      <td>0.012789</td>\n",
       "    </tr>\n",
       "  </tbody>\n",
       "</table>\n",
       "</div>"
      ],
      "text/plain": [
       "                feature  importance\n",
       "44            METFORMIN    0.116958\n",
       "41           LISINOPRIL    0.082107\n",
       "25           FUROSEMIDE    0.042527\n",
       "3             ALBUTEROL    0.032218\n",
       "55               PLAVIX    0.031208\n",
       "31  HYDROCHLOROTHIAZIDE    0.031173\n",
       "62          SIMVASTATIN    0.027606\n",
       "7            AMLODIPINE    0.027042\n",
       "13             ATENOLOL    0.025368\n",
       "14         AZITHROMYCIN    0.023262\n",
       "48  METOPROLOL TARTRATE    0.018560\n",
       "39              LIPITOR    0.017757\n",
       "52           OMEPRAZOLE    0.016576\n",
       "8   AMLODIPINE BESYLATE    0.016096\n",
       "9           AMOXICILLIN    0.015593\n",
       "60           PROAIR HFA    0.014895\n",
       "33            IBUPROFEN    0.013545\n",
       "15           CARVEDILOL    0.013019\n",
       "56           PREDNISONE    0.012903\n",
       "26           GABAPENTIN    0.012789"
      ]
     },
     "execution_count": 127,
     "metadata": {},
     "output_type": "execute_result"
    }
   ],
   "source": [
    "feature_importances.sort_values(by='importance', ascending=False)[0:20]  "
   ]
  },
  {
   "cell_type": "markdown",
   "metadata": {},
   "source": [
    "Below, we still see name variations in these top medication names ('HYDROCHLOROT' vs 'HYDROCHLOROTHIAZIDE').  Something that could be ameliorated by further deduping via database of chemical names and abbrevations, or fuzzy matching of strings."
   ]
  },
  {
   "cell_type": "code",
   "execution_count": 128,
   "metadata": {
    "collapsed": false
   },
   "outputs": [
    {
     "data": {
      "text/plain": [
       "Index([u'ACTOS', u'ADVAIR DISKU', u'ADVAIR DISKUS', u'ALBUTEROL',\n",
       "       u'ALBUTEROL SULFATE', u'ALLOPURINOL', u'ALPRAZOLAM', u'AMLODIPINE',\n",
       "       u'AMLODIPINE BESYLATE', u'AMOXICILLIN', u'AMOXIL',\n",
       "       u'APAP-HYDROCODONE BITARTRATE', u'ARMOUR THYROID', u'ATENOLOL',\n",
       "       u'AZITHROMYCIN', u'CARVEDILOL', u'CEPHALEXIN', u'CIPROFLOXACIN',\n",
       "       u'CITALOPRAM HYDROBROMIDE', u'CLONAZEPAM', u'DIAZEPAM', u'ENALAPRIL',\n",
       "       u'FLOMAX', u'FLOVENT HFA', u'FLUOXETINE', u'FUROSEMIDE', u'GABAPENTIN',\n",
       "       u'GLIPIZIDE', u'GLYBURIDE', u'HUMULIN N', u'HYDROCHLOROT',\n",
       "       u'HYDROCHLOROTHIAZIDE', u'HYDROCO-APAP', u'IBUPROFEN', u'INSULIN SYRG',\n",
       "       u'LANTUS', u'LEVOTHYROXIN', u'LEVOTHYROXINE SODIUM', u'LEXAPRO',\n",
       "       u'LIPITOR', u'LISINOP-HCTZ', u'LISINOPRIL', u'LORATADINE', u'MECLIZINE',\n",
       "       u'METFORMIN', u'METOPROL TAR', u'METOPROLOL',\n",
       "       u'METOPROLOL SUCCINATE ER', u'METOPROLOL TARTRATE', u'NAPROXEN',\n",
       "       u'NASONEX', u'NOVOLIN N', u'OMEPRAZOLE', u'ONETOUCH', u'PANTOPRAZOLE',\n",
       "       u'PLAVIX', u'PREDNISONE', u'PREMARIN', u'PRENAVITE PC', u'PRISTIQ',\n",
       "       u'PROAIR HFA', u'PROVENTIL', u'SIMVASTATIN', u'SINGULAIR', u'SPIRIVA',\n",
       "       u'SYNTHROID', u'TRAMADOL', u'VENTOLIN HFA', u'VITAMIN D', u'WARFARIN',\n",
       "       u'ZITHROMAX'],\n",
       "      dtype='object')"
      ]
     },
     "execution_count": 128,
     "metadata": {},
     "output_type": "execute_result"
    }
   ],
   "source": [
    "X.columns"
   ]
  }
 ],
 "metadata": {
  "kernelspec": {
   "display_name": "Python 2",
   "language": "python",
   "name": "python2"
  },
  "language_info": {
   "codemirror_mode": {
    "name": "ipython",
    "version": 2
   },
   "file_extension": ".py",
   "mimetype": "text/x-python",
   "name": "python",
   "nbconvert_exporter": "python",
   "pygments_lexer": "ipython2",
   "version": "2.7.11"
  }
 },
 "nbformat": 4,
 "nbformat_minor": 0
}

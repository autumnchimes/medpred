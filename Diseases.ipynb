{
 "cells": [
  {
   "cell_type": "markdown",
   "metadata": {},
   "source": [
    "<h2>Imports and Globals</h2>"
   ]
  },
  {
   "cell_type": "code",
   "execution_count": 2,
   "metadata": {
    "collapsed": false
   },
   "outputs": [],
   "source": [
    "%matplotlib inline"
   ]
  },
  {
   "cell_type": "code",
   "execution_count": 3,
   "metadata": {
    "collapsed": true
   },
   "outputs": [],
   "source": [
    "from __future__ import absolute_import\n",
    "import os\n",
    "import random\n",
    "import re\n",
    "\n",
    "from scipy.stats import chisquare\n",
    "from sklearn import linear_model, preprocessing\n",
    "from sklearn.decomposition import PCA\n",
    "\n",
    "import matplotlib.pyplot as plt\n",
    "import numpy as np\n",
    "import pandas as pd\n",
    "import seaborn as sns\n",
    "\n",
    "DATA_DIR = '/Users/emiwang/Learning/notebooks/medpred/data/'\n",
    "BASE_FILE = 'meps_base_data.csv'\n",
    "MEDS_FILE = 'meps_meds.csv'\n",
    "\n",
    "plt.style.use('ggplot')"
   ]
  },
  {
   "cell_type": "markdown",
   "metadata": {},
   "source": [
    "<h2>Functions</h2>"
   ]
  },
  {
   "cell_type": "markdown",
   "metadata": {},
   "source": [
    "<h2>Exploring the datasets</h2>"
   ]
  },
  {
   "cell_type": "code",
   "execution_count": 4,
   "metadata": {
    "collapsed": false
   },
   "outputs": [],
   "source": [
    "base_data = pd.read_csv(os.path.join(DATA_DIR, BASE_FILE))\n",
    "meds_data = pd.read_csv(os.path.join(DATA_DIR, MEDS_FILE))"
   ]
  },
  {
   "cell_type": "markdown",
   "metadata": {},
   "source": [
    "<h3>Base data</h3>"
   ]
  },
  {
   "cell_type": "code",
   "execution_count": 5,
   "metadata": {
    "collapsed": false
   },
   "outputs": [
    {
     "data": {
      "text/html": [
       "<div>\n",
       "<table border=\"1\" class=\"dataframe\">\n",
       "  <thead>\n",
       "    <tr style=\"text-align: right;\">\n",
       "      <th></th>\n",
       "      <th>panel</th>\n",
       "      <th>pooledWeight</th>\n",
       "      <th>age</th>\n",
       "    </tr>\n",
       "  </thead>\n",
       "  <tbody>\n",
       "    <tr>\n",
       "      <th>count</th>\n",
       "      <td>61489.000000</td>\n",
       "      <td>61489.000000</td>\n",
       "      <td>61489.000000</td>\n",
       "    </tr>\n",
       "    <tr>\n",
       "      <th>mean</th>\n",
       "      <td>13.534453</td>\n",
       "      <td>5063.701982</td>\n",
       "      <td>33.578396</td>\n",
       "    </tr>\n",
       "    <tr>\n",
       "      <th>std</th>\n",
       "      <td>1.061329</td>\n",
       "      <td>3815.885387</td>\n",
       "      <td>22.887576</td>\n",
       "    </tr>\n",
       "    <tr>\n",
       "      <th>min</th>\n",
       "      <td>12.000000</td>\n",
       "      <td>127.710358</td>\n",
       "      <td>-1.000000</td>\n",
       "    </tr>\n",
       "    <tr>\n",
       "      <th>25%</th>\n",
       "      <td>13.000000</td>\n",
       "      <td>2217.419038</td>\n",
       "      <td>14.000000</td>\n",
       "    </tr>\n",
       "    <tr>\n",
       "      <th>50%</th>\n",
       "      <td>14.000000</td>\n",
       "      <td>3989.180418</td>\n",
       "      <td>32.000000</td>\n",
       "    </tr>\n",
       "    <tr>\n",
       "      <th>75%</th>\n",
       "      <td>14.000000</td>\n",
       "      <td>6905.677619</td>\n",
       "      <td>51.000000</td>\n",
       "    </tr>\n",
       "    <tr>\n",
       "      <th>max</th>\n",
       "      <td>15.000000</td>\n",
       "      <td>38828.153564</td>\n",
       "      <td>85.000000</td>\n",
       "    </tr>\n",
       "  </tbody>\n",
       "</table>\n",
       "</div>"
      ],
      "text/plain": [
       "              panel  pooledWeight           age\n",
       "count  61489.000000  61489.000000  61489.000000\n",
       "mean      13.534453   5063.701982     33.578396\n",
       "std        1.061329   3815.885387     22.887576\n",
       "min       12.000000    127.710358     -1.000000\n",
       "25%       13.000000   2217.419038     14.000000\n",
       "50%       14.000000   3989.180418     32.000000\n",
       "75%       14.000000   6905.677619     51.000000\n",
       "max       15.000000  38828.153564     85.000000"
      ]
     },
     "execution_count": 5,
     "metadata": {},
     "output_type": "execute_result"
    }
   ],
   "source": [
    "# There are ages of -1?  No data?  What is pooledWeight and what are the units?\n",
    "base_data[['panel', 'pooledWeight', 'age']].describe()"
   ]
  },
  {
   "cell_type": "code",
   "execution_count": 6,
   "metadata": {
    "collapsed": false
   },
   "outputs": [
    {
     "data": {
      "text/html": [
       "<div>\n",
       "<table border=\"1\" class=\"dataframe\">\n",
       "  <thead>\n",
       "    <tr style=\"text-align: right;\">\n",
       "      <th></th>\n",
       "      <th>12</th>\n",
       "      <th>13</th>\n",
       "      <th>14</th>\n",
       "      <th>15</th>\n",
       "    </tr>\n",
       "  </thead>\n",
       "  <tbody>\n",
       "    <tr>\n",
       "      <th>0</th>\n",
       "      <td>0.0</td>\n",
       "      <td>0.0</td>\n",
       "      <td>0.0</td>\n",
       "      <td>1.0</td>\n",
       "    </tr>\n",
       "  </tbody>\n",
       "</table>\n",
       "</div>"
      ],
      "text/plain": [
       "    12   13   14   15\n",
       "0  0.0  0.0  0.0  1.0"
      ]
     },
     "execution_count": 6,
     "metadata": {},
     "output_type": "execute_result"
    }
   ],
   "source": [
    "pd.get_dummies(base_data.panel)[:1]  # There are 4 panels; perhaps this data consists of 4 surveys."
   ]
  },
  {
   "cell_type": "code",
   "execution_count": 7,
   "metadata": {
    "collapsed": false
   },
   "outputs": [
    {
     "data": {
      "text/plain": [
       "2.777732602579323"
      ]
     },
     "execution_count": 7,
     "metadata": {},
     "output_type": "execute_result"
    }
   ],
   "source": [
    "100 * float(base_data[base_data.age==-1].count().id) / len(base_data)  # 2.8% of entries have no valid age"
   ]
  },
  {
   "cell_type": "code",
   "execution_count": 8,
   "metadata": {
    "collapsed": false
   },
   "outputs": [
    {
     "data": {
      "text/plain": [
       "(61489, 61489)"
      ]
     },
     "execution_count": 8,
     "metadata": {},
     "output_type": "execute_result"
    }
   ],
   "source": [
    "len(base_data), len(base_data.drop_duplicates())  # No completely duplicate entries"
   ]
  },
  {
   "cell_type": "code",
   "execution_count": 9,
   "metadata": {
    "collapsed": false
   },
   "outputs": [
    {
     "data": {
      "text/plain": [
       "(61489, 61315)"
      ]
     },
     "execution_count": 9,
     "metadata": {},
     "output_type": "execute_result"
    }
   ],
   "source": [
    "# Remove the unnamed index, id, and panel columns\n",
    "subset_cols = [i for i in base_data.columns if i not in ('Unnamed: 0', 'id', 'panel')]\n",
    "# Check for duplicates: less than 1% are duplicated\n",
    "len(base_data), len(base_data.drop_duplicates(subset=subset_cols))"
   ]
  },
  {
   "cell_type": "code",
   "execution_count": 10,
   "metadata": {
    "collapsed": false
   },
   "outputs": [],
   "source": [
    "subset_base_data = base_data.copy(deep=True)\n",
    "subset_base_data = subset_base_data[subset_cols]\n",
    "subset_base_data['entry_count'] = 1"
   ]
  },
  {
   "cell_type": "code",
   "execution_count": 11,
   "metadata": {
    "collapsed": false
   },
   "outputs": [],
   "source": [
    "dupe_count = subset_base_data.groupby(subset_cols).count()\n",
    "# dupe_count[dupe_count.entry_count > 1].head()"
   ]
  },
  {
   "cell_type": "code",
   "execution_count": 12,
   "metadata": {
    "collapsed": false
   },
   "outputs": [
    {
     "data": {
      "text/plain": [
       "<matplotlib.text.Text at 0x11569cd50>"
      ]
     },
     "execution_count": 12,
     "metadata": {},
     "output_type": "execute_result"
    },
    {
     "data": {
      "image/png": "[encoded data removed]",
      "text/plain": [
       "<matplotlib.figure.Figure at 0x115176390>"
      ]
     },
     "metadata": {},
     "output_type": "display_data"
    }
   ],
   "source": [
    "dupe_count.entry_count.hist(bins=10)\n",
    "plt.title('Counts of identical base data entries\\nexcluding index, id, panel columns')\n",
    "plt.xlabel('Counts of a given entry')\n",
    "plt.ylabel('Unique entries')\n",
    "plt.text(1.3, 30000, 'No entries are duplicated more than once', fontsize=12)"
   ]
  },
  {
   "cell_type": "code",
   "execution_count": 13,
   "metadata": {
    "collapsed": false
   },
   "outputs": [
    {
     "data": {
      "text/html": [
       "<div>\n",
       "<table border=\"1\" class=\"dataframe\">\n",
       "  <thead>\n",
       "    <tr style=\"text-align: right;\">\n",
       "      <th></th>\n",
       "      <th>Unnamed: 0</th>\n",
       "      <th>id</th>\n",
       "      <th>panel</th>\n",
       "      <th>pooledWeight</th>\n",
       "      <th>age</th>\n",
       "      <th>sex</th>\n",
       "      <th>race</th>\n",
       "      <th>married</th>\n",
       "      <th>highBPDiagnosed</th>\n",
       "      <th>diabetesDiagnosed</th>\n",
       "      <th>chdDiagnosed</th>\n",
       "      <th>miDiagnosed</th>\n",
       "      <th>anginaDiagnosed</th>\n",
       "      <th>strokeDiagnosed</th>\n",
       "      <th>emphysemaDiagnosed</th>\n",
       "      <th>asthmaDiagnosed</th>\n",
       "      <th>otherHDDiagnosed</th>\n",
       "      <th>heartFailureDiagnosed</th>\n",
       "    </tr>\n",
       "  </thead>\n",
       "  <tbody>\n",
       "    <tr>\n",
       "      <th>0</th>\n",
       "      <td>1</td>\n",
       "      <td>10007101</td>\n",
       "      <td>15</td>\n",
       "      <td>3603.881236</td>\n",
       "      <td>28</td>\n",
       "      <td>Male</td>\n",
       "      <td>White</td>\n",
       "      <td>MARRIED</td>\n",
       "      <td>Yes</td>\n",
       "      <td>No</td>\n",
       "      <td>No</td>\n",
       "      <td>No</td>\n",
       "      <td>No</td>\n",
       "      <td>No</td>\n",
       "      <td>No</td>\n",
       "      <td>No</td>\n",
       "      <td>No</td>\n",
       "      <td>No</td>\n",
       "    </tr>\n",
       "    <tr>\n",
       "      <th>1</th>\n",
       "      <td>2</td>\n",
       "      <td>10007102</td>\n",
       "      <td>15</td>\n",
       "      <td>2544.550424</td>\n",
       "      <td>25</td>\n",
       "      <td>Female</td>\n",
       "      <td>White</td>\n",
       "      <td>MARRIED</td>\n",
       "      <td>No</td>\n",
       "      <td>No</td>\n",
       "      <td>No</td>\n",
       "      <td>No</td>\n",
       "      <td>No</td>\n",
       "      <td>No</td>\n",
       "      <td>No</td>\n",
       "      <td>Yes</td>\n",
       "      <td>No</td>\n",
       "      <td>No</td>\n",
       "    </tr>\n",
       "    <tr>\n",
       "      <th>2</th>\n",
       "      <td>3</td>\n",
       "      <td>10007103</td>\n",
       "      <td>15</td>\n",
       "      <td>4050.397468</td>\n",
       "      <td>4</td>\n",
       "      <td>Male</td>\n",
       "      <td>White</td>\n",
       "      <td>UNDER 16 - INAPPLICABLE</td>\n",
       "      <td>Inapplicable</td>\n",
       "      <td>Inapplicable</td>\n",
       "      <td>Inapplicable</td>\n",
       "      <td>Inapplicable</td>\n",
       "      <td>Inapplicable</td>\n",
       "      <td>Inapplicable</td>\n",
       "      <td>Inapplicable</td>\n",
       "      <td>No</td>\n",
       "      <td>Inapplicable</td>\n",
       "      <td>No</td>\n",
       "    </tr>\n",
       "    <tr>\n",
       "      <th>3</th>\n",
       "      <td>4</td>\n",
       "      <td>10007104</td>\n",
       "      <td>15</td>\n",
       "      <td>3064.059720</td>\n",
       "      <td>3</td>\n",
       "      <td>Female</td>\n",
       "      <td>White</td>\n",
       "      <td>UNDER 16 - INAPPLICABLE</td>\n",
       "      <td>Inapplicable</td>\n",
       "      <td>Inapplicable</td>\n",
       "      <td>Inapplicable</td>\n",
       "      <td>Inapplicable</td>\n",
       "      <td>Inapplicable</td>\n",
       "      <td>Inapplicable</td>\n",
       "      <td>Inapplicable</td>\n",
       "      <td>No</td>\n",
       "      <td>Inapplicable</td>\n",
       "      <td>No</td>\n",
       "    </tr>\n",
       "    <tr>\n",
       "      <th>4</th>\n",
       "      <td>5</td>\n",
       "      <td>10008101</td>\n",
       "      <td>15</td>\n",
       "      <td>3635.552466</td>\n",
       "      <td>51</td>\n",
       "      <td>Male</td>\n",
       "      <td>Multiple</td>\n",
       "      <td>MARRIED</td>\n",
       "      <td>No</td>\n",
       "      <td>No</td>\n",
       "      <td>No</td>\n",
       "      <td>No</td>\n",
       "      <td>No</td>\n",
       "      <td>No</td>\n",
       "      <td>No</td>\n",
       "      <td>No</td>\n",
       "      <td>No</td>\n",
       "      <td>No</td>\n",
       "    </tr>\n",
       "  </tbody>\n",
       "</table>\n",
       "</div>"
      ],
      "text/plain": [
       "   Unnamed: 0        id  panel  pooledWeight  age     sex      race  \\\n",
       "0           1  10007101     15   3603.881236   28    Male     White   \n",
       "1           2  10007102     15   2544.550424   25  Female     White   \n",
       "2           3  10007103     15   4050.397468    4    Male     White   \n",
       "3           4  10007104     15   3064.059720    3  Female     White   \n",
       "4           5  10008101     15   3635.552466   51    Male  Multiple   \n",
       "\n",
       "                   married highBPDiagnosed diabetesDiagnosed  chdDiagnosed  \\\n",
       "0                  MARRIED             Yes                No            No   \n",
       "1                  MARRIED              No                No            No   \n",
       "2  UNDER 16 - INAPPLICABLE    Inapplicable      Inapplicable  Inapplicable   \n",
       "3  UNDER 16 - INAPPLICABLE    Inapplicable      Inapplicable  Inapplicable   \n",
       "4                  MARRIED              No                No            No   \n",
       "\n",
       "    miDiagnosed anginaDiagnosed strokeDiagnosed emphysemaDiagnosed  \\\n",
       "0            No              No              No                 No   \n",
       "1            No              No              No                 No   \n",
       "2  Inapplicable    Inapplicable    Inapplicable       Inapplicable   \n",
       "3  Inapplicable    Inapplicable    Inapplicable       Inapplicable   \n",
       "4            No              No              No                 No   \n",
       "\n",
       "  asthmaDiagnosed otherHDDiagnosed heartFailureDiagnosed  \n",
       "0              No               No                    No  \n",
       "1             Yes               No                    No  \n",
       "2              No     Inapplicable                    No  \n",
       "3              No     Inapplicable                    No  \n",
       "4              No               No                    No  "
      ]
     },
     "execution_count": 13,
     "metadata": {},
     "output_type": "execute_result"
    }
   ],
   "source": [
    "base_data.head()  # If people are under 16 they can't be married?  Or question is omitted if patient under 16?"
   ]
  },
  {
   "cell_type": "code",
   "execution_count": 14,
   "metadata": {
    "collapsed": true
   },
   "outputs": [],
   "source": [
    "base_copy = base_data.copy(deep=True)\n",
    "base_copy = base_copy.drop('Unnamed: 0', 1)"
   ]
  },
  {
   "cell_type": "code",
   "execution_count": 15,
   "metadata": {
    "collapsed": false,
    "scrolled": true
   },
   "outputs": [
    {
     "name": "stdout",
     "output_type": "stream",
     "text": [
      "        entry_count\n",
      "sex                \n",
      "Female        32075\n",
      "Male          29414\n",
      "                                  entry_count\n",
      "race                                         \n",
      "Amer Indian/Alaska Native                 623\n",
      "Asian                                    4080\n",
      "Black                                   12325\n",
      "Multiple                                 1358\n",
      "Native Hawaiian/Pacific Islander          234\n",
      "White                                   42869\n",
      "                         entry_count\n",
      "married                             \n",
      "DIVORCED                        3196\n",
      "DIVORCED IN ROUND               1238\n",
      "INAPPLICABLE                    1708\n",
      "MARRIED                        21424\n",
      "MARRIED IN ROUND                1021\n",
      "NEVER MARRIED                  13435\n",
      "SEPARATED                        672\n",
      "SEPARATED IN ROUND               615\n",
      "UNDER 16 - INAPPLICABLE        15515\n",
      "WIDOWED                         2294\n",
      "WIDOWED IN ROUND                 371\n",
      "                 entry_count\n",
      "highBPDiagnosed             \n",
      "DK                        48\n",
      "Inapplicable           18270\n",
      "No                     29525\n",
      "Refused                    4\n",
      "Yes                    13637\n",
      "not ascertained            5\n",
      "                   entry_count\n",
      "diabetesDiagnosed             \n",
      "DK                          19\n",
      "Inapplicable             18270\n",
      "No                       38848\n",
      "Refused                      5\n",
      "Yes                       4340\n",
      "not ascertained              7\n",
      "                 entry_count\n",
      "chdDiagnosed                \n",
      "DK                        36\n",
      "Inapplicable           18270\n",
      "No                     40844\n",
      "Refused                    4\n",
      "Yes                     2328\n",
      "not ascertained            7\n",
      "                 entry_count\n",
      "miDiagnosed                 \n",
      "DK                        22\n",
      "Inapplicable           18270\n",
      "No                     41658\n",
      "Refused                    5\n",
      "Yes                     1527\n",
      "not ascertained            7\n",
      "                 entry_count\n",
      "anginaDiagnosed             \n",
      "DK                        37\n",
      "Inapplicable           18270\n",
      "No                     42031\n",
      "Refused                    6\n",
      "Yes                     1138\n",
      "not ascertained            7\n",
      "                 entry_count\n",
      "strokeDiagnosed             \n",
      "DK                        20\n",
      "Inapplicable           18270\n",
      "No                     41630\n",
      "Refused                    5\n",
      "Yes                     1556\n",
      "not ascertained            8\n",
      "                    entry_count\n",
      "emphysemaDiagnosed             \n",
      "DK                           15\n",
      "Inapplicable              18270\n",
      "No                        42285\n",
      "Refused                       5\n",
      "Yes                         907\n",
      "not ascertained               7\n",
      "                 entry_count\n",
      "asthmaDiagnosed             \n",
      "DK                        19\n",
      "Inapplicable            1035\n",
      "No                     54425\n",
      "Refused                    8\n",
      "Yes                     6001\n",
      "not ascertained            1\n",
      "                  entry_count\n",
      "otherHDDiagnosed             \n",
      "DK                         21\n",
      "Inapplicable            18270\n",
      "No                      39317\n",
      "Refused                     5\n",
      "Yes                      3868\n",
      "not ascertained             8\n",
      "                       entry_count\n",
      "heartFailureDiagnosed             \n",
      "No                           61056\n",
      "Yes                            433\n"
     ]
    }
   ],
   "source": [
    "# Looking at frequencies for categorical variables\n",
    "base_copy['entry_count'] = 1\n",
    "cat_cols = [i for i in base_data.columns if i not in ('Unnamed: 0', 'id', 'panel', 'age', 'pooledWeight')]\n",
    "for column in cat_cols:\n",
    "    print base_copy.groupby(column).count()[['entry_count']]"
   ]
  },
  {
   "cell_type": "markdown",
   "metadata": {},
   "source": [
    "<h3>Prescribed meds data</h3>"
   ]
  },
  {
   "cell_type": "code",
   "execution_count": 18,
   "metadata": {
    "collapsed": false
   },
   "outputs": [
    {
     "data": {
      "text/html": [
       "<div>\n",
       "<table border=\"1\" class=\"dataframe\">\n",
       "  <thead>\n",
       "    <tr style=\"text-align: right;\">\n",
       "      <th></th>\n",
       "      <th>Unnamed: 0</th>\n",
       "      <th>id</th>\n",
       "      <th>rxStartMonth</th>\n",
       "      <th>rxStartYear</th>\n",
       "      <th>rxNDC</th>\n",
       "      <th>rxQuantity</th>\n",
       "    </tr>\n",
       "  </thead>\n",
       "  <tbody>\n",
       "    <tr>\n",
       "      <th>count</th>\n",
       "      <td>1.148347e+06</td>\n",
       "      <td>1.148347e+06</td>\n",
       "      <td>1.148347e+06</td>\n",
       "      <td>1.148347e+06</td>\n",
       "      <td>1.148347e+06</td>\n",
       "      <td>1.148347e+06</td>\n",
       "    </tr>\n",
       "    <tr>\n",
       "      <th>mean</th>\n",
       "      <td>1.240252e+06</td>\n",
       "      <td>5.523596e+07</td>\n",
       "      <td>5.184600e-01</td>\n",
       "      <td>1.172427e+03</td>\n",
       "      <td>2.226109e+10</td>\n",
       "      <td>5.942380e+01</td>\n",
       "    </tr>\n",
       "    <tr>\n",
       "      <th>std</th>\n",
       "      <td>9.590400e+05</td>\n",
       "      <td>2.728584e+07</td>\n",
       "      <td>4.087907e+00</td>\n",
       "      <td>9.895660e+02</td>\n",
       "      <td>2.834269e+10</td>\n",
       "      <td>3.702845e+02</td>\n",
       "    </tr>\n",
       "    <tr>\n",
       "      <th>min</th>\n",
       "      <td>1.000000e+00</td>\n",
       "      <td>1.000710e+07</td>\n",
       "      <td>-9.000000e+00</td>\n",
       "      <td>-1.400000e+01</td>\n",
       "      <td>-9.000000e+00</td>\n",
       "      <td>-9.000000e+00</td>\n",
       "    </tr>\n",
       "    <tr>\n",
       "      <th>25%</th>\n",
       "      <td>2.870875e+05</td>\n",
       "      <td>4.063810e+07</td>\n",
       "      <td>-1.000000e+00</td>\n",
       "      <td>-1.000000e+00</td>\n",
       "      <td>1.490472e+08</td>\n",
       "      <td>3.000000e+01</td>\n",
       "    </tr>\n",
       "    <tr>\n",
       "      <th>50%</th>\n",
       "      <td>1.093262e+06</td>\n",
       "      <td>4.947510e+07</td>\n",
       "      <td>-1.000000e+00</td>\n",
       "      <td>2.000000e+03</td>\n",
       "      <td>5.910385e+08</td>\n",
       "      <td>3.000000e+01</td>\n",
       "    </tr>\n",
       "    <tr>\n",
       "      <th>75%</th>\n",
       "      <td>2.103602e+06</td>\n",
       "      <td>8.118210e+07</td>\n",
       "      <td>1.000000e+00</td>\n",
       "      <td>2.008000e+03</td>\n",
       "      <td>5.486835e+10</td>\n",
       "      <td>6.800000e+01</td>\n",
       "    </tr>\n",
       "    <tr>\n",
       "      <th>max</th>\n",
       "      <td>3.336212e+06</td>\n",
       "      <td>8.968810e+07</td>\n",
       "      <td>1.200000e+01</td>\n",
       "      <td>2.011000e+03</td>\n",
       "      <td>9.920707e+10</td>\n",
       "      <td>1.200000e+05</td>\n",
       "    </tr>\n",
       "  </tbody>\n",
       "</table>\n",
       "</div>"
      ],
      "text/plain": [
       "         Unnamed: 0            id  rxStartMonth   rxStartYear         rxNDC  \\\n",
       "count  1.148347e+06  1.148347e+06  1.148347e+06  1.148347e+06  1.148347e+06   \n",
       "mean   1.240252e+06  5.523596e+07  5.184600e-01  1.172427e+03  2.226109e+10   \n",
       "std    9.590400e+05  2.728584e+07  4.087907e+00  9.895660e+02  2.834269e+10   \n",
       "min    1.000000e+00  1.000710e+07 -9.000000e+00 -1.400000e+01 -9.000000e+00   \n",
       "25%    2.870875e+05  4.063810e+07 -1.000000e+00 -1.000000e+00  1.490472e+08   \n",
       "50%    1.093262e+06  4.947510e+07 -1.000000e+00  2.000000e+03  5.910385e+08   \n",
       "75%    2.103602e+06  8.118210e+07  1.000000e+00  2.008000e+03  5.486835e+10   \n",
       "max    3.336212e+06  8.968810e+07  1.200000e+01  2.011000e+03  9.920707e+10   \n",
       "\n",
       "         rxQuantity  \n",
       "count  1.148347e+06  \n",
       "mean   5.942380e+01  \n",
       "std    3.702845e+02  \n",
       "min   -9.000000e+00  \n",
       "25%    3.000000e+01  \n",
       "50%    3.000000e+01  \n",
       "75%    6.800000e+01  \n",
       "max    1.200000e+05  "
      ]
     },
     "execution_count": 18,
     "metadata": {},
     "output_type": "execute_result"
    }
   ],
   "source": [
    "meds_data.describe()  # Missing start month and start year represented as negative numbers?"
   ]
  },
  {
   "cell_type": "code",
   "execution_count": 19,
   "metadata": {
    "collapsed": false
   },
   "outputs": [
    {
     "data": {
      "text/html": [
       "<div>\n",
       "<table border=\"1\" class=\"dataframe\">\n",
       "  <thead>\n",
       "    <tr style=\"text-align: right;\">\n",
       "      <th></th>\n",
       "      <th>Unnamed: 0</th>\n",
       "      <th>id</th>\n",
       "      <th>rxStartMonth</th>\n",
       "      <th>rxStartYear</th>\n",
       "      <th>rxName</th>\n",
       "      <th>rxNDC</th>\n",
       "      <th>rxQuantity</th>\n",
       "      <th>rxForm</th>\n",
       "    </tr>\n",
       "  </thead>\n",
       "  <tbody>\n",
       "    <tr>\n",
       "      <th>0</th>\n",
       "      <td>1</td>\n",
       "      <td>10007104</td>\n",
       "      <td>3</td>\n",
       "      <td>2011</td>\n",
       "      <td>AMOXICILLIN</td>\n",
       "      <td>143988775</td>\n",
       "      <td>75.0</td>\n",
       "      <td>SUSR</td>\n",
       "    </tr>\n",
       "    <tr>\n",
       "      <th>1</th>\n",
       "      <td>2</td>\n",
       "      <td>10007104</td>\n",
       "      <td>3</td>\n",
       "      <td>2011</td>\n",
       "      <td>OTIC EDGE SOLUTION</td>\n",
       "      <td>68032032814</td>\n",
       "      <td>14.0</td>\n",
       "      <td>SOL</td>\n",
       "    </tr>\n",
       "    <tr>\n",
       "      <th>2</th>\n",
       "      <td>3</td>\n",
       "      <td>10008102</td>\n",
       "      <td>3</td>\n",
       "      <td>2011</td>\n",
       "      <td>NASAL DECONGESTANT 0.05% SPRAY</td>\n",
       "      <td>63981056903</td>\n",
       "      <td>15.0</td>\n",
       "      <td>SPR</td>\n",
       "    </tr>\n",
       "    <tr>\n",
       "      <th>3</th>\n",
       "      <td>4</td>\n",
       "      <td>10008102</td>\n",
       "      <td>3</td>\n",
       "      <td>2011</td>\n",
       "      <td>NASAL DECONGESTANT 0.05% SPRAY</td>\n",
       "      <td>63981056903</td>\n",
       "      <td>15.0</td>\n",
       "      <td>SPR</td>\n",
       "    </tr>\n",
       "    <tr>\n",
       "      <th>4</th>\n",
       "      <td>5</td>\n",
       "      <td>10008102</td>\n",
       "      <td>9</td>\n",
       "      <td>2011</td>\n",
       "      <td>DIPHENHYDRAM</td>\n",
       "      <td>603333921</td>\n",
       "      <td>30.0</td>\n",
       "      <td>CAP</td>\n",
       "    </tr>\n",
       "  </tbody>\n",
       "</table>\n",
       "</div>"
      ],
      "text/plain": [
       "   Unnamed: 0        id  rxStartMonth  rxStartYear  \\\n",
       "0           1  10007104             3         2011   \n",
       "1           2  10007104             3         2011   \n",
       "2           3  10008102             3         2011   \n",
       "3           4  10008102             3         2011   \n",
       "4           5  10008102             9         2011   \n",
       "\n",
       "                           rxName        rxNDC  rxQuantity rxForm  \n",
       "0                     AMOXICILLIN    143988775        75.0   SUSR  \n",
       "1              OTIC EDGE SOLUTION  68032032814        14.0    SOL  \n",
       "2  NASAL DECONGESTANT 0.05% SPRAY  63981056903        15.0    SPR  \n",
       "3  NASAL DECONGESTANT 0.05% SPRAY  63981056903        15.0    SPR  \n",
       "4                    DIPHENHYDRAM    603333921        30.0    CAP  "
      ]
     },
     "execution_count": 19,
     "metadata": {},
     "output_type": "execute_result"
    }
   ],
   "source": [
    "meds_data.head()"
   ]
  },
  {
   "cell_type": "code",
   "execution_count": 20,
   "metadata": {
    "collapsed": false
   },
   "outputs": [
    {
     "data": {
      "text/plain": [
       "(1148347, 1148347)"
      ]
     },
     "execution_count": 20,
     "metadata": {},
     "output_type": "execute_result"
    }
   ],
   "source": [
    "len(meds_data), len(meds_data.drop_duplicates())  # Also no completely duplicate rows here"
   ]
  },
  {
   "cell_type": "markdown",
   "metadata": {},
   "source": [
    "There are a lot of different rxNames.  Maybe some are named by chemical name and others are named by brand name.  And some could just be duped because of spacing or spelling.  How specific are these?  For instance, \"Nasal Decongestant\" seems rather vague."
   ]
  },
  {
   "cell_type": "code",
   "execution_count": 21,
   "metadata": {
    "collapsed": false
   },
   "outputs": [
    {
     "data": {
      "text/plain": [
       "(9218, 28736, 328)"
      ]
     },
     "execution_count": 21,
     "metadata": {},
     "output_type": "execute_result"
    }
   ],
   "source": [
    "len(meds_data.rxName.unique()), len(meds_data.rxNDC.unique()), len(meds_data.rxForm.unique())"
   ]
  },
  {
   "cell_type": "markdown",
   "metadata": {},
   "source": [
    "A quick look at sorted names already reveals some obvious duplicates, e.g. ' HYDROCHLOROTHIAZIDE (HCTZ)' vs. ' HYDROCHLOROTHIZAIDE'.  That number in front of some meds seems like it is a category code."
   ]
  },
  {
   "cell_type": "code",
   "execution_count": 22,
   "metadata": {
    "collapsed": false
   },
   "outputs": [
    {
     "data": {
      "text/plain": [
       "[' CLOPIDOGREL',\n",
       " ' HYDROCHLOROTHIAZIDE (HCTZ)',\n",
       " ' HYDROCHLOROTHIZAIDE',\n",
       " ' LIPITOR',\n",
       " '(ARMOUR) THYROID (1GR)',\n",
       " '-9',\n",
       " '1 ANTI-INFECTIVES',\n",
       " '1.5 INCH 27 GAUGE NEEDLE',\n",
       " '1/2ML TB SYR',\n",
       " '10',\n",
       " '105 MISCELLANEOUS AGENTS',\n",
       " '113 GENITOURINARY TRACT AGENTS',\n",
       " '115 NUTRITIONAL PRODUCTS',\n",
       " '122 RESPIRATORY AGENTS',\n",
       " '133 TOPICAL AGENTS',\n",
       " '1CC TB SYRNG27GX1/2\"',\n",
       " '1ML TB SYRNG',\n",
       " '20 ANTINEOPLASTICS',\n",
       " '218 ALTERNATIVE MEDICINES',\n",
       " '242 PSYCHOTHERAPEUTIC AGENTS']"
      ]
     },
     "execution_count": 22,
     "metadata": {},
     "output_type": "execute_result"
    }
   ],
   "source": [
    "sorted(list(meds_data.rxName.unique()))[0:20]"
   ]
  },
  {
   "cell_type": "markdown",
   "metadata": {},
   "source": [
    "Looking at specific drug strings to understand the duping situation.  There are punctuation variations for drug combinations, so we should treat the &, AND, -, and / situations as equivalent.  Possibly eliminate things in parentheses, since they tend to be commentary on the form of the prescription."
   ]
  },
  {
   "cell_type": "code",
   "execution_count": 23,
   "metadata": {
    "collapsed": false
   },
   "outputs": [
    {
     "data": {
      "text/plain": [
       "{'ZYPREXA',\n",
       " 'ZYPREXA (IDENTI-DOSE)',\n",
       " 'ZYPREXA 10MG',\n",
       " 'ZYPREXA 15MG',\n",
       " 'ZYPREXA ZYDI',\n",
       " 'ZYPREXA ZYDIS',\n",
       " 'ZYPREXA ZYDIS (DOSE PACK)'}"
      ]
     },
     "execution_count": 23,
     "metadata": {},
     "output_type": "execute_result"
    }
   ],
   "source": [
    "zyp_set = set([i for i in meds_data.rxName if 'ZYPREXA' in i])\n",
    "zyp_set"
   ]
  },
  {
   "cell_type": "code",
   "execution_count": 24,
   "metadata": {
    "collapsed": false
   },
   "outputs": [
    {
     "data": {
      "text/plain": [
       "{' HYDROCHLOROTHIAZIDE (HCTZ)',\n",
       " 'AMILORIDE HCL-HYDROCHLOROTHIAZIDE',\n",
       " 'BENAZEPRIL HCL/HYDROCHLOROTHIAZIDE',\n",
       " 'BENAZEPRIL HCL/HYDROCHLOROTHIAZIDE (FILM-COATED)',\n",
       " 'BENAZEPRIL-HYDROCHLOROTHIAZIDE',\n",
       " 'BISOPROLOL & HYDROCHLOROTHIAZIDE',\n",
       " 'BISOPROLOL-HYDROCHLOROTHIAZIDE',\n",
       " 'CAPTOPRIL-HYDROCHLOROTHIAZIDE',\n",
       " 'ENALAPRIL-HYDROCHLOROTHIAZIDE',\n",
       " 'ENALPRIL/HYDROCHLOROTHIAZIDE',\n",
       " 'FOSINOPRIL-HYDROCHLOROTHIAZIDE',\n",
       " 'HYDROCHLOROTHIAZIDE',\n",
       " 'HYDROCHLOROTHIAZIDE (HARD GELATIN)',\n",
       " 'HYDROCHLOROTHIAZIDE (HCTZ)',\n",
       " 'HYDROCHLOROTHIAZIDE (UNIT OF USE)',\n",
       " 'HYDROCHLOROTHIAZIDE (USP)',\n",
       " 'HYDROCHLOROTHIAZIDE 25 MG',\n",
       " 'HYDROCHLOROTHIAZIDE 25 MG TABLET',\n",
       " 'HYDROCHLOROTHIAZIDE-LISINOPRIL',\n",
       " 'HYDROCHLOROTHIAZIDE-METOPROLOL',\n",
       " 'HYDROCHLOROTHIAZIDE-MOEXIPRIL HYDROCHLORIDE',\n",
       " 'HYDROCHLOROTHIAZIDE-PO 25MG TAB',\n",
       " 'HYDROCHLOROTHIAZIDE-PROPRANOLOL',\n",
       " 'HYDROCHLOROTHIAZIDE-QUINAPRIL HYDROCHLORIDE',\n",
       " 'HYDROCHLOROTHIAZIDE-SPIRONOLACTONE',\n",
       " 'HYDROCHLOROTHIAZIDE-TRIAMTERENE',\n",
       " 'HYDROCHLOROTHIAZIDE/LISINOPRIL',\n",
       " 'HYDROCHLOROTHIAZIDE/TRIAMTERENE',\n",
       " 'LISINOPRIL AND HYDROCHLOROTHIAZIDE',\n",
       " 'LISINOPRIL-HYDROCHLOROTHIAZIDE',\n",
       " 'LISINOPRIL/HYDROCHLOROTHIAZIDE',\n",
       " 'LOSARTAN POTASSIUM & HYDROCHLOROTHIAZIDE',\n",
       " 'QUINAPRIL/HYDROCHLOROTHIAZIDE',\n",
       " 'SPIRONOLACTONE/HYDROCHLOROTHIAZIDE',\n",
       " 'TRIAMTERENE & HYDROCHLOROTHIAZIDE',\n",
       " 'TRIAMTERENE AND HYDROCHLOROTHIAZIDE',\n",
       " 'TRIAMTERENE/HYDROCHLOROTHIAZIDE',\n",
       " 'VALSARTAN-HYDROCHLOROTHIAZIDE'}"
      ]
     },
     "execution_count": 24,
     "metadata": {},
     "output_type": "execute_result"
    }
   ],
   "source": [
    "hctz_set = set([i for i in meds_data.rxName if 'HYDROCHLOROTHIAZIDE' in i])\n",
    "hctz_set"
   ]
  },
  {
   "cell_type": "code",
   "execution_count": 24,
   "metadata": {
    "collapsed": false
   },
   "outputs": [
    {
     "data": {
      "text/plain": [
       "['TRIAMT/HCTZ',\n",
       " 'BISOPRL/HCTZ',\n",
       " 'TRIMT/HCTZ',\n",
       " 'ENALAPR/HCTZ',\n",
       " 'MAXZIDE-25 <HCTZ/TRIAM>',\n",
       " 'TRAIMTERENE/HCTZ',\n",
       " 'LISINO-HCTZ',\n",
       " 'LISINOP /HCTZ',\n",
       " 'BISOPROLOL/HCTZ (10X10)',\n",
       " 'LOSARTAN-HCTZ']"
      ]
     },
     "execution_count": 24,
     "metadata": {},
     "output_type": "execute_result"
    }
   ],
   "source": [
    "list(set([i for i in meds_data.rxName if 'HCTZ' in i]))[0:10]  # Abbreviations also cause duping.  Ignore for now."
   ]
  },
  {
   "cell_type": "code",
   "execution_count": 25,
   "metadata": {
    "collapsed": false
   },
   "outputs": [
    {
     "data": {
      "text/plain": [
       "['VICODIN <HYDROCOD/APAP>',\n",
       " 'VICODIN <HYDROCOD/APAP>',\n",
       " 'VICODIN <HYDROCOD/APAP>',\n",
       " 'VICODIN <HYDROCOD/APAP>',\n",
       " 'VICODIN <HYDROCOD/APAP>',\n",
       " 'VICODIN <HYDROCOD/APAP>',\n",
       " 'MAXZIDE-25 <HCTZ/TRIAM>',\n",
       " 'MAXZIDE-25 <HCTZ/TRIAM>']"
      ]
     },
     "execution_count": 25,
     "metadata": {},
     "output_type": "execute_result"
    }
   ],
   "source": [
    "[i for i in meds_data.rxName if '<' in i or '>' in i][0:10]  # Brand names and chemical abbreviations"
   ]
  },
  {
   "cell_type": "code",
   "execution_count": 26,
   "metadata": {
    "collapsed": false
   },
   "outputs": [
    {
     "data": {
      "text/plain": [
       "{'VICODIN',\n",
       " 'VICODIN 5 MG/500 MG',\n",
       " 'VICODIN <HYDROCOD/APAP>',\n",
       " 'VICODIN EQUIV',\n",
       " 'VICODIN ES',\n",
       " 'VICODIN ES (R.N.P.,4X25)',\n",
       " 'VICODIN HP',\n",
       " 'VICODIN TUSS EXPECTORANT (AF,SF,DYE-FREE,CHERRY)',\n",
       " 'VICODIN/EQUIV'}"
      ]
     },
     "execution_count": 26,
     "metadata": {},
     "output_type": "execute_result"
    }
   ],
   "source": [
    "# But sometimes the brand names don't include chemical names.  Ignore for now.\n",
    "set([i for i in meds_data.rxName if 'VICODIN' in i])"
   ]
  },
  {
   "cell_type": "code",
   "execution_count": 27,
   "metadata": {
    "collapsed": false
   },
   "outputs": [
    {
     "data": {
      "text/plain": [
       "['DICYCLOMINE HCL (BERRY)',\n",
       " 'DIPHENOXYLATE HCL',\n",
       " 'AMLODIPINE BESYLATE-BENAZEPRIL HCL',\n",
       " 'RANITIDINE HCL',\n",
       " 'TRAZODONE HCL 100 MG TAB',\n",
       " 'NEFAZODONE HYDROCHLORIDE',\n",
       " 'ZIPRASIDONE HCL',\n",
       " 'DOXEPIN HCL',\n",
       " 'PILOCARPINE HCL',\n",
       " 'DORZOLAMIDE HYDROCHLORIDE - TIMOLOL (1X10ML)']"
      ]
     },
     "execution_count": 27,
     "metadata": {},
     "output_type": "execute_result"
    }
   ],
   "source": [
    "# HCL/Hydrochloride is a common name at the end of a salt: https://en.wikipedia.org/wiki/Hydrochloride\n",
    "# Let's remove all trailing HCL and Hydrochloride\n",
    "list(set([i for i in meds_data.rxName if 'HYDROCHLORIDE' in i or 'HCL' in i]))[0:10]"
   ]
  },
  {
   "cell_type": "code",
   "execution_count": 28,
   "metadata": {
    "collapsed": true
   },
   "outputs": [],
   "source": [
    "def clean_rxname(rxname):\n",
    "    \"\"\"Make string substitutions to dedupe rxnames.\n",
    "    \n",
    "    Remove all parenthetical statements.\n",
    "    Remove all statements after a comma.\n",
    "    Remove HCL and HYDROCHLORIDE groups.\n",
    "    Replace ' AND ', '/', ' & ' with '-'.\n",
    "    Truncate trailing ' TABLET', ' TAB'.\n",
    "    Strip trailing and leading spaces.\n",
    "\n",
    "    \"\"\"\n",
    "    replacements = [\n",
    "        ('\\([\\w\\s\\D]+\\)', ''),\n",
    "        (',[\\w\\s\\D]+', ''),\n",
    "        ('\\([-,/\\w^\\)]+\\Z',''),  \n",
    "        (' HCL', ''),\n",
    "        (' HYDROCHLORIDE', ''),\n",
    "        (' AND ', '-'),\n",
    "        (' & ', '-'),\n",
    "        ('/', '-'),\n",
    "        (' TABLET\\Z', ''),\n",
    "        (' TAB\\Z', '')\n",
    "    ]\n",
    "    for pattern in replacements:\n",
    "        rxname = re.sub(pattern[0], pattern[1], rxname)\n",
    "    rxname = rxname.rstrip().lstrip()\n",
    "    return rxname"
   ]
  },
  {
   "cell_type": "code",
   "execution_count": 29,
   "metadata": {
    "collapsed": false
   },
   "outputs": [
    {
     "data": {
      "text/plain": [
       "'ab '"
      ]
     },
     "execution_count": 29,
     "metadata": {},
     "output_type": "execute_result"
    }
   ],
   "source": [
    "re.sub('\\([-,/\\w^\\)]+\\Z','','ab (bb,woo/hoo,lee-t')  # This works for everything except trailing whitespace"
   ]
  },
  {
   "cell_type": "code",
   "execution_count": 30,
   "metadata": {
    "collapsed": false
   },
   "outputs": [
    {
     "data": {
      "text/plain": [
       "'ab (bb,woo/hoo,lee-t) eh'"
      ]
     },
     "execution_count": 30,
     "metadata": {},
     "output_type": "execute_result"
    }
   ],
   "source": [
    "# Won't get rid of everything if there is close parens;\n",
    "# that will be eliminated by our open/close paren matching pattern.\n",
    "re.sub('\\([-,/\\w^\\)]+\\Z','','ab (bb,woo/hoo,lee-t) eh')  "
   ]
  },
  {
   "cell_type": "code",
   "execution_count": 31,
   "metadata": {
    "collapsed": false
   },
   "outputs": [
    {
     "data": {
      "text/plain": [
       "'HYDROCHLOROTHIAZIDE-MEEP-RAINBOW-CHARMS'"
      ]
     },
     "execution_count": 31,
     "metadata": {},
     "output_type": "execute_result"
    }
   ],
   "source": [
    "clean_rxname(' HYDROCHLOROTHIAZIDE AND MEEP & RAINBOW/CHARMS (FILM-COATED 22 MG)')"
   ]
  },
  {
   "cell_type": "code",
   "execution_count": 32,
   "metadata": {
    "collapsed": false
   },
   "outputs": [
    {
     "data": {
      "text/plain": [
       "{'AMILORIDE-HYDROCHLOROTHIAZIDE',\n",
       " 'BENAZEPRIL-HYDROCHLOROTHIAZIDE',\n",
       " 'BISOPROLOL-HYDROCHLOROTHIAZIDE',\n",
       " 'CAPTOPRIL-HYDROCHLOROTHIAZIDE',\n",
       " 'ENALAPRIL-HYDROCHLOROTHIAZIDE',\n",
       " 'ENALPRIL-HYDROCHLOROTHIAZIDE',\n",
       " 'FOSINOPRIL-HYDROCHLOROTHIAZIDE',\n",
       " 'HYDROCHLOROTHIAZIDE',\n",
       " 'HYDROCHLOROTHIAZIDE 25 MG',\n",
       " 'HYDROCHLOROTHIAZIDE-LISINOPRIL',\n",
       " 'HYDROCHLOROTHIAZIDE-METOPROLOL',\n",
       " 'HYDROCHLOROTHIAZIDE-MOEXIPRIL',\n",
       " 'HYDROCHLOROTHIAZIDE-PO 25MG',\n",
       " 'HYDROCHLOROTHIAZIDE-PROPRANOLOL',\n",
       " 'HYDROCHLOROTHIAZIDE-QUINAPRIL',\n",
       " 'HYDROCHLOROTHIAZIDE-SPIRONOLACTONE',\n",
       " 'HYDROCHLOROTHIAZIDE-TRIAMTERENE',\n",
       " 'LISINOPRIL-HYDROCHLOROTHIAZIDE',\n",
       " 'LOSARTAN POTASSIUM-HYDROCHLOROTHIAZIDE',\n",
       " 'QUINAPRIL-HYDROCHLOROTHIAZIDE',\n",
       " 'SPIRONOLACTONE-HYDROCHLOROTHIAZIDE',\n",
       " 'TRIAMTERENE-HYDROCHLOROTHIAZIDE',\n",
       " 'VALSARTAN-HYDROCHLOROTHIAZIDE'}"
      ]
     },
     "execution_count": 32,
     "metadata": {},
     "output_type": "execute_result"
    }
   ],
   "source": [
    "hctz_clean = [clean_rxname(i) for i in hctz_set]\n",
    "set(hctz_clean)"
   ]
  },
  {
   "cell_type": "code",
   "execution_count": 33,
   "metadata": {
    "collapsed": true
   },
   "outputs": [],
   "source": [
    "meds_copy = meds_data.copy(deep=True)\n",
    "meds_copy = meds_copy.drop('Unnamed: 0', 1)"
   ]
  },
  {
   "cell_type": "code",
   "execution_count": 34,
   "metadata": {
    "collapsed": false
   },
   "outputs": [],
   "source": [
    "rxnames = meds_copy.rxName\n",
    "rxnames_clean = [clean_rxname(i) for i in rxnames]"
   ]
  },
  {
   "cell_type": "code",
   "execution_count": 35,
   "metadata": {
    "collapsed": false
   },
   "outputs": [
    {
     "data": {
      "text/plain": [
       "(7345, 1148347)"
      ]
     },
     "execution_count": 35,
     "metadata": {},
     "output_type": "execute_result"
    }
   ],
   "source": [
    "len(set(rxnames_clean)), len(rxnames)  # Much reduction in number of unique rxnames!"
   ]
  },
  {
   "cell_type": "code",
   "execution_count": 37,
   "metadata": {
    "collapsed": false
   },
   "outputs": [
    {
     "data": {
      "text/plain": [
       "(1148347, 1148347)"
      ]
     },
     "execution_count": 37,
     "metadata": {},
     "output_type": "execute_result"
    }
   ],
   "source": [
    "len(rxnames_clean), len(rxnames)  # nothing weird happened and we still have the same number of rxnames"
   ]
  },
  {
   "cell_type": "code",
   "execution_count": 38,
   "metadata": {
    "collapsed": false
   },
   "outputs": [],
   "source": [
    "meds_copy['rxName'] = rxnames_clean"
   ]
  },
  {
   "cell_type": "code",
   "execution_count": 41,
   "metadata": {
    "collapsed": false
   },
   "outputs": [
    {
     "data": {
      "text/html": [
       "<div>\n",
       "<table border=\"1\" class=\"dataframe\">\n",
       "  <thead>\n",
       "    <tr style=\"text-align: right;\">\n",
       "      <th></th>\n",
       "      <th>id</th>\n",
       "      <th>rxStartMonth</th>\n",
       "      <th>rxStartYear</th>\n",
       "      <th>rxName</th>\n",
       "      <th>rxNDC</th>\n",
       "      <th>rxQuantity</th>\n",
       "      <th>rxForm</th>\n",
       "    </tr>\n",
       "  </thead>\n",
       "  <tbody>\n",
       "    <tr>\n",
       "      <th>0</th>\n",
       "      <td>10007104</td>\n",
       "      <td>3</td>\n",
       "      <td>2011</td>\n",
       "      <td>AMOXICILLIN</td>\n",
       "      <td>143988775</td>\n",
       "      <td>75.0</td>\n",
       "      <td>SUSR</td>\n",
       "    </tr>\n",
       "    <tr>\n",
       "      <th>1</th>\n",
       "      <td>10007104</td>\n",
       "      <td>3</td>\n",
       "      <td>2011</td>\n",
       "      <td>OTIC EDGE SOLUTION</td>\n",
       "      <td>68032032814</td>\n",
       "      <td>14.0</td>\n",
       "      <td>SOL</td>\n",
       "    </tr>\n",
       "    <tr>\n",
       "      <th>2</th>\n",
       "      <td>10008102</td>\n",
       "      <td>3</td>\n",
       "      <td>2011</td>\n",
       "      <td>NASAL DECONGESTANT 0.05% SPRAY</td>\n",
       "      <td>63981056903</td>\n",
       "      <td>15.0</td>\n",
       "      <td>SPR</td>\n",
       "    </tr>\n",
       "    <tr>\n",
       "      <th>3</th>\n",
       "      <td>10008102</td>\n",
       "      <td>3</td>\n",
       "      <td>2011</td>\n",
       "      <td>NASAL DECONGESTANT 0.05% SPRAY</td>\n",
       "      <td>63981056903</td>\n",
       "      <td>15.0</td>\n",
       "      <td>SPR</td>\n",
       "    </tr>\n",
       "    <tr>\n",
       "      <th>4</th>\n",
       "      <td>10008102</td>\n",
       "      <td>9</td>\n",
       "      <td>2011</td>\n",
       "      <td>DIPHENHYDRAM</td>\n",
       "      <td>603333921</td>\n",
       "      <td>30.0</td>\n",
       "      <td>CAP</td>\n",
       "    </tr>\n",
       "  </tbody>\n",
       "</table>\n",
       "</div>"
      ],
      "text/plain": [
       "         id  rxStartMonth  rxStartYear                          rxName  \\\n",
       "0  10007104             3         2011                     AMOXICILLIN   \n",
       "1  10007104             3         2011              OTIC EDGE SOLUTION   \n",
       "2  10008102             3         2011  NASAL DECONGESTANT 0.05% SPRAY   \n",
       "3  10008102             3         2011  NASAL DECONGESTANT 0.05% SPRAY   \n",
       "4  10008102             9         2011                    DIPHENHYDRAM   \n",
       "\n",
       "         rxNDC  rxQuantity rxForm  \n",
       "0    143988775        75.0   SUSR  \n",
       "1  68032032814        14.0    SOL  \n",
       "2  63981056903        15.0    SPR  \n",
       "3  63981056903        15.0    SPR  \n",
       "4    603333921        30.0    CAP  "
      ]
     },
     "execution_count": 41,
     "metadata": {},
     "output_type": "execute_result"
    }
   ],
   "source": [
    "meds_copy.head()  # Note there are duped id rxName pairs that we will have to dedupe later."
   ]
  },
  {
   "cell_type": "markdown",
   "metadata": {},
   "source": [
    "<h2>Initial questions</h2>"
   ]
  },
  {
   "cell_type": "markdown",
   "metadata": {},
   "source": [
    "1. What are the most common medications for each disease in the base file?\n",
    "2. What medications are most indicative of each disease?"
   ]
  },
  {
   "cell_type": "markdown",
   "metadata": {},
   "source": [
    "Approach: For each disease where someone is diagnosed (Yes), make a histogram of the prescriptions associated.  Get the top 10 or so."
   ]
  },
  {
   "cell_type": "markdown",
   "metadata": {},
   "source": [
    "Some considerations:\n",
    "    \n",
    "- Diseases will be correlated, so we will need to take this into account.  We could try selecting only people diagnosed with one disease and see what meds they are taking.  However, some diseases might just be connected.  High blood pressure can apparently lead to diabetes:\n",
    "http://www.webmd.com/hypertension-high-blood-pressure/guide/high-blood-pressure.  In this case, even if someone has a diagnosis for only diabetes, we could be missing diagnosis data for other diseases.  Or a doctor might prescribe corresponding medication just in case?\n",
    "\n",
    "- People could have multuple Rx entries for the same drug.  We want to only count one per patient when getting frequencies.\n",
    "\n",
    "- We have only done rudimentary deduping, related to string formatting and extra comments.  More deduping could be done if we had a repository of the multiple names different drugs can take.  Some quick googling reveals most drugs have generic and brand names.\n",
    "\n",
    "- We could be more rigorous and do a categorical correlation test like Cramer's V or chi-square to look at correlations between medications and disease diagnoses.  Or reduce dimensionality using multiple correspondence analysis first.  But looking at the top 10 should be a good estimate."
   ]
  },
  {
   "cell_type": "code",
   "execution_count": 299,
   "metadata": {
    "collapsed": false
   },
   "outputs": [],
   "source": [
    "base_cats = pd.get_dummies(base_copy)  # Make binary columns for all categories\n",
    "yes_cols = [i for i in base_cats.columns if 'Yes' in i]  # Column for total yes diagnoses a patient has."
   ]
  },
  {
   "cell_type": "code",
   "execution_count": 300,
   "metadata": {
    "collapsed": false
   },
   "outputs": [
    {
     "name": "stderr",
     "output_type": "stream",
     "text": [
      "/Users/emiwang/.virtualenvs/testing/lib/python2.7/site-packages/ipykernel/__main__.py:3: SettingWithCopyWarning: \n",
      "A value is trying to be set on a copy of a slice from a DataFrame.\n",
      "Try using .loc[row_indexer,col_indexer] = value instead\n",
      "\n",
      "See the caveats in the documentation: http://pandas.pydata.org/pandas-docs/stable/indexing.html#indexing-view-versus-copy\n",
      "  app.launch_new_instance()\n"
     ]
    }
   ],
   "source": [
    "select_cols = ['id', 'entry_count'] + yes_cols\n",
    "base_yes = base_cats[select_cols]\n",
    "base_yes['total_yes'] = base_yes[yes_cols].sum(axis=1)"
   ]
  },
  {
   "cell_type": "code",
   "execution_count": 44,
   "metadata": {
    "collapsed": false
   },
   "outputs": [
    {
     "data": {
      "text/plain": [
       "12714"
      ]
     },
     "execution_count": 44,
     "metadata": {},
     "output_type": "execute_result"
    }
   ],
   "source": [
    "len(base_yes[base_yes.total_yes == 1])"
   ]
  },
  {
   "cell_type": "markdown",
   "metadata": {},
   "source": [
    "Only count one of any given rxName per patient id."
   ]
  },
  {
   "cell_type": "code",
   "execution_count": 45,
   "metadata": {
    "collapsed": true
   },
   "outputs": [],
   "source": [
    "meds_one_per_patient = meds_copy.drop_duplicates(subset=['id','rxName'])"
   ]
  },
  {
   "cell_type": "code",
   "execution_count": 46,
   "metadata": {
    "collapsed": false
   },
   "outputs": [
    {
     "data": {
      "text/plain": [
       "(1148347, 231546)"
      ]
     },
     "execution_count": 46,
     "metadata": {},
     "output_type": "execute_result"
    }
   ],
   "source": [
    "len(meds_copy), len(meds_one_per_patient)"
   ]
  },
  {
   "cell_type": "code",
   "execution_count": 47,
   "metadata": {
    "collapsed": true
   },
   "outputs": [],
   "source": [
    "merged_yes = pd.merge(base_yes, meds_one_per_patient, on='id', how='inner')"
   ]
  },
  {
   "cell_type": "code",
   "execution_count": 48,
   "metadata": {
    "collapsed": false
   },
   "outputs": [
    {
     "data": {
      "text/plain": [
       "(231546, 61489, 1148347)"
      ]
     },
     "execution_count": 48,
     "metadata": {},
     "output_type": "execute_result"
    }
   ],
   "source": [
    "len(merged_yes), len(base_copy), len(meds_copy)"
   ]
  },
  {
   "cell_type": "code",
   "execution_count": 49,
   "metadata": {
    "collapsed": false
   },
   "outputs": [],
   "source": [
    "def get_disease_stats(df, disease='highBPDiagnosed_Yes', top_n=10,\n",
    "                      return_df=False, print_stats=True, return_rxnames=False):\n",
    "    \"\"\"Return fraction of entries that have a given disease and a list of unique medication counts.\"\"\"\n",
    "    \n",
    "    df_yes = df[df[disease] == 1]\n",
    "    frac_yes = len(df_yes) / float(len(df))\n",
    "    \n",
    "    rxname_count = df_yes.groupby('rxName').count()[['entry_count']]\n",
    "    rxname_count['percent'] = 100 * rxname_count.entry_count / float(rxname_count.entry_count.sum())\n",
    "    rxname_top_ser = rxname_count.sort_values(by='entry_count', ascending=False)[0:top_n]\n",
    "    \n",
    "    if print_stats:\n",
    "        print 'Stats for {}:'.format(disease)\n",
    "        print '{:.2} of single yes entries.'.format(frac_yes)\n",
    "        print rxname_top_ser\n",
    "        print ''\n",
    "    \n",
    "    if return_df:\n",
    "        return rxname_count\n",
    "    \n",
    "    if return_rxnames:\n",
    "        rxname_list = list(rxname_top_ser.index)\n",
    "        return rxname_list\n",
    "    \n",
    "def get_top_rxnames(yes_df, diseases=[], top_n=10, print_stats=True):\n",
    "    \"\"\"Return all top rxnames in a list.\"\"\"\n",
    "    \n",
    "    if not len(diseases):\n",
    "        diseases = [i for i in yes_df.columns if 'Diagnosed' in i]\n",
    "        \n",
    "    top_rxnames = []\n",
    "    for disease in diseases:\n",
    "        rxname_list = get_disease_stats(\n",
    "            yes_df, disease=disease, return_rxnames=True,\n",
    "            print_stats=print_stats, top_n=top_n\n",
    "        )\n",
    "        top_rxnames = top_rxnames + rxname_list\n",
    "        \n",
    "    top_rxnames = list(set(top_rxnames))\n",
    "    return top_rxnames"
   ]
  },
  {
   "cell_type": "markdown",
   "metadata": {},
   "source": [
    "Below shows the top ten meds for patients who were only diagnosed for one disease.  The low percentages suggest there is a long tail of medications.  This is demonstrated by the histograms of medications for a given disease (asthma and high blood pressure shown).  The long tail could be other unduped medications or random unrelated medications.  Notice also that Lisinopril and Simvastatin show up on every list, usually at the top.  Are they really common meds or they just don't have a lot of different names?\n",
    "\n",
    "As a first simple cut, let's save the list of top_rxnames and first use only these as a simple way \n",
    "to reduce the dimensionality of our feature space."
   ]
  },
  {
   "cell_type": "code",
   "execution_count": 50,
   "metadata": {
    "collapsed": false,
    "scrolled": false
   },
   "outputs": [
    {
     "name": "stdout",
     "output_type": "stream",
     "text": [
      "Stats for highBPDiagnosed_Yes:\n",
      "0.5 of single yes entries.\n",
      "                     entry_count   percent\n",
      "rxName                                    \n",
      "LISINOPRIL                  2998  2.573346\n",
      "SIMVASTATIN                 2411  2.069492\n",
      "METFORMIN                   1793  1.539029\n",
      "AZITHROMYCIN                1484  1.273798\n",
      "HYDROCHLOROTHIAZIDE         1469  1.260923\n",
      "LIPITOR                     1351  1.159637\n",
      "ATENOLOL                    1227  1.053201\n",
      "OMEPRAZOLE                  1210  1.038609\n",
      "FUROSEMIDE                  1179  1.012000\n",
      "AMLODIPINE                  1085  0.931314\n",
      "\n",
      "Stats for diabetesDiagnosed_Yes:\n",
      "0.22 of single yes entries.\n",
      "             entry_count   percent\n",
      "rxName                            \n",
      "METFORMIN           2115  4.063401\n",
      "LISINOPRIL          1215  2.334294\n",
      "SIMVASTATIN         1114  2.140250\n",
      "LIPITOR              619  1.189241\n",
      "FUROSEMIDE           611  1.173871\n",
      "ONETOUCH             609  1.170029\n",
      "GLIPIZIDE            585  1.123919\n",
      "ACTOS                544  1.045149\n",
      "GLYBURIDE            473  0.908742\n",
      "HUMULIN N            454  0.872238\n",
      "\n",
      "Stats for chdDiagnosed_Yes:\n",
      "0.12 of single yes entries.\n",
      "                     entry_count   percent\n",
      "rxName                                    \n",
      "SIMVASTATIN                  670  2.314975\n",
      "LISINOPRIL                   601  2.076567\n",
      "FUROSEMIDE                   546  1.886532\n",
      "PLAVIX                       524  1.810518\n",
      "LIPITOR                      438  1.513372\n",
      "METFORMIN                    353  1.219681\n",
      "METOPROLOL TARTRATE          331  1.143667\n",
      "OMEPRAZOLE                   304  1.050377\n",
      "CARVEDILOL                   297  1.026190\n",
      "AZITHROMYCIN                 289  0.998549\n",
      "\n",
      "Stats for miDiagnosed_Yes:\n",
      "0.084 of single yes entries.\n",
      "                     entry_count   percent\n",
      "rxName                                    \n",
      "SIMVASTATIN                  458  2.359122\n",
      "LISINOPRIL                   439  2.261255\n",
      "PLAVIX                       396  2.039765\n",
      "FUROSEMIDE                   363  1.869785\n",
      "LIPITOR                      287  1.478315\n",
      "METOPROLOL TARTRATE          256  1.318636\n",
      "METFORMIN                    239  1.231070\n",
      "OMEPRAZOLE                   219  1.128052\n",
      "CARVEDILOL                   201  1.035335\n",
      "AZITHROMYCIN                 179  0.922015\n",
      "\n",
      "Stats for anginaDiagnosed_Yes:\n",
      "0.066 of single yes entries.\n",
      "                     entry_count   percent\n",
      "rxName                                    \n",
      "SIMVASTATIN                  299  1.968789\n",
      "PLAVIX                       272  1.791005\n",
      "LISINOPRIL                   269  1.771252\n",
      "FUROSEMIDE                   247  1.626391\n",
      "OMEPRAZOLE                   198  1.303747\n",
      "LIPITOR                      196  1.290577\n",
      "METOPROLOL TARTRATE          167  1.099625\n",
      "METFORMIN                    165  1.086456\n",
      "AZITHROMYCIN                 153  1.007441\n",
      "ATENOLOL                     151  0.994271\n",
      "\n",
      "Stats for strokeDiagnosed_Yes:\n",
      "0.081 of single yes entries.\n",
      "                     entry_count   percent\n",
      "rxName                                    \n",
      "SIMVASTATIN                  424  2.267016\n",
      "LISINOPRIL                   372  1.988986\n",
      "PLAVIX                       314  1.678875\n",
      "FUROSEMIDE                   293  1.566594\n",
      "METFORMIN                    203  1.085387\n",
      "OMEPRAZOLE                   199  1.064000\n",
      "LIPITOR                      195  1.042613\n",
      "AZITHROMYCIN                 164  0.876865\n",
      "HYDROCHLOROTHIAZIDE          157  0.839438\n",
      "AMLODIPINE                   153  0.818051\n",
      "\n",
      "Stats for emphysemaDiagnosed_Yes:\n",
      "0.054 of single yes entries.\n",
      "              entry_count   percent\n",
      "rxName                             \n",
      "LISINOPRIL            183  1.473430\n",
      "SIMVASTATIN           181  1.457327\n",
      "ALBUTEROL             177  1.425121\n",
      "SPIRIVA               175  1.409018\n",
      "AZITHROMYCIN          157  1.264090\n",
      "FUROSEMIDE            156  1.256039\n",
      "OMEPRAZOLE            155  1.247987\n",
      "PREDNISONE            153  1.231884\n",
      "METFORMIN             115  0.925926\n",
      "PROAIR HFA            112  0.901771\n",
      "\n",
      "Stats for asthmaDiagnosed_Yes:\n",
      "0.18 of single yes entries.\n",
      "              entry_count   percent\n",
      "rxName                             \n",
      "ALBUTEROL            1174  2.868172\n",
      "AZITHROMYCIN          883  2.157236\n",
      "AMOXICILLIN           821  2.005766\n",
      "SINGULAIR             797  1.947132\n",
      "PROAIR HFA            717  1.751686\n",
      "PREDNISONE            617  1.507378\n",
      "IBUPROFEN             466  1.138474\n",
      "LISINOPRIL            418  1.021206\n",
      "SIMVASTATIN           366  0.894166\n",
      "VENTOLIN HFA          359  0.877064\n",
      "\n",
      "Stats for otherHDDiagnosed_Yes:\n",
      "0.17 of single yes entries.\n",
      "              entry_count   percent\n",
      "rxName                             \n",
      "LISINOPRIL            738  1.831811\n",
      "SIMVASTATIN           737  1.829329\n",
      "FUROSEMIDE            622  1.543884\n",
      "AZITHROMYCIN          539  1.337867\n",
      "LIPITOR               447  1.109512\n",
      "METFORMIN             427  1.059869\n",
      "OMEPRAZOLE            422  1.047458\n",
      "PLAVIX                420  1.042494\n",
      "AMOXICILLIN           375  0.930798\n",
      "ATENOLOL              369  0.915905\n",
      "\n",
      "Stats for heartFailureDiagnosed_Yes:\n",
      "0.03 of single yes entries.\n",
      "                     entry_count   percent\n",
      "rxName                                    \n",
      "FUROSEMIDE                   240  3.507746\n",
      "LISINOPRIL                   152  2.221573\n",
      "CARVEDILOL                   118  1.724642\n",
      "SIMVASTATIN                   95  1.388483\n",
      "PLAVIX                        72  1.052324\n",
      "DIGOXIN                       69  1.008477\n",
      "LIPITOR                       65  0.950015\n",
      "METFORMIN                     63  0.920783\n",
      "METOPROLOL TARTRATE           60  0.876937\n",
      "OMEPRAZOLE                    58  0.847705\n",
      "\n"
     ]
    }
   ],
   "source": [
    "top_rxnames = get_top_rxnames(merged_yes)"
   ]
  },
  {
   "cell_type": "code",
   "execution_count": 51,
   "metadata": {
    "collapsed": false
   },
   "outputs": [],
   "source": [
    "rxname_count_highbp = get_disease_stats(merged_yes, disease='highBPDiagnosed_Yes', return_df=True, print_stats=False)"
   ]
  },
  {
   "cell_type": "code",
   "execution_count": 52,
   "metadata": {
    "collapsed": false
   },
   "outputs": [],
   "source": [
    "rxname_count_asthma = get_disease_stats(merged_yes, disease='asthmaDiagnosed_Yes', return_df=True, print_stats=False)"
   ]
  },
  {
   "cell_type": "code",
   "execution_count": 53,
   "metadata": {
    "collapsed": false
   },
   "outputs": [
    {
     "data": {
      "text/html": [
       "<div>\n",
       "<table border=\"1\" class=\"dataframe\">\n",
       "  <thead>\n",
       "    <tr style=\"text-align: right;\">\n",
       "      <th></th>\n",
       "      <th>entry_count</th>\n",
       "      <th>percent</th>\n",
       "    </tr>\n",
       "    <tr>\n",
       "      <th>rxName</th>\n",
       "      <th></th>\n",
       "      <th></th>\n",
       "    </tr>\n",
       "  </thead>\n",
       "  <tbody>\n",
       "    <tr>\n",
       "      <th>RELION VENTOLIN HFA</th>\n",
       "      <td>14</td>\n",
       "      <td>0.034203</td>\n",
       "    </tr>\n",
       "    <tr>\n",
       "      <th>VENTOLIN</th>\n",
       "      <td>2</td>\n",
       "      <td>0.004886</td>\n",
       "    </tr>\n",
       "    <tr>\n",
       "      <th>VENTOLIN HFA</th>\n",
       "      <td>359</td>\n",
       "      <td>0.877064</td>\n",
       "    </tr>\n",
       "    <tr>\n",
       "      <th>VENTOLIN HFA INH W-DOS CTR</th>\n",
       "      <td>1</td>\n",
       "      <td>0.002443</td>\n",
       "    </tr>\n",
       "    <tr>\n",
       "      <th>VENTOLINA HFA</th>\n",
       "      <td>1</td>\n",
       "      <td>0.002443</td>\n",
       "    </tr>\n",
       "  </tbody>\n",
       "</table>\n",
       "</div>"
      ],
      "text/plain": [
       "                            entry_count   percent\n",
       "rxName                                           \n",
       "RELION VENTOLIN HFA                  14  0.034203\n",
       "VENTOLIN                              2  0.004886\n",
       "VENTOLIN HFA                        359  0.877064\n",
       "VENTOLIN HFA INH W-DOS CTR            1  0.002443\n",
       "VENTOLINA HFA                         1  0.002443"
      ]
     },
     "execution_count": 53,
     "metadata": {},
     "output_type": "execute_result"
    }
   ],
   "source": [
    "# OK so the duping isn't so bad for this example; most are in VENTOLIN HFA anyways\n",
    "rxname_count_asthma[rxname_count_asthma.index.str.contains('VENTOLIN')]"
   ]
  },
  {
   "cell_type": "code",
   "execution_count": 54,
   "metadata": {
    "collapsed": false
   },
   "outputs": [
    {
     "data": {
      "text/plain": [
       "<matplotlib.text.Text at 0x118127cd0>"
      ]
     },
     "execution_count": 54,
     "metadata": {},
     "output_type": "execute_result"
    },
    {
     "data": {
      "image/png": "[encoded data removed]",
      "text/plain": [
       "<matplotlib.figure.Figure at 0x1163cbfd0>"
      ]
     },
     "metadata": {},
     "output_type": "display_data"
    }
   ],
   "source": [
    "rxname_count_asthma.sort_values(by='entry_count', ascending=False).percent.plot(rot=30)\n",
    "plt.ylabel('Percent of total entries')\n",
    "plt.title('Asthma')"
   ]
  },
  {
   "cell_type": "code",
   "execution_count": 55,
   "metadata": {
    "collapsed": false
   },
   "outputs": [
    {
     "data": {
      "text/plain": [
       "<matplotlib.text.Text at 0x11abfcd50>"
      ]
     },
     "execution_count": 55,
     "metadata": {},
     "output_type": "execute_result"
    },
    {
     "data": {
      "image/png": "[encoded data removed]",
      "text/plain": [
       "<matplotlib.figure.Figure at 0x115176290>"
      ]
     },
     "metadata": {},
     "output_type": "display_data"
    }
   ],
   "source": [
    "rxname_count_highbp.sort_values(by='entry_count', ascending=False).percent.plot(rot=30)\n",
    "plt.ylabel('Percent of total entries')\n",
    "plt.title('High Blood Pressure')"
   ]
  },
  {
   "cell_type": "code",
   "execution_count": 56,
   "metadata": {
    "collapsed": false
   },
   "outputs": [
    {
     "data": {
      "text/plain": [
       "['HUMULIN N', 'PREDNISONE', 'LIPITOR']"
      ]
     },
     "execution_count": 56,
     "metadata": {},
     "output_type": "execute_result"
    }
   ],
   "source": [
    "top_rxnames[0:3]"
   ]
  },
  {
   "cell_type": "markdown",
   "metadata": {},
   "source": [
    "<h2>Preparing the data</h2>"
   ]
  },
  {
   "cell_type": "markdown",
   "metadata": {},
   "source": [
    "We want to take as input the medications prescribed and give as output what diseases a patient has.  We must demonstrate that the end user should be confident in the result.\n",
    "\n",
    "This is a multi-output classification problem, since patients may have more than one disease.  We can approach this as a set of binary classification problems where we implement a one-vs-all strategy, or we can choose a model that does not require a problem transformation, such as a decision tree, random forest, or kNN.\n",
    "\n",
    "- First take the top 30 medications for Yes in all the categories\n",
    "- Keep all the different classes for diagnoses\n",
    "- Make a decision tree!"
   ]
  },
  {
   "cell_type": "markdown",
   "metadata": {},
   "source": [
    "- Something like PCA to reduce dimensionality?"
   ]
  },
  {
   "cell_type": "code",
   "execution_count": 159,
   "metadata": {
    "collapsed": false
   },
   "outputs": [],
   "source": [
    "top_rxnames = get_top_rxnames(merged_yes, top_n=30, print_stats=False)"
   ]
  },
  {
   "cell_type": "code",
   "execution_count": 176,
   "metadata": {
    "collapsed": true
   },
   "outputs": [],
   "source": [
    "meds_input = meds_copy.copy(deep=True)"
   ]
  },
  {
   "cell_type": "code",
   "execution_count": 177,
   "metadata": {
    "collapsed": false
   },
   "outputs": [],
   "source": [
    "meds_input = meds_input[meds_input.rxName.isin(top_rxnames)]  # Filter for top rxnames and then drop dupes\n",
    "meds_input = meds_input[['id','rxName']]\n",
    "meds_input = meds_input.drop_duplicates()"
   ]
  },
  {
   "cell_type": "code",
   "execution_count": 178,
   "metadata": {
    "collapsed": false
   },
   "outputs": [],
   "source": [
    "rxname_dummies = pd.get_dummies(meds_input.rxName)  # make rxname classes have binary 1/0 values\n",
    "meds_input = pd.merge(meds_input[['id']], rxname_dummies, left_index=True, right_index=True)"
   ]
  },
  {
   "cell_type": "code",
   "execution_count": 182,
   "metadata": {
    "collapsed": false
   },
   "outputs": [],
   "source": [
    "output = base_data.copy(deep=True)\n",
    "diagnoses = [i for i in output.columns if 'Diagnosed' in i]\n",
    "diagnoses_cols = ['id'] + diagnoses"
   ]
  },
  {
   "cell_type": "code",
   "execution_count": 183,
   "metadata": {
    "collapsed": false
   },
   "outputs": [],
   "source": [
    "output = output[diagnoses_cols]"
   ]
  },
  {
   "cell_type": "code",
   "execution_count": 185,
   "metadata": {
    "collapsed": false
   },
   "outputs": [
    {
     "data": {
      "text/plain": [
       "['No', 'Inapplicable', 'Yes', 'DK', 'not ascertained', 'Refused']"
      ]
     },
     "execution_count": 185,
     "metadata": {},
     "output_type": "execute_result"
    }
   ],
   "source": [
    "list(output.chdDiagnosed.unique())"
   ]
  },
  {
   "cell_type": "markdown",
   "metadata": {},
   "source": [
    "<h3>Decision tree with 74 binary features and one output: highBPDiagnosed</h3>"
   ]
  },
  {
   "cell_type": "code",
   "execution_count": 259,
   "metadata": {
    "collapsed": false
   },
   "outputs": [],
   "source": [
    "from sklearn import tree\n",
    "from sklearn.cross_validation import cross_val_score, train_test_split\n",
    "from sklearn.metrics import precision_recall_fscore_support\n",
    "\n",
    "\n",
    "def match_input_output(meds_input, output, output_list=[]):\n",
    "    \"\"\"Return medication data with 1/0 diagnosis flags for each patient.\"\"\"\n",
    "    \n",
    "    if not len(output_list):\n",
    "        output_list = [i for i in output.columns if 'Diagnosed' in i]\n",
    "        \n",
    "    output_cols = ['id'] + output_list\n",
    "    \n",
    "    # Merge medication data with diagnosis data on patient id.\n",
    "    all_data = pd.merge(meds_input, output[output_cols], on='id', how='outer')\n",
    "    all_data = all_data.fillna(0)\n",
    "    \n",
    "    # Consolidate all patient medication info into one row per ['id', outputs].\n",
    "    grouped_data = all_data.groupby(output_cols, as_index=False).sum()\n",
    "    return grouped_data\n",
    "\n",
    "\n",
    "def make_output_binary(data_df):\n",
    "    \"\"\"Turn any diagnosis that is not a Yes or No into the most common value.\"\"\"\n",
    "    \n",
    "    df = data_df.copy(deep=True)\n",
    "    diagnoses = [i for i in df.columns if 'Diagnosed' in i]\n",
    "    \n",
    "    # Iterate over every disease column.\n",
    "    for diagnosis in diagnoses:\n",
    "        \n",
    "        all_labels = list(output[diagnosis].unique())\n",
    "        binary_labels = ['Yes', 'No']\n",
    "        non_binary_labels = [i for i in all_labels if i not in binary_labels]\n",
    "        \n",
    "        # Obtaining the label mode\n",
    "        binary_labeled = df[df[diagnosis].isin(binary_labels)]\n",
    "        diagnosis_mode = binary_labeled[diagnosis].mode()[0]\n",
    "        \n",
    "        # Replacing non binary labels with the mode.\n",
    "        for class_label in non_binary:\n",
    "            df[diagnosis] = df[diagnosis].replace(class_label, diagnosis_mode)\n",
    "                    \n",
    "    df = df.replace('Yes', 1)\n",
    "    df = df.replace('No', 0)\n",
    "    \n",
    "    return df\n",
    "\n",
    "\n",
    "def make_x_and_y(all_outputs_data):\n",
    "    \"\"\"Pull out X (meds) and Y (diagnoses) arrays.\"\"\"\n",
    "    y_cols = [i for i in all_outputs_data.columns if 'Diagnosed' in i]\n",
    "    x_cols = [i for i in all_outputs_data.columns if i not in y_cols and i != 'id']\n",
    "    X = all_outputs_data[x_cols]\n",
    "    Y = all_outputs_data[y_cols]\n",
    "    \n",
    "    return X, Y\n",
    "\n",
    "\n",
    "def fit_tree(X, Y, test_size=0.2, random_state=137):\n",
    "    \"\"\"Fit a decision tree with a holdout test group of fraction test_size.\"\"\"\n",
    "    \n",
    "    X_train, X_test, Y_train, Y_test = train_test_split(\n",
    "        X, Y, test_size=test_size, random_state=random_state\n",
    "    )\n",
    "\n",
    "    clf = tree.DecisionTreeClassifier()\n",
    "    clf = clf.fit(X_train, Y_train)\n",
    "\n",
    "    print 'Num features: {}\\nNum outputs: {}\\nNum classes: {}'.format(clf.n_features_, clf.n_outputs_, clf.n_classes_)\n",
    "    print 'Train set accuracy: {:.3}'.format(clf.score(X_train, Y_train))\n",
    "    print 'Test set accuracy: {:.3}'.format(clf.score(X_test, Y_test))\n",
    "    print 'Classes: {}'.format(list(clf.classes_))\n",
    "    \n",
    "    return clf"
   ]
  },
  {
   "cell_type": "code",
   "execution_count": 244,
   "metadata": {
    "collapsed": false
   },
   "outputs": [],
   "source": [
    "binary_output = make_output_binary(output)"
   ]
  },
  {
   "cell_type": "code",
   "execution_count": 261,
   "metadata": {
    "collapsed": false
   },
   "outputs": [],
   "source": [
    "bp_data = match_input_output(meds_input, output, output_list=['highBPDiagnosed'])"
   ]
  },
  {
   "cell_type": "code",
   "execution_count": 249,
   "metadata": {
    "collapsed": false
   },
   "outputs": [
    {
     "data": {
      "text/plain": [
       "(61489, 61489)"
      ]
     },
     "execution_count": 249,
     "metadata": {},
     "output_type": "execute_result"
    }
   ],
   "source": [
    "len(bp_data.id.unique()), len(bp_data)"
   ]
  },
  {
   "cell_type": "markdown",
   "metadata": {},
   "source": [
    "Accuracy not great even on training set with only one output (67%).  As expected, somewhat lower accuracy for holdout/test set (60%)."
   ]
  },
  {
   "cell_type": "code",
   "execution_count": 250,
   "metadata": {
    "collapsed": false
   },
   "outputs": [
    {
     "name": "stdout",
     "output_type": "stream",
     "text": [
      "Num features: 74\n",
      "Num outputs: 1\n",
      "Num classes: 6\n",
      "Train set accuracy: 0.674\n",
      "Test set accuracy: 0.604\n",
      "Classes: ['DK', 'Inapplicable', 'No', 'Refused', 'Yes', 'not ascertained']\n"
     ]
    }
   ],
   "source": [
    "x_cols = [i for i in bp_data.columns if i != 'id' and i != 'highBPDiagnosed']\n",
    "X = bp_data[x_cols]\n",
    "Y = bp_data[['highBPDiagnosed']]\n",
    "clf = fit_tree(X, Y, test_size=0.2, random_state=223)"
   ]
  },
  {
   "cell_type": "markdown",
   "metadata": {},
   "source": [
    "Let's try only using the Yes and No data and fill in the other labels with the mode"
   ]
  },
  {
   "cell_type": "code",
   "execution_count": 205,
   "metadata": {
    "collapsed": false
   },
   "outputs": [
    {
     "name": "stdout",
     "output_type": "stream",
     "text": [
      "Num features: 74\n",
      "Num outputs: 1\n",
      "Num classes: 2\n",
      "Train set accuracy: 0.919\n",
      "Test set accuracy: 0.862\n",
      "Classes: ['No', 'Yes']\n"
     ]
    }
   ],
   "source": [
    "x_cols = [i for i in bp_data.columns if i != 'id' and i != 'highBPDiagnosed']\n",
    "\n",
    "# Turn all non Yes and No things into mode\n",
    "diagnosis_mode = bp_data[bp_data.highBPDiagnosed.isin(('Yes', 'No'))].highBPDiagnosed.mode()[0]\n",
    "diagnosis_classes = list(bp_data.highBPDiagnosed.unique())\n",
    "non_binary = [i for i in diagnosis_classes if i not in ('Yes', 'No')]\n",
    "bp_binary = bp_data.copy(deep=True)\n",
    "\n",
    "for class_label in non_binary:\n",
    "    bp_binary = bp_binary.replace(class_label, diagnosis_mode)\n",
    "\n",
    "X = bp_binary[x_cols]\n",
    "Y = bp_binary[['highBPDiagnosed']]\n",
    "clf_bp = fit_tree(X, Y, test_size=0.2, random_state=211)"
   ]
  },
  {
   "cell_type": "markdown",
   "metadata": {},
   "source": [
    "Accuracy is a lot higher now: 92% for training and 87% for testing.  But we are assuming the non-binary decisions are the same as the mode, for simplicity.  Based on the support, which shows the class breakdown for the true labels, the classes are fairly balanced."
   ]
  },
  {
   "cell_type": "markdown",
   "metadata": {},
   "source": [
    "Below, we see that precision is pretty good for both Nos and Yeses (88% and 78% respectively) but low recall for Yeses (52%)."
   ]
  },
  {
   "cell_type": "code",
   "execution_count": 206,
   "metadata": {
    "collapsed": false
   },
   "outputs": [
    {
     "name": "stdout",
     "output_type": "stream",
     "text": [
      "Classes: ['No', 'Yes']\n",
      "Precision: [ 0.87522604  0.78224456]\n",
      "Recall: [ 0.95931567  0.51659292]\n",
      "Fscore: [ 0.91534365  0.62225183]\n",
      "Support: [9586 2712]\n"
     ]
    }
   ],
   "source": [
    "X_train, X_test, Y_train, Y_test = train_test_split(\n",
    "    X, Y, test_size=0.2, random_state=211\n",
    ")\n",
    "Y_test_predict = clf_bp.predict(X_test)\n",
    "\n",
    "# By default returns label stats in alphabetical order of labels.\n",
    "precision, recall, fscore, support = precision_recall_fscore_support(Y_test, Y_test_predict) \n",
    "classes = sorted(list(clf_bp.classes_))\n",
    "\n",
    "print 'Classes: {}'.format(classes)\n",
    "print 'Precision: {}\\nRecall: {}\\nFscore: {}\\nSupport: {}'.format(precision, recall, fscore, support)"
   ]
  },
  {
   "cell_type": "code",
   "execution_count": 252,
   "metadata": {
    "collapsed": true
   },
   "outputs": [],
   "source": [
    "Y_predict = clf.predict(X_test)"
   ]
  },
  {
   "cell_type": "code",
   "execution_count": 254,
   "metadata": {
    "collapsed": false
   },
   "outputs": [
    {
     "data": {
      "text/plain": [
       "['DK', 'Inapplicable', 'No', 'Yes']"
      ]
     },
     "execution_count": 254,
     "metadata": {},
     "output_type": "execute_result"
    }
   ],
   "source": [
    "sorted(set(Y_predict))  # It didn't predict any Refused or not ascertained, \n",
    "                        # probably because they are so rare."
   ]
  },
  {
   "cell_type": "code",
   "execution_count": 291,
   "metadata": {
    "collapsed": false
   },
   "outputs": [
    {
     "data": {
      "text/plain": [
       "(['DK', 'Inapplicable', 'No', 'Yes'], {'Inapplicable', 'No', 'Yes'})"
      ]
     },
     "execution_count": 291,
     "metadata": {},
     "output_type": "execute_result"
    }
   ],
   "source": [
    "sorted(list(Y_test.highBPDiagnosed.unique())), set(Y_predict)"
   ]
  },
  {
   "cell_type": "code",
   "execution_count": 249,
   "metadata": {
    "collapsed": false,
    "scrolled": true
   },
   "outputs": [],
   "source": [
    "Y_test_arr = np.array(Y_test.highBPDiagnosed)"
   ]
  },
  {
   "cell_type": "code",
   "execution_count": 250,
   "metadata": {
    "collapsed": false
   },
   "outputs": [
    {
     "data": {
      "text/plain": [
       "(array([ 0.        ,  0.61239731,  0.5526884 ,  0.80612846]),\n",
       " array([ 0.        ,  0.22355507,  0.87191279,  0.49745455]),\n",
       " array([ 0.        ,  0.32754144,  0.67653473,  0.61524623]),\n",
       " array([   9, 3668, 5871, 2750]))"
      ]
     },
     "execution_count": 250,
     "metadata": {},
     "output_type": "execute_result"
    }
   ],
   "source": [
    "precision_recall_fscore_support(Y_test_arr, Y_predict)  # Classes in alphabetical order"
   ]
  },
  {
   "cell_type": "code",
   "execution_count": 200,
   "metadata": {
    "collapsed": true
   },
   "outputs": [],
   "source": [
    "Y_probs = clf.predict_proba(X)"
   ]
  },
  {
   "cell_type": "markdown",
   "metadata": {},
   "source": [
    "<h2>Decision tree multi-output model</h2>"
   ]
  },
  {
   "cell_type": "markdown",
   "metadata": {
    "collapsed": true
   },
   "source": [
    "A logistic regression, the usual easy to interpret and quick to run model for classifications, won't work because here because we have a multi-label problem rather than a multi-class problem.  In this case, a patient can have multiple diagnoses.  Decision trees are a model that can handle categorical variables, multiple labels per sample, and can also compute human-interpretable feature importances.  Making label decisions by splitting on features is easy to understand, unlike a neural net.  Decisions trees don't perform well with unbalanced classes, but our classes are fairly balanced."
   ]
  },
  {
   "cell_type": "code",
   "execution_count": 282,
   "metadata": {
    "collapsed": false
   },
   "outputs": [
    {
     "data": {
      "text/plain": [
       "(61489, 61489)"
      ]
     },
     "execution_count": 282,
     "metadata": {},
     "output_type": "execute_result"
    }
   ],
   "source": [
    "all_outputs_data = match_input_output(meds_input, output, output_list=[])\n",
    "all_outputs_data = make_output_binary(all_outputs_data)\n",
    "# Sweet there are no conflicting diagnoses\n",
    "len(all_outputs_data.id.unique()), len(all_outputs_data)"
   ]
  },
  {
   "cell_type": "code",
   "execution_count": 268,
   "metadata": {
    "collapsed": true
   },
   "outputs": [],
   "source": [
    "X, Y = make_x_and_y(all_outputs_data)"
   ]
  },
  {
   "cell_type": "markdown",
   "metadata": {},
   "source": [
    "Not bad, training set 83% accuracy, Test 71% accuracy.  The score function for the decision tree is strict and requires that *all* labels are correct for a given entry in order for it to be counted as correct.  \n",
    "\n",
    "Stats are pretty stable over a few different random seeds for breaking up train and test sets.  An 80/20 split for train/test is used."
   ]
  },
  {
   "cell_type": "code",
   "execution_count": 276,
   "metadata": {
    "collapsed": false
   },
   "outputs": [
    {
     "name": "stdout",
     "output_type": "stream",
     "text": [
      "Num features: 74\n",
      "Num outputs: 10\n",
      "Num classes: [2 2 2 2 2 2 2 2 2 2]\n",
      "Train set accuracy: 0.831\n",
      "Test set accuracy: 0.706\n",
      "Classes: [array([0, 1]), array([0, 1]), array([0, 1]), array([0, 1]), array([0, 1]), array([0, 1]), array([0, 1]), array([0, 1]), array([0, 1]), array([0, 1])]\n"
     ]
    }
   ],
   "source": [
    "clf_all = fit_tree(X, Y, test_size=0.2, random_state=13)"
   ]
  },
  {
   "cell_type": "code",
   "execution_count": 278,
   "metadata": {
    "collapsed": false
   },
   "outputs": [
    {
     "name": "stdout",
     "output_type": "stream",
     "text": [
      "Num features: 74\n",
      "Num outputs: 10\n",
      "Num classes: [2 2 2 2 2 2 2 2 2 2]\n",
      "Train set accuracy: 0.832\n",
      "Test set accuracy: 0.703\n",
      "Classes: [array([0, 1]), array([0, 1]), array([0, 1]), array([0, 1]), array([0, 1]), array([0, 1]), array([0, 1]), array([0, 1]), array([0, 1]), array([0, 1])]\n"
     ]
    }
   ],
   "source": [
    "clf_all = fit_tree(X, Y, test_size=0.2, random_state=9)"
   ]
  },
  {
   "cell_type": "code",
   "execution_count": 280,
   "metadata": {
    "collapsed": false
   },
   "outputs": [
    {
     "name": "stdout",
     "output_type": "stream",
     "text": [
      "Num features: 74\n",
      "Num outputs: 10\n",
      "Num classes: [2 2 2 2 2 2 2 2 2 2]\n",
      "Train set accuracy: 0.832\n",
      "Test set accuracy: 0.702\n",
      "Classes: [array([0, 1]), array([0, 1]), array([0, 1]), array([0, 1]), array([0, 1]), array([0, 1]), array([0, 1]), array([0, 1]), array([0, 1]), array([0, 1])]\n"
     ]
    }
   ],
   "source": [
    "clf_all = fit_tree(X, Y, test_size=0.2, random_state=77)"
   ]
  },
  {
   "cell_type": "code",
   "execution_count": 286,
   "metadata": {
    "collapsed": false
   },
   "outputs": [
    {
     "data": {
      "text/plain": [
       "Index([u'ACETAMINOPHEN-HYDROCODONE BITARTRATE', u'ACTOS', u'ADVAIR DISKU',\n",
       "       u'ADVAIR DISKUS', u'ALBUTEROL', u'ALBUTEROL SULFATE', u'ALPRAZOLAM',\n",
       "       u'AMLODIPINE', u'AMLODIPINE BESYLATE', u'AMOXICILLIN',\n",
       "       u'APAP-HYDROCODONE BITARTRATE', u'ASPIRIN', u'ATENOLOL',\n",
       "       u'AZITHROMYCIN', u'BAYER CONTOR', u'CARVEDILOL', u'COMBIVENT', u'COREG',\n",
       "       u'CRESTOR', u'DIGOXIN', u'DIOVAN', u'FLOVENT HFA', u'FUROSEMIDE',\n",
       "       u'GABAPENTIN', u'GLIMEPIRIDE', u'GLIPIZIDE', u'GLYBURIDE', u'HUMULIN N',\n",
       "       u'HYDROCHLOROT', u'HYDROCHLOROTHIAZIDE', u'HYDROCO-APAP', u'IBUPROFEN',\n",
       "       u'INSULIN SYRG', u'LANTUS', u'LASIX', u'LEVAQUIN', u'LEVOTHYROXIN',\n",
       "       u'LEVOTHYROXINE SODIUM', u'LIPITOR', u'LISINOPRIL', u'LORATADINE',\n",
       "       u'LOVASTATIN', u'METFORMIN', u'METOPROL TAR', u'METOPROLOL',\n",
       "       u'METOPROLOL TART', u'METOPROLOL TARTRATE', u'NAPROXEN', u'NASONEX',\n",
       "       u'NEXIUM', u'NITROGLYCERIN', u'NOVOLIN N', u'OMEPRAZOLE', u'ONETOUCH',\n",
       "       u'PLAVIX', u'POTASSIUM CHLORIDE', u'PREDNISONE', u'PROAIR HFA',\n",
       "       u'PROVENTIL', u'PROVENTIL HFA', u'RANITIDINE', u'SIMVASTATIN',\n",
       "       u'SINGULAIR', u'SPIRIVA', u'SPIRONOLACT', u'SPIRONOLACTONE',\n",
       "       u'TOPROL XL', u'TRAMADOL', u'TRUETRACK SMART SYSTEM', u'VENTOLIN HFA',\n",
       "       u'VYTORIN', u'WARFARIN', u'WARFARIN SODIUM', u'ZETIA'],\n",
       "      dtype='object')"
      ]
     },
     "execution_count": 286,
     "metadata": {},
     "output_type": "execute_result"
    }
   ],
   "source": []
  },
  {
   "cell_type": "code",
   "execution_count": 291,
   "metadata": {
    "collapsed": false
   },
   "outputs": [],
   "source": [
    "feature_importances = pd.DataFrame(zip(list(X.columns), list(clf_all.feature_importances_)),\n",
    "             columns=['feature', 'importance'])"
   ]
  },
  {
   "cell_type": "markdown",
   "metadata": {},
   "source": [
    "Looking at feature importances (Gini importance) below.  Larger importances mean a feature has better ability to distinguish between labels accurately.  Metformin has the highest importance, probably because it dominated in the diabetes Yes diagnoses, and to a larger extent than any of the other diagnoses' top medications.  Lisinopril was present in many of the top 10 medications but was farther down in asthma in particular.  Furosemide and Albuterol both dominated only in one diagnosis each, so would also be useful for selecting one particular disease."
   ]
  },
  {
   "cell_type": "code",
   "execution_count": 295,
   "metadata": {
    "collapsed": false
   },
   "outputs": [
    {
     "data": {
      "text/html": [
       "<div>\n",
       "<table border=\"1\" class=\"dataframe\">\n",
       "  <thead>\n",
       "    <tr style=\"text-align: right;\">\n",
       "      <th></th>\n",
       "      <th>feature</th>\n",
       "      <th>importance</th>\n",
       "    </tr>\n",
       "  </thead>\n",
       "  <tbody>\n",
       "    <tr>\n",
       "      <th>42</th>\n",
       "      <td>METFORMIN</td>\n",
       "      <td>0.113212</td>\n",
       "    </tr>\n",
       "    <tr>\n",
       "      <th>39</th>\n",
       "      <td>LISINOPRIL</td>\n",
       "      <td>0.078883</td>\n",
       "    </tr>\n",
       "    <tr>\n",
       "      <th>22</th>\n",
       "      <td>FUROSEMIDE</td>\n",
       "      <td>0.041276</td>\n",
       "    </tr>\n",
       "    <tr>\n",
       "      <th>4</th>\n",
       "      <td>ALBUTEROL</td>\n",
       "      <td>0.030876</td>\n",
       "    </tr>\n",
       "    <tr>\n",
       "      <th>29</th>\n",
       "      <td>HYDROCHLOROTHIAZIDE</td>\n",
       "      <td>0.030574</td>\n",
       "    </tr>\n",
       "    <tr>\n",
       "      <th>54</th>\n",
       "      <td>PLAVIX</td>\n",
       "      <td>0.030316</td>\n",
       "    </tr>\n",
       "    <tr>\n",
       "      <th>7</th>\n",
       "      <td>AMLODIPINE</td>\n",
       "      <td>0.024966</td>\n",
       "    </tr>\n",
       "    <tr>\n",
       "      <th>12</th>\n",
       "      <td>ATENOLOL</td>\n",
       "      <td>0.023541</td>\n",
       "    </tr>\n",
       "    <tr>\n",
       "      <th>61</th>\n",
       "      <td>SIMVASTATIN</td>\n",
       "      <td>0.022837</td>\n",
       "    </tr>\n",
       "    <tr>\n",
       "      <th>13</th>\n",
       "      <td>AZITHROMYCIN</td>\n",
       "      <td>0.021648</td>\n",
       "    </tr>\n",
       "    <tr>\n",
       "      <th>46</th>\n",
       "      <td>METOPROLOL TARTRATE</td>\n",
       "      <td>0.017280</td>\n",
       "    </tr>\n",
       "    <tr>\n",
       "      <th>52</th>\n",
       "      <td>OMEPRAZOLE</td>\n",
       "      <td>0.016865</td>\n",
       "    </tr>\n",
       "    <tr>\n",
       "      <th>38</th>\n",
       "      <td>LIPITOR</td>\n",
       "      <td>0.016182</td>\n",
       "    </tr>\n",
       "    <tr>\n",
       "      <th>20</th>\n",
       "      <td>DIOVAN</td>\n",
       "      <td>0.014925</td>\n",
       "    </tr>\n",
       "    <tr>\n",
       "      <th>9</th>\n",
       "      <td>AMOXICILLIN</td>\n",
       "      <td>0.014618</td>\n",
       "    </tr>\n",
       "    <tr>\n",
       "      <th>8</th>\n",
       "      <td>AMLODIPINE BESYLATE</td>\n",
       "      <td>0.014309</td>\n",
       "    </tr>\n",
       "    <tr>\n",
       "      <th>56</th>\n",
       "      <td>PREDNISONE</td>\n",
       "      <td>0.013629</td>\n",
       "    </tr>\n",
       "    <tr>\n",
       "      <th>31</th>\n",
       "      <td>IBUPROFEN</td>\n",
       "      <td>0.013128</td>\n",
       "    </tr>\n",
       "    <tr>\n",
       "      <th>30</th>\n",
       "      <td>HYDROCO-APAP</td>\n",
       "      <td>0.013092</td>\n",
       "    </tr>\n",
       "    <tr>\n",
       "      <th>57</th>\n",
       "      <td>PROAIR HFA</td>\n",
       "      <td>0.012619</td>\n",
       "    </tr>\n",
       "  </tbody>\n",
       "</table>\n",
       "</div>"
      ],
      "text/plain": [
       "                feature  importance\n",
       "42            METFORMIN    0.113212\n",
       "39           LISINOPRIL    0.078883\n",
       "22           FUROSEMIDE    0.041276\n",
       "4             ALBUTEROL    0.030876\n",
       "29  HYDROCHLOROTHIAZIDE    0.030574\n",
       "54               PLAVIX    0.030316\n",
       "7            AMLODIPINE    0.024966\n",
       "12             ATENOLOL    0.023541\n",
       "61          SIMVASTATIN    0.022837\n",
       "13         AZITHROMYCIN    0.021648\n",
       "46  METOPROLOL TARTRATE    0.017280\n",
       "52           OMEPRAZOLE    0.016865\n",
       "38              LIPITOR    0.016182\n",
       "20               DIOVAN    0.014925\n",
       "9           AMOXICILLIN    0.014618\n",
       "8   AMLODIPINE BESYLATE    0.014309\n",
       "56           PREDNISONE    0.013629\n",
       "31            IBUPROFEN    0.013128\n",
       "30         HYDROCO-APAP    0.013092\n",
       "57           PROAIR HFA    0.012619"
      ]
     },
     "execution_count": 295,
     "metadata": {},
     "output_type": "execute_result"
    }
   ],
   "source": [
    "feature_importances.sort_values(by='importance', ascending=False)[0:20]  "
   ]
  },
  {
   "cell_type": "markdown",
   "metadata": {},
   "source": [
    "Below, we still see name variations in these top medication names.  Going further we could try mitigating this with Multiple Correspondance Analysis, the equivalent of a PCA for categorical features.  This would group together correlated variables into new feature eigenvectors."
   ]
  },
  {
   "cell_type": "code",
   "execution_count": 283,
   "metadata": {
    "collapsed": false
   },
   "outputs": [
    {
     "data": {
      "text/plain": [
       "Index([u'ACETAMINOPHEN-HYDROCODONE BITARTRATE', u'ACTOS', u'ADVAIR DISKU',\n",
       "       u'ADVAIR DISKUS', u'ALBUTEROL', u'ALBUTEROL SULFATE', u'ALPRAZOLAM',\n",
       "       u'AMLODIPINE', u'AMLODIPINE BESYLATE', u'AMOXICILLIN',\n",
       "       u'APAP-HYDROCODONE BITARTRATE', u'ASPIRIN', u'ATENOLOL',\n",
       "       u'AZITHROMYCIN', u'BAYER CONTOR', u'CARVEDILOL', u'COMBIVENT', u'COREG',\n",
       "       u'CRESTOR', u'DIGOXIN', u'DIOVAN', u'FLOVENT HFA', u'FUROSEMIDE',\n",
       "       u'GABAPENTIN', u'GLIMEPIRIDE', u'GLIPIZIDE', u'GLYBURIDE', u'HUMULIN N',\n",
       "       u'HYDROCHLOROT', u'HYDROCHLOROTHIAZIDE', u'HYDROCO-APAP', u'IBUPROFEN',\n",
       "       u'INSULIN SYRG', u'LANTUS', u'LASIX', u'LEVAQUIN', u'LEVOTHYROXIN',\n",
       "       u'LEVOTHYROXINE SODIUM', u'LIPITOR', u'LISINOPRIL', u'LORATADINE',\n",
       "       u'LOVASTATIN', u'METFORMIN', u'METOPROL TAR', u'METOPROLOL',\n",
       "       u'METOPROLOL TART', u'METOPROLOL TARTRATE', u'NAPROXEN', u'NASONEX',\n",
       "       u'NEXIUM', u'NITROGLYCERIN', u'NOVOLIN N', u'OMEPRAZOLE', u'ONETOUCH',\n",
       "       u'PLAVIX', u'POTASSIUM CHLORIDE', u'PREDNISONE', u'PROAIR HFA',\n",
       "       u'PROVENTIL', u'PROVENTIL HFA', u'RANITIDINE', u'SIMVASTATIN',\n",
       "       u'SINGULAIR', u'SPIRIVA', u'SPIRONOLACT', u'SPIRONOLACTONE',\n",
       "       u'TOPROL XL', u'TRAMADOL', u'TRUETRACK SMART SYSTEM', u'VENTOLIN HFA',\n",
       "       u'VYTORIN', u'WARFARIN', u'WARFARIN SODIUM', u'ZETIA'],\n",
       "      dtype='object')"
      ]
     },
     "execution_count": 283,
     "metadata": {},
     "output_type": "execute_result"
    }
   ],
   "source": [
    "X.columns"
   ]
  },
  {
   "cell_type": "code",
   "execution_count": 296,
   "metadata": {
    "collapsed": true
   },
   "outputs": [],
   "source": [
    "# Scoring seems to work when it's done in the method, but not afterwards?\n",
    "# Accuracy metric is quite strict in multilabel; requires all sets of labels to be predicted correctly.  \n",
    "# If an entry has two labels and you only predict one correctly, that's counted as wrong!"
   ]
  },
  {
   "cell_type": "code",
   "execution_count": 297,
   "metadata": {
    "collapsed": true
   },
   "outputs": [],
   "source": [
    "# Defaults for multilabel_classification:\n",
    "# make_multilabel_classification(n_samples=100, n_features=20, n_classes=5, n_labels=2, length=50, \n",
    "# allow_unlabeled=True, sparse=False, return_indicator='dense', return_distributions=False, random_state=None)"
   ]
  },
  {
   "cell_type": "markdown",
   "metadata": {},
   "source": [
    "<h2>Random plot explorations</h2>"
   ]
  },
  {
   "cell_type": "code",
   "execution_count": 60,
   "metadata": {
    "collapsed": false
   },
   "outputs": [],
   "source": [
    "chd_dummies = pd.get_dummies(base_copy.chdDiagnosed, prefix='chdDiagnosed')\n",
    "sns_test = pd.merge(chd_dummies, base_copy[['id', 'panel', 'pooledWeight', 'age']], left_index=True, right_index=True)"
   ]
  },
  {
   "cell_type": "code",
   "execution_count": 59,
   "metadata": {
    "collapsed": false
   },
   "outputs": [
    {
     "data": {
      "text/plain": [
       "<seaborn.axisgrid.PairGrid at 0x10820e890>"
      ]
     },
     "execution_count": 59,
     "metadata": {},
     "output_type": "execute_result"
    },
    {
     "data": {
      "image/png": "[encoded data removed]",
      "text/plain": [
       "<matplotlib.figure.Figure at 0x108f49ed0>"
      ]
     },
     "metadata": {},
     "output_type": "display_data"
    }
   ],
   "source": [
    "# Pairplot works well for looking at correlations between continuous variables\n",
    "# Can also color the scatter plots with a categorical variable\n",
    "sns.set()\n",
    "\n",
    "df = base_copy[['pooledWeight', 'age', 'diabetesDiagnosed']]\n",
    "sns.pairplot(df, hue='diabetesDiagnosed', markers='.')"
   ]
  },
  {
   "cell_type": "code",
   "execution_count": 62,
   "metadata": {
    "collapsed": false
   },
   "outputs": [
    {
     "data": {
      "text/plain": [
       "<matplotlib.axes._subplots.AxesSubplot at 0x115294fd0>"
      ]
     },
     "execution_count": 62,
     "metadata": {},
     "output_type": "execute_result"
    },
    {
     "data": {
      "image/png": "[encoded data removed]",
      "text/plain": [
       "<matplotlib.figure.Figure at 0x115282e90>"
      ]
     },
     "metadata": {},
     "output_type": "display_data"
    }
   ],
   "source": [
    "sns.boxplot(x='chdDiagnosed', y='age', data=base_copy)"
   ]
  }
 ],
 "metadata": {
  "kernelspec": {
   "display_name": "Python 2",
   "language": "python",
   "name": "python2"
  },
  "language_info": {
   "codemirror_mode": {
    "name": "ipython",
    "version": 2
   },
   "file_extension": ".py",
   "mimetype": "text/x-python",
   "name": "python",
   "nbconvert_exporter": "python",
   "pygments_lexer": "ipython2",
   "version": "2.7.11"
  }
 },
 "nbformat": 4,
 "nbformat_minor": 0
}

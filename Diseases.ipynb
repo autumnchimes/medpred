{
 "cells": [
  {
   "cell_type": "markdown",
   "metadata": {},
   "source": [
    "<h2>Imports</h2>"
   ]
  },
  {
   "cell_type": "code",
   "execution_count": 1,
   "metadata": {
    "collapsed": false
   },
   "outputs": [
    {
     "name": "stderr",
     "output_type": "stream",
     "text": [
      "/Users/emiwang/.virtualenvs/note/lib/python2.7/site-packages/matplotlib/font_manager.py:273: UserWarning: Matplotlib is building the font cache using fc-list. This may take a moment.\n",
      "  warnings.warn('Matplotlib is building the font cache using fc-list. This may take a moment.')\n"
     ]
    }
   ],
   "source": [
    "%matplotlib inline"
   ]
  },
  {
   "cell_type": "code",
   "execution_count": 2,
   "metadata": {
    "collapsed": true
   },
   "outputs": [],
   "source": [
    "from __future__ import absolute_import\n",
    "import os\n",
    "import random\n",
    "import re\n",
    "\n",
    "import matplotlib.pyplot as plt\n",
    "import numpy as np\n",
    "import pandas as pd\n",
    "import seaborn as sns\n",
    "\n",
    "DATA_DIR = '/Users/emiwang/Learning/notebooks/data/'\n",
    "BASE_FILE = 'meps_base_data.csv'\n",
    "MEDS_FILE = 'meps_meds.csv'\n",
    "\n",
    "plt.style.use('ggplot')"
   ]
  },
  {
   "cell_type": "markdown",
   "metadata": {},
   "source": [
    "<h2>Functions</h2>"
   ]
  },
  {
   "cell_type": "markdown",
   "metadata": {},
   "source": [
    "<h2>Exploring the datasets</h2>"
   ]
  },
  {
   "cell_type": "code",
   "execution_count": 3,
   "metadata": {
    "collapsed": false
   },
   "outputs": [],
   "source": [
    "base_data = pd.read_csv(os.path.join(DATA_DIR, BASE_FILE))\n",
    "meds_data = pd.read_csv(os.path.join(DATA_DIR, MEDS_FILE))"
   ]
  },
  {
   "cell_type": "markdown",
   "metadata": {},
   "source": [
    "<h3>Base data</h3>"
   ]
  },
  {
   "cell_type": "code",
   "execution_count": 4,
   "metadata": {
    "collapsed": false
   },
   "outputs": [
    {
     "data": {
      "text/html": [
       "<div>\n",
       "<table border=\"1\" class=\"dataframe\">\n",
       "  <thead>\n",
       "    <tr style=\"text-align: right;\">\n",
       "      <th></th>\n",
       "      <th>panel</th>\n",
       "      <th>pooledWeight</th>\n",
       "      <th>age</th>\n",
       "    </tr>\n",
       "  </thead>\n",
       "  <tbody>\n",
       "    <tr>\n",
       "      <th>count</th>\n",
       "      <td>61489.000000</td>\n",
       "      <td>61489.000000</td>\n",
       "      <td>61489.000000</td>\n",
       "    </tr>\n",
       "    <tr>\n",
       "      <th>mean</th>\n",
       "      <td>13.534453</td>\n",
       "      <td>5063.701982</td>\n",
       "      <td>33.578396</td>\n",
       "    </tr>\n",
       "    <tr>\n",
       "      <th>std</th>\n",
       "      <td>1.061329</td>\n",
       "      <td>3815.885387</td>\n",
       "      <td>22.887576</td>\n",
       "    </tr>\n",
       "    <tr>\n",
       "      <th>min</th>\n",
       "      <td>12.000000</td>\n",
       "      <td>127.710358</td>\n",
       "      <td>-1.000000</td>\n",
       "    </tr>\n",
       "    <tr>\n",
       "      <th>25%</th>\n",
       "      <td>13.000000</td>\n",
       "      <td>2217.419038</td>\n",
       "      <td>14.000000</td>\n",
       "    </tr>\n",
       "    <tr>\n",
       "      <th>50%</th>\n",
       "      <td>14.000000</td>\n",
       "      <td>3989.180418</td>\n",
       "      <td>32.000000</td>\n",
       "    </tr>\n",
       "    <tr>\n",
       "      <th>75%</th>\n",
       "      <td>14.000000</td>\n",
       "      <td>6905.677619</td>\n",
       "      <td>51.000000</td>\n",
       "    </tr>\n",
       "    <tr>\n",
       "      <th>max</th>\n",
       "      <td>15.000000</td>\n",
       "      <td>38828.153564</td>\n",
       "      <td>85.000000</td>\n",
       "    </tr>\n",
       "  </tbody>\n",
       "</table>\n",
       "</div>"
      ],
      "text/plain": [
       "              panel  pooledWeight           age\n",
       "count  61489.000000  61489.000000  61489.000000\n",
       "mean      13.534453   5063.701982     33.578396\n",
       "std        1.061329   3815.885387     22.887576\n",
       "min       12.000000    127.710358     -1.000000\n",
       "25%       13.000000   2217.419038     14.000000\n",
       "50%       14.000000   3989.180418     32.000000\n",
       "75%       14.000000   6905.677619     51.000000\n",
       "max       15.000000  38828.153564     85.000000"
      ]
     },
     "execution_count": 4,
     "metadata": {},
     "output_type": "execute_result"
    }
   ],
   "source": [
    "# There are ages of -1?  No data?  What is pooledWeight and what are the units?\n",
    "base_data[['panel', 'pooledWeight', 'age']].describe()"
   ]
  },
  {
   "cell_type": "code",
   "execution_count": 5,
   "metadata": {
    "collapsed": false
   },
   "outputs": [
    {
     "data": {
      "text/html": [
       "<div>\n",
       "<table border=\"1\" class=\"dataframe\">\n",
       "  <thead>\n",
       "    <tr style=\"text-align: right;\">\n",
       "      <th></th>\n",
       "      <th>12</th>\n",
       "      <th>13</th>\n",
       "      <th>14</th>\n",
       "      <th>15</th>\n",
       "    </tr>\n",
       "  </thead>\n",
       "  <tbody>\n",
       "    <tr>\n",
       "      <th>0</th>\n",
       "      <td>0.0</td>\n",
       "      <td>0.0</td>\n",
       "      <td>0.0</td>\n",
       "      <td>1.0</td>\n",
       "    </tr>\n",
       "  </tbody>\n",
       "</table>\n",
       "</div>"
      ],
      "text/plain": [
       "    12   13   14   15\n",
       "0  0.0  0.0  0.0  1.0"
      ]
     },
     "execution_count": 5,
     "metadata": {},
     "output_type": "execute_result"
    }
   ],
   "source": [
    "pd.get_dummies(base_data.panel)[:1]  # There are 4 panels; perhaps this data consists of 4 surveys."
   ]
  },
  {
   "cell_type": "code",
   "execution_count": 6,
   "metadata": {
    "collapsed": false
   },
   "outputs": [
    {
     "data": {
      "text/plain": [
       "2.777732602579323"
      ]
     },
     "execution_count": 6,
     "metadata": {},
     "output_type": "execute_result"
    }
   ],
   "source": [
    "100 * float(base_data[base_data.age==-1].count().id) / len(base_data)  # 2.8% of entries have no valid age"
   ]
  },
  {
   "cell_type": "code",
   "execution_count": 7,
   "metadata": {
    "collapsed": false
   },
   "outputs": [
    {
     "data": {
      "text/plain": [
       "(61489, 61489)"
      ]
     },
     "execution_count": 7,
     "metadata": {},
     "output_type": "execute_result"
    }
   ],
   "source": [
    "len(base_data), len(base_data.drop_duplicates())  # No completely duplicate entries"
   ]
  },
  {
   "cell_type": "code",
   "execution_count": 8,
   "metadata": {
    "collapsed": false
   },
   "outputs": [
    {
     "data": {
      "text/plain": [
       "(61489, 61315)"
      ]
     },
     "execution_count": 8,
     "metadata": {},
     "output_type": "execute_result"
    }
   ],
   "source": [
    "# Remove the unnamed index, id, and panel columns\n",
    "subset_cols = [i for i in base_data.columns if i not in ('Unnamed: 0', 'id', 'panel')]\n",
    "# Check for duplicates: less than 1% are duplicated\n",
    "len(base_data), len(base_data.drop_duplicates(subset=subset_cols))"
   ]
  },
  {
   "cell_type": "code",
   "execution_count": 9,
   "metadata": {
    "collapsed": false
   },
   "outputs": [],
   "source": [
    "subset_base_data = base_data.copy(deep=True)\n",
    "subset_base_data = subset_base_data[subset_cols]\n",
    "subset_base_data['entry_count'] = 1"
   ]
  },
  {
   "cell_type": "code",
   "execution_count": 10,
   "metadata": {
    "collapsed": false
   },
   "outputs": [],
   "source": [
    "dupe_count = subset_base_data.groupby(subset_cols).count()\n",
    "# dupe_count[dupe_count.entry_count > 1].head()"
   ]
  },
  {
   "cell_type": "code",
   "execution_count": 14,
   "metadata": {
    "collapsed": false
   },
   "outputs": [
    {
     "data": {
      "text/plain": [
       "<matplotlib.text.Text at 0x10980bfd0>"
      ]
     },
     "execution_count": 14,
     "metadata": {},
     "output_type": "execute_result"
    },
    {
     "data": {
      "image/png": "[encoded data removed]",
      "text/plain": [
       "<matplotlib.figure.Figure at 0x1097c11d0>"
      ]
     },
     "metadata": {},
     "output_type": "display_data"
    }
   ],
   "source": [
    "dupe_count.entry_count.hist(bins=10)\n",
    "plt.title('Counts of identical base data entries\\nexcluding index, id, panel columns')\n",
    "plt.xlabel('Counts of a given entry')\n",
    "plt.ylabel('Unique entries')\n",
    "plt.text(1.3, 30000, 'No entries are duplicated more than once', fontsize=12)"
   ]
  },
  {
   "cell_type": "code",
   "execution_count": 15,
   "metadata": {
    "collapsed": false
   },
   "outputs": [
    {
     "data": {
      "text/html": [
       "<div>\n",
       "<table border=\"1\" class=\"dataframe\">\n",
       "  <thead>\n",
       "    <tr style=\"text-align: right;\">\n",
       "      <th></th>\n",
       "      <th>Unnamed: 0</th>\n",
       "      <th>id</th>\n",
       "      <th>panel</th>\n",
       "      <th>pooledWeight</th>\n",
       "      <th>age</th>\n",
       "      <th>sex</th>\n",
       "      <th>race</th>\n",
       "      <th>married</th>\n",
       "      <th>highBPDiagnosed</th>\n",
       "      <th>diabetesDiagnosed</th>\n",
       "      <th>chdDiagnosed</th>\n",
       "      <th>miDiagnosed</th>\n",
       "      <th>anginaDiagnosed</th>\n",
       "      <th>strokeDiagnosed</th>\n",
       "      <th>emphysemaDiagnosed</th>\n",
       "      <th>asthmaDiagnosed</th>\n",
       "      <th>otherHDDiagnosed</th>\n",
       "      <th>heartFailureDiagnosed</th>\n",
       "    </tr>\n",
       "  </thead>\n",
       "  <tbody>\n",
       "    <tr>\n",
       "      <th>0</th>\n",
       "      <td>1</td>\n",
       "      <td>10007101</td>\n",
       "      <td>15</td>\n",
       "      <td>3603.881236</td>\n",
       "      <td>28</td>\n",
       "      <td>Male</td>\n",
       "      <td>White</td>\n",
       "      <td>MARRIED</td>\n",
       "      <td>Yes</td>\n",
       "      <td>No</td>\n",
       "      <td>No</td>\n",
       "      <td>No</td>\n",
       "      <td>No</td>\n",
       "      <td>No</td>\n",
       "      <td>No</td>\n",
       "      <td>No</td>\n",
       "      <td>No</td>\n",
       "      <td>No</td>\n",
       "    </tr>\n",
       "    <tr>\n",
       "      <th>1</th>\n",
       "      <td>2</td>\n",
       "      <td>10007102</td>\n",
       "      <td>15</td>\n",
       "      <td>2544.550424</td>\n",
       "      <td>25</td>\n",
       "      <td>Female</td>\n",
       "      <td>White</td>\n",
       "      <td>MARRIED</td>\n",
       "      <td>No</td>\n",
       "      <td>No</td>\n",
       "      <td>No</td>\n",
       "      <td>No</td>\n",
       "      <td>No</td>\n",
       "      <td>No</td>\n",
       "      <td>No</td>\n",
       "      <td>Yes</td>\n",
       "      <td>No</td>\n",
       "      <td>No</td>\n",
       "    </tr>\n",
       "    <tr>\n",
       "      <th>2</th>\n",
       "      <td>3</td>\n",
       "      <td>10007103</td>\n",
       "      <td>15</td>\n",
       "      <td>4050.397468</td>\n",
       "      <td>4</td>\n",
       "      <td>Male</td>\n",
       "      <td>White</td>\n",
       "      <td>UNDER 16 - INAPPLICABLE</td>\n",
       "      <td>Inapplicable</td>\n",
       "      <td>Inapplicable</td>\n",
       "      <td>Inapplicable</td>\n",
       "      <td>Inapplicable</td>\n",
       "      <td>Inapplicable</td>\n",
       "      <td>Inapplicable</td>\n",
       "      <td>Inapplicable</td>\n",
       "      <td>No</td>\n",
       "      <td>Inapplicable</td>\n",
       "      <td>No</td>\n",
       "    </tr>\n",
       "    <tr>\n",
       "      <th>3</th>\n",
       "      <td>4</td>\n",
       "      <td>10007104</td>\n",
       "      <td>15</td>\n",
       "      <td>3064.059720</td>\n",
       "      <td>3</td>\n",
       "      <td>Female</td>\n",
       "      <td>White</td>\n",
       "      <td>UNDER 16 - INAPPLICABLE</td>\n",
       "      <td>Inapplicable</td>\n",
       "      <td>Inapplicable</td>\n",
       "      <td>Inapplicable</td>\n",
       "      <td>Inapplicable</td>\n",
       "      <td>Inapplicable</td>\n",
       "      <td>Inapplicable</td>\n",
       "      <td>Inapplicable</td>\n",
       "      <td>No</td>\n",
       "      <td>Inapplicable</td>\n",
       "      <td>No</td>\n",
       "    </tr>\n",
       "    <tr>\n",
       "      <th>4</th>\n",
       "      <td>5</td>\n",
       "      <td>10008101</td>\n",
       "      <td>15</td>\n",
       "      <td>3635.552466</td>\n",
       "      <td>51</td>\n",
       "      <td>Male</td>\n",
       "      <td>Multiple</td>\n",
       "      <td>MARRIED</td>\n",
       "      <td>No</td>\n",
       "      <td>No</td>\n",
       "      <td>No</td>\n",
       "      <td>No</td>\n",
       "      <td>No</td>\n",
       "      <td>No</td>\n",
       "      <td>No</td>\n",
       "      <td>No</td>\n",
       "      <td>No</td>\n",
       "      <td>No</td>\n",
       "    </tr>\n",
       "  </tbody>\n",
       "</table>\n",
       "</div>"
      ],
      "text/plain": [
       "   Unnamed: 0        id  panel  pooledWeight  age     sex      race  \\\n",
       "0           1  10007101     15   3603.881236   28    Male     White   \n",
       "1           2  10007102     15   2544.550424   25  Female     White   \n",
       "2           3  10007103     15   4050.397468    4    Male     White   \n",
       "3           4  10007104     15   3064.059720    3  Female     White   \n",
       "4           5  10008101     15   3635.552466   51    Male  Multiple   \n",
       "\n",
       "                   married highBPDiagnosed diabetesDiagnosed  chdDiagnosed  \\\n",
       "0                  MARRIED             Yes                No            No   \n",
       "1                  MARRIED              No                No            No   \n",
       "2  UNDER 16 - INAPPLICABLE    Inapplicable      Inapplicable  Inapplicable   \n",
       "3  UNDER 16 - INAPPLICABLE    Inapplicable      Inapplicable  Inapplicable   \n",
       "4                  MARRIED              No                No            No   \n",
       "\n",
       "    miDiagnosed anginaDiagnosed strokeDiagnosed emphysemaDiagnosed  \\\n",
       "0            No              No              No                 No   \n",
       "1            No              No              No                 No   \n",
       "2  Inapplicable    Inapplicable    Inapplicable       Inapplicable   \n",
       "3  Inapplicable    Inapplicable    Inapplicable       Inapplicable   \n",
       "4            No              No              No                 No   \n",
       "\n",
       "  asthmaDiagnosed otherHDDiagnosed heartFailureDiagnosed  \n",
       "0              No               No                    No  \n",
       "1             Yes               No                    No  \n",
       "2              No     Inapplicable                    No  \n",
       "3              No     Inapplicable                    No  \n",
       "4              No               No                    No  "
      ]
     },
     "execution_count": 15,
     "metadata": {},
     "output_type": "execute_result"
    }
   ],
   "source": [
    "base_data.head()  # If people are under 16 they can't be married?  Or question is omitted if patient under 16?"
   ]
  },
  {
   "cell_type": "code",
   "execution_count": 16,
   "metadata": {
    "collapsed": true
   },
   "outputs": [],
   "source": [
    "base_copy = base_data.copy(deep=True)"
   ]
  },
  {
   "cell_type": "code",
   "execution_count": 17,
   "metadata": {
    "collapsed": false,
    "scrolled": true
   },
   "outputs": [
    {
     "name": "stdout",
     "output_type": "stream",
     "text": [
      "        entry_count\n",
      "sex                \n",
      "Female        32075\n",
      "Male          29414\n",
      "                                  entry_count\n",
      "race                                         \n",
      "Amer Indian/Alaska Native                 623\n",
      "Asian                                    4080\n",
      "Black                                   12325\n",
      "Multiple                                 1358\n",
      "Native Hawaiian/Pacific Islander          234\n",
      "White                                   42869\n",
      "                         entry_count\n",
      "married                             \n",
      "DIVORCED                        3196\n",
      "DIVORCED IN ROUND               1238\n",
      "INAPPLICABLE                    1708\n",
      "MARRIED                        21424\n",
      "MARRIED IN ROUND                1021\n",
      "NEVER MARRIED                  13435\n",
      "SEPARATED                        672\n",
      "SEPARATED IN ROUND               615\n",
      "UNDER 16 - INAPPLICABLE        15515\n",
      "WIDOWED                         2294\n",
      "WIDOWED IN ROUND                 371\n",
      "                 entry_count\n",
      "highBPDiagnosed             \n",
      "DK                        48\n",
      "Inapplicable           18270\n",
      "No                     29525\n",
      "Refused                    4\n",
      "Yes                    13637\n",
      "not ascertained            5\n",
      "                   entry_count\n",
      "diabetesDiagnosed             \n",
      "DK                          19\n",
      "Inapplicable             18270\n",
      "No                       38848\n",
      "Refused                      5\n",
      "Yes                       4340\n",
      "not ascertained              7\n",
      "                 entry_count\n",
      "chdDiagnosed                \n",
      "DK                        36\n",
      "Inapplicable           18270\n",
      "No                     40844\n",
      "Refused                    4\n",
      "Yes                     2328\n",
      "not ascertained            7\n",
      "                 entry_count\n",
      "miDiagnosed                 \n",
      "DK                        22\n",
      "Inapplicable           18270\n",
      "No                     41658\n",
      "Refused                    5\n",
      "Yes                     1527\n",
      "not ascertained            7\n",
      "                 entry_count\n",
      "anginaDiagnosed             \n",
      "DK                        37\n",
      "Inapplicable           18270\n",
      "No                     42031\n",
      "Refused                    6\n",
      "Yes                     1138\n",
      "not ascertained            7\n",
      "                 entry_count\n",
      "strokeDiagnosed             \n",
      "DK                        20\n",
      "Inapplicable           18270\n",
      "No                     41630\n",
      "Refused                    5\n",
      "Yes                     1556\n",
      "not ascertained            8\n",
      "                    entry_count\n",
      "emphysemaDiagnosed             \n",
      "DK                           15\n",
      "Inapplicable              18270\n",
      "No                        42285\n",
      "Refused                       5\n",
      "Yes                         907\n",
      "not ascertained               7\n",
      "                 entry_count\n",
      "asthmaDiagnosed             \n",
      "DK                        19\n",
      "Inapplicable            1035\n",
      "No                     54425\n",
      "Refused                    8\n",
      "Yes                     6001\n",
      "not ascertained            1\n",
      "                  entry_count\n",
      "otherHDDiagnosed             \n",
      "DK                         21\n",
      "Inapplicable            18270\n",
      "No                      39317\n",
      "Refused                     5\n",
      "Yes                      3868\n",
      "not ascertained             8\n",
      "                       entry_count\n",
      "heartFailureDiagnosed             \n",
      "No                           61056\n",
      "Yes                            433\n"
     ]
    }
   ],
   "source": [
    "# Looking at frequencies for categorical variables\n",
    "base_copy['entry_count'] = 1\n",
    "cat_cols = [i for i in base_data.columns if i not in ('Unnamed: 0', 'id', 'panel', 'age', 'pooledWeight')]\n",
    "for column in cat_cols:\n",
    "    print base_copy.groupby(column).count()[['entry_count']]"
   ]
  },
  {
   "cell_type": "code",
   "execution_count": 18,
   "metadata": {
    "collapsed": false,
    "scrolled": true
   },
   "outputs": [
    {
     "data": {
      "text/html": [
       "<div>\n",
       "<table border=\"1\" class=\"dataframe\">\n",
       "  <thead>\n",
       "    <tr style=\"text-align: right;\">\n",
       "      <th></th>\n",
       "      <th>id</th>\n",
       "      <th>sex_Female</th>\n",
       "      <th>sex_Male</th>\n",
       "      <th>race_Amer Indian/Alaska Native</th>\n",
       "      <th>race_Asian</th>\n",
       "      <th>race_Black</th>\n",
       "      <th>race_Multiple</th>\n",
       "      <th>race_Native Hawaiian/Pacific Islander</th>\n",
       "      <th>race_White</th>\n",
       "      <th>married_DIVORCED</th>\n",
       "      <th>...</th>\n",
       "      <th>asthmaDiagnosed_Yes</th>\n",
       "      <th>asthmaDiagnosed_not ascertained</th>\n",
       "      <th>otherHDDiagnosed_DK</th>\n",
       "      <th>otherHDDiagnosed_Inapplicable</th>\n",
       "      <th>otherHDDiagnosed_No</th>\n",
       "      <th>otherHDDiagnosed_Refused</th>\n",
       "      <th>otherHDDiagnosed_Yes</th>\n",
       "      <th>otherHDDiagnosed_not ascertained</th>\n",
       "      <th>heartFailureDiagnosed_No</th>\n",
       "      <th>heartFailureDiagnosed_Yes</th>\n",
       "    </tr>\n",
       "  </thead>\n",
       "  <tbody>\n",
       "    <tr>\n",
       "      <th>0</th>\n",
       "      <td>10007101</td>\n",
       "      <td>0.0</td>\n",
       "      <td>1.0</td>\n",
       "      <td>0.0</td>\n",
       "      <td>0.0</td>\n",
       "      <td>0.0</td>\n",
       "      <td>0.0</td>\n",
       "      <td>0.0</td>\n",
       "      <td>1.0</td>\n",
       "      <td>0.0</td>\n",
       "      <td>...</td>\n",
       "      <td>0.0</td>\n",
       "      <td>0.0</td>\n",
       "      <td>0.0</td>\n",
       "      <td>0.0</td>\n",
       "      <td>1.0</td>\n",
       "      <td>0.0</td>\n",
       "      <td>0.0</td>\n",
       "      <td>0.0</td>\n",
       "      <td>1.0</td>\n",
       "      <td>0.0</td>\n",
       "    </tr>\n",
       "  </tbody>\n",
       "</table>\n",
       "<p>1 rows × 76 columns</p>\n",
       "</div>"
      ],
      "text/plain": [
       "         id  sex_Female  sex_Male  race_Amer Indian/Alaska Native  race_Asian  \\\n",
       "0  10007101         0.0       1.0                             0.0         0.0   \n",
       "\n",
       "   race_Black  race_Multiple  race_Native Hawaiian/Pacific Islander  \\\n",
       "0         0.0            0.0                                    0.0   \n",
       "\n",
       "   race_White  married_DIVORCED            ...              \\\n",
       "0         1.0               0.0            ...               \n",
       "\n",
       "   asthmaDiagnosed_Yes  asthmaDiagnosed_not ascertained  otherHDDiagnosed_DK  \\\n",
       "0                  0.0                              0.0                  0.0   \n",
       "\n",
       "   otherHDDiagnosed_Inapplicable  otherHDDiagnosed_No  \\\n",
       "0                            0.0                  1.0   \n",
       "\n",
       "   otherHDDiagnosed_Refused  otherHDDiagnosed_Yes  \\\n",
       "0                       0.0                   0.0   \n",
       "\n",
       "   otherHDDiagnosed_not ascertained  heartFailureDiagnosed_No  \\\n",
       "0                               0.0                       1.0   \n",
       "\n",
       "   heartFailureDiagnosed_Yes  \n",
       "0                        0.0  \n",
       "\n",
       "[1 rows x 76 columns]"
      ]
     },
     "execution_count": 18,
     "metadata": {},
     "output_type": "execute_result"
    }
   ],
   "source": [
    "base_dummy_cols = cat_cols + ['id']\n",
    "cat_prep = pd.get_dummies(base_copy[base_dummy_cols])  # Process categorical variables\n",
    "cat_prep[0:1]"
   ]
  },
  {
   "cell_type": "code",
   "execution_count": 19,
   "metadata": {
    "collapsed": false
   },
   "outputs": [
    {
     "data": {
      "text/plain": [
       "(61489, 61489)"
      ]
     },
     "execution_count": 19,
     "metadata": {},
     "output_type": "execute_result"
    }
   ],
   "source": [
    "len(cat_prep), len(base_copy)"
   ]
  },
  {
   "cell_type": "markdown",
   "metadata": {},
   "source": [
    "<h3>Prescribed meds data</h3>"
   ]
  },
  {
   "cell_type": "code",
   "execution_count": 20,
   "metadata": {
    "collapsed": false
   },
   "outputs": [
    {
     "data": {
      "text/html": [
       "<div>\n",
       "<table border=\"1\" class=\"dataframe\">\n",
       "  <thead>\n",
       "    <tr style=\"text-align: right;\">\n",
       "      <th></th>\n",
       "      <th>Unnamed: 0</th>\n",
       "      <th>id</th>\n",
       "      <th>rxStartMonth</th>\n",
       "      <th>rxStartYear</th>\n",
       "      <th>rxName</th>\n",
       "      <th>rxNDC</th>\n",
       "      <th>rxQuantity</th>\n",
       "      <th>rxForm</th>\n",
       "    </tr>\n",
       "  </thead>\n",
       "  <tbody>\n",
       "    <tr>\n",
       "      <th>0</th>\n",
       "      <td>1</td>\n",
       "      <td>10007104</td>\n",
       "      <td>3</td>\n",
       "      <td>2011</td>\n",
       "      <td>AMOXICILLIN</td>\n",
       "      <td>143988775</td>\n",
       "      <td>75.0</td>\n",
       "      <td>SUSR</td>\n",
       "    </tr>\n",
       "    <tr>\n",
       "      <th>1</th>\n",
       "      <td>2</td>\n",
       "      <td>10007104</td>\n",
       "      <td>3</td>\n",
       "      <td>2011</td>\n",
       "      <td>OTIC EDGE SOLUTION</td>\n",
       "      <td>68032032814</td>\n",
       "      <td>14.0</td>\n",
       "      <td>SOL</td>\n",
       "    </tr>\n",
       "    <tr>\n",
       "      <th>2</th>\n",
       "      <td>3</td>\n",
       "      <td>10008102</td>\n",
       "      <td>3</td>\n",
       "      <td>2011</td>\n",
       "      <td>NASAL DECONGESTANT 0.05% SPRAY</td>\n",
       "      <td>63981056903</td>\n",
       "      <td>15.0</td>\n",
       "      <td>SPR</td>\n",
       "    </tr>\n",
       "    <tr>\n",
       "      <th>3</th>\n",
       "      <td>4</td>\n",
       "      <td>10008102</td>\n",
       "      <td>3</td>\n",
       "      <td>2011</td>\n",
       "      <td>NASAL DECONGESTANT 0.05% SPRAY</td>\n",
       "      <td>63981056903</td>\n",
       "      <td>15.0</td>\n",
       "      <td>SPR</td>\n",
       "    </tr>\n",
       "    <tr>\n",
       "      <th>4</th>\n",
       "      <td>5</td>\n",
       "      <td>10008102</td>\n",
       "      <td>9</td>\n",
       "      <td>2011</td>\n",
       "      <td>DIPHENHYDRAM</td>\n",
       "      <td>603333921</td>\n",
       "      <td>30.0</td>\n",
       "      <td>CAP</td>\n",
       "    </tr>\n",
       "  </tbody>\n",
       "</table>\n",
       "</div>"
      ],
      "text/plain": [
       "   Unnamed: 0        id  rxStartMonth  rxStartYear  \\\n",
       "0           1  10007104             3         2011   \n",
       "1           2  10007104             3         2011   \n",
       "2           3  10008102             3         2011   \n",
       "3           4  10008102             3         2011   \n",
       "4           5  10008102             9         2011   \n",
       "\n",
       "                           rxName        rxNDC  rxQuantity rxForm  \n",
       "0                     AMOXICILLIN    143988775        75.0   SUSR  \n",
       "1              OTIC EDGE SOLUTION  68032032814        14.0    SOL  \n",
       "2  NASAL DECONGESTANT 0.05% SPRAY  63981056903        15.0    SPR  \n",
       "3  NASAL DECONGESTANT 0.05% SPRAY  63981056903        15.0    SPR  \n",
       "4                    DIPHENHYDRAM    603333921        30.0    CAP  "
      ]
     },
     "execution_count": 20,
     "metadata": {},
     "output_type": "execute_result"
    }
   ],
   "source": [
    "meds_data.head()"
   ]
  },
  {
   "cell_type": "code",
   "execution_count": 21,
   "metadata": {
    "collapsed": false
   },
   "outputs": [
    {
     "data": {
      "text/plain": [
       "(1148347, 1148347)"
      ]
     },
     "execution_count": 21,
     "metadata": {},
     "output_type": "execute_result"
    }
   ],
   "source": [
    "len(meds_data), len(meds_data.drop_duplicates())  # Also no completely duplicate rows here"
   ]
  },
  {
   "cell_type": "markdown",
   "metadata": {},
   "source": [
    "There are a lot of different rxNames.  Maybe some are named by chemical name and others are named by brand name.  And some could just be duped because of spacing or spelling.  How specific are these?  For instance, \"Nasal Decongestant\" seems rather vague."
   ]
  },
  {
   "cell_type": "code",
   "execution_count": 22,
   "metadata": {
    "collapsed": false
   },
   "outputs": [
    {
     "data": {
      "text/plain": [
       "(9218, 28736, 328)"
      ]
     },
     "execution_count": 22,
     "metadata": {},
     "output_type": "execute_result"
    }
   ],
   "source": [
    "len(meds_data.rxName.unique()), len(meds_data.rxNDC.unique()), len(meds_data.rxForm.unique())"
   ]
  },
  {
   "cell_type": "markdown",
   "metadata": {},
   "source": [
    "A quick look at sorted names already reveals some obvious duplicates, e.g. ' HYDROCHLOROTHIAZIDE (HCTZ)' vs. ' HYDROCHLOROTHIZAIDE'.  That number in front of some meds seems like it is a category code."
   ]
  },
  {
   "cell_type": "code",
   "execution_count": 23,
   "metadata": {
    "collapsed": false
   },
   "outputs": [
    {
     "data": {
      "text/plain": [
       "[' CLOPIDOGREL',\n",
       " ' HYDROCHLOROTHIAZIDE (HCTZ)',\n",
       " ' HYDROCHLOROTHIZAIDE',\n",
       " ' LIPITOR',\n",
       " '(ARMOUR) THYROID (1GR)',\n",
       " '-9',\n",
       " '1 ANTI-INFECTIVES',\n",
       " '1.5 INCH 27 GAUGE NEEDLE',\n",
       " '1/2ML TB SYR',\n",
       " '10',\n",
       " '105 MISCELLANEOUS AGENTS',\n",
       " '113 GENITOURINARY TRACT AGENTS',\n",
       " '115 NUTRITIONAL PRODUCTS',\n",
       " '122 RESPIRATORY AGENTS',\n",
       " '133 TOPICAL AGENTS',\n",
       " '1CC TB SYRNG27GX1/2\"',\n",
       " '1ML TB SYRNG',\n",
       " '20 ANTINEOPLASTICS',\n",
       " '218 ALTERNATIVE MEDICINES',\n",
       " '242 PSYCHOTHERAPEUTIC AGENTS']"
      ]
     },
     "execution_count": 23,
     "metadata": {},
     "output_type": "execute_result"
    }
   ],
   "source": [
    "sorted(list(meds_data.rxName.unique()))[0:20]"
   ]
  },
  {
   "cell_type": "markdown",
   "metadata": {},
   "source": [
    "Looking at specific drug strings to understand the duping situation.  There are punctuation variations for drug combinations, so we should treat the &, AND, -, and / situations as equivalent.  Possibly eliminate things in parentheses, since they tend to be commentary on the form of the prescription."
   ]
  },
  {
   "cell_type": "code",
   "execution_count": 24,
   "metadata": {
    "collapsed": false
   },
   "outputs": [
    {
     "data": {
      "text/plain": [
       "{'ZYPREXA',\n",
       " 'ZYPREXA (IDENTI-DOSE)',\n",
       " 'ZYPREXA 10MG',\n",
       " 'ZYPREXA 15MG',\n",
       " 'ZYPREXA ZYDI',\n",
       " 'ZYPREXA ZYDIS',\n",
       " 'ZYPREXA ZYDIS (DOSE PACK)'}"
      ]
     },
     "execution_count": 24,
     "metadata": {},
     "output_type": "execute_result"
    }
   ],
   "source": [
    "zyp_set = set([i for i in meds_data.rxName if 'ZYPREXA' in i])\n",
    "zyp_set"
   ]
  },
  {
   "cell_type": "code",
   "execution_count": 25,
   "metadata": {
    "collapsed": false
   },
   "outputs": [
    {
     "data": {
      "text/plain": [
       "{' HYDROCHLOROTHIAZIDE (HCTZ)',\n",
       " 'AMILORIDE HCL-HYDROCHLOROTHIAZIDE',\n",
       " 'BENAZEPRIL HCL/HYDROCHLOROTHIAZIDE',\n",
       " 'BENAZEPRIL HCL/HYDROCHLOROTHIAZIDE (FILM-COATED)',\n",
       " 'BENAZEPRIL-HYDROCHLOROTHIAZIDE',\n",
       " 'BISOPROLOL & HYDROCHLOROTHIAZIDE',\n",
       " 'BISOPROLOL-HYDROCHLOROTHIAZIDE',\n",
       " 'CAPTOPRIL-HYDROCHLOROTHIAZIDE',\n",
       " 'ENALAPRIL-HYDROCHLOROTHIAZIDE',\n",
       " 'ENALPRIL/HYDROCHLOROTHIAZIDE',\n",
       " 'FOSINOPRIL-HYDROCHLOROTHIAZIDE',\n",
       " 'HYDROCHLOROTHIAZIDE',\n",
       " 'HYDROCHLOROTHIAZIDE (HARD GELATIN)',\n",
       " 'HYDROCHLOROTHIAZIDE (HCTZ)',\n",
       " 'HYDROCHLOROTHIAZIDE (UNIT OF USE)',\n",
       " 'HYDROCHLOROTHIAZIDE (USP)',\n",
       " 'HYDROCHLOROTHIAZIDE 25 MG',\n",
       " 'HYDROCHLOROTHIAZIDE 25 MG TABLET',\n",
       " 'HYDROCHLOROTHIAZIDE-LISINOPRIL',\n",
       " 'HYDROCHLOROTHIAZIDE-METOPROLOL',\n",
       " 'HYDROCHLOROTHIAZIDE-MOEXIPRIL HYDROCHLORIDE',\n",
       " 'HYDROCHLOROTHIAZIDE-PO 25MG TAB',\n",
       " 'HYDROCHLOROTHIAZIDE-PROPRANOLOL',\n",
       " 'HYDROCHLOROTHIAZIDE-QUINAPRIL HYDROCHLORIDE',\n",
       " 'HYDROCHLOROTHIAZIDE-SPIRONOLACTONE',\n",
       " 'HYDROCHLOROTHIAZIDE-TRIAMTERENE',\n",
       " 'HYDROCHLOROTHIAZIDE/LISINOPRIL',\n",
       " 'HYDROCHLOROTHIAZIDE/TRIAMTERENE',\n",
       " 'LISINOPRIL AND HYDROCHLOROTHIAZIDE',\n",
       " 'LISINOPRIL-HYDROCHLOROTHIAZIDE',\n",
       " 'LISINOPRIL/HYDROCHLOROTHIAZIDE',\n",
       " 'LOSARTAN POTASSIUM & HYDROCHLOROTHIAZIDE',\n",
       " 'QUINAPRIL/HYDROCHLOROTHIAZIDE',\n",
       " 'SPIRONOLACTONE/HYDROCHLOROTHIAZIDE',\n",
       " 'TRIAMTERENE & HYDROCHLOROTHIAZIDE',\n",
       " 'TRIAMTERENE AND HYDROCHLOROTHIAZIDE',\n",
       " 'TRIAMTERENE/HYDROCHLOROTHIAZIDE',\n",
       " 'VALSARTAN-HYDROCHLOROTHIAZIDE'}"
      ]
     },
     "execution_count": 25,
     "metadata": {},
     "output_type": "execute_result"
    }
   ],
   "source": [
    "hctz_set = set([i for i in meds_data.rxName if 'HYDROCHLOROTHIAZIDE' in i])\n",
    "hctz_set"
   ]
  },
  {
   "cell_type": "code",
   "execution_count": 26,
   "metadata": {
    "collapsed": false
   },
   "outputs": [
    {
     "data": {
      "text/plain": [
       "['TRIAMT/HCTZ',\n",
       " 'BISOPRL/HCTZ',\n",
       " 'TRIMT/HCTZ',\n",
       " 'ENALAPR/HCTZ',\n",
       " 'MAXZIDE-25 <HCTZ/TRIAM>',\n",
       " 'TRAIMTERENE/HCTZ',\n",
       " 'LISINO-HCTZ',\n",
       " 'LISINOP /HCTZ',\n",
       " 'BISOPROLOL/HCTZ (10X10)',\n",
       " 'LOSARTAN-HCTZ']"
      ]
     },
     "execution_count": 26,
     "metadata": {},
     "output_type": "execute_result"
    }
   ],
   "source": [
    "list(set([i for i in meds_data.rxName if 'HCTZ' in i]))[0:10]  # Abbreviations also cause duping.  Ignore for now."
   ]
  },
  {
   "cell_type": "code",
   "execution_count": 27,
   "metadata": {
    "collapsed": false
   },
   "outputs": [
    {
     "data": {
      "text/plain": [
       "['VICODIN <HYDROCOD/APAP>',\n",
       " 'VICODIN <HYDROCOD/APAP>',\n",
       " 'VICODIN <HYDROCOD/APAP>',\n",
       " 'VICODIN <HYDROCOD/APAP>',\n",
       " 'VICODIN <HYDROCOD/APAP>',\n",
       " 'VICODIN <HYDROCOD/APAP>',\n",
       " 'MAXZIDE-25 <HCTZ/TRIAM>',\n",
       " 'MAXZIDE-25 <HCTZ/TRIAM>']"
      ]
     },
     "execution_count": 27,
     "metadata": {},
     "output_type": "execute_result"
    }
   ],
   "source": [
    "[i for i in meds_data.rxName if '<' in i or '>' in i][0:10]  # Brand names and chemical abbreviations"
   ]
  },
  {
   "cell_type": "code",
   "execution_count": 28,
   "metadata": {
    "collapsed": false
   },
   "outputs": [
    {
     "data": {
      "text/plain": [
       "{'VICODIN',\n",
       " 'VICODIN 5 MG/500 MG',\n",
       " 'VICODIN <HYDROCOD/APAP>',\n",
       " 'VICODIN EQUIV',\n",
       " 'VICODIN ES',\n",
       " 'VICODIN ES (R.N.P.,4X25)',\n",
       " 'VICODIN HP',\n",
       " 'VICODIN TUSS EXPECTORANT (AF,SF,DYE-FREE,CHERRY)',\n",
       " 'VICODIN/EQUIV'}"
      ]
     },
     "execution_count": 28,
     "metadata": {},
     "output_type": "execute_result"
    }
   ],
   "source": [
    "# But sometimes the brand names don't include chemical names.  Ignore for now.\n",
    "set([i for i in meds_data.rxName if 'VICODIN' in i])"
   ]
  },
  {
   "cell_type": "code",
   "execution_count": 29,
   "metadata": {
    "collapsed": true
   },
   "outputs": [],
   "source": [
    "meds_copy = meds_data.copy(deep=True)"
   ]
  },
  {
   "cell_type": "code",
   "execution_count": 30,
   "metadata": {
    "collapsed": false
   },
   "outputs": [
    {
     "data": {
      "text/plain": [
       "Index([u'Unnamed: 0', u'id', u'rxStartMonth', u'rxStartYear', u'rxName',\n",
       "       u'rxNDC', u'rxQuantity', u'rxForm'],\n",
       "      dtype='object')"
      ]
     },
     "execution_count": 30,
     "metadata": {},
     "output_type": "execute_result"
    }
   ],
   "source": [
    "meds_copy.columns"
   ]
  },
  {
   "cell_type": "code",
   "execution_count": 31,
   "metadata": {
    "collapsed": true
   },
   "outputs": [],
   "source": [
    "def clean_rxname(rxname):\n",
    "    \"\"\"Make string substitutions to dedupe rxnames.\n",
    "    \n",
    "    Remove all parenthetical statements.\n",
    "    Replace ' AND ', '/', ' & ' with '-'.\n",
    "    Strip trailing and leading spaces.\n",
    "\n",
    "    \"\"\"\n",
    "    replacements = [\n",
    "        ('\\([\\w\\s\\D]+\\)', ''),\n",
    "        (' AND ', '-'),\n",
    "        (' & ', '-'),\n",
    "        ('/', '-')\n",
    "    ]\n",
    "    for pattern in replacements:\n",
    "        rxname = re.sub(pattern[0], pattern[1], rxname)\n",
    "    rxname = rxname.rstrip().lstrip()\n",
    "    return rxname"
   ]
  },
  {
   "cell_type": "code",
   "execution_count": 32,
   "metadata": {
    "collapsed": false
   },
   "outputs": [
    {
     "data": {
      "text/plain": [
       "'HYDROCHLOROTHIAZIDE-MEEP-RAINBOW-CHARMS'"
      ]
     },
     "execution_count": 32,
     "metadata": {},
     "output_type": "execute_result"
    }
   ],
   "source": [
    "clean_rxname(' HYDROCHLOROTHIAZIDE AND MEEP & RAINBOW/CHARMS (FILM-COATED 22 MG)')"
   ]
  },
  {
   "cell_type": "code",
   "execution_count": 33,
   "metadata": {
    "collapsed": false
   },
   "outputs": [
    {
     "data": {
      "text/plain": [
       "{'AMILORIDE HCL-HYDROCHLOROTHIAZIDE',\n",
       " 'BENAZEPRIL HCL-HYDROCHLOROTHIAZIDE',\n",
       " 'BENAZEPRIL-HYDROCHLOROTHIAZIDE',\n",
       " 'BISOPROLOL-HYDROCHLOROTHIAZIDE',\n",
       " 'CAPTOPRIL-HYDROCHLOROTHIAZIDE',\n",
       " 'ENALAPRIL-HYDROCHLOROTHIAZIDE',\n",
       " 'ENALPRIL-HYDROCHLOROTHIAZIDE',\n",
       " 'FOSINOPRIL-HYDROCHLOROTHIAZIDE',\n",
       " 'HYDROCHLOROTHIAZIDE',\n",
       " 'HYDROCHLOROTHIAZIDE 25 MG',\n",
       " 'HYDROCHLOROTHIAZIDE 25 MG TABLET',\n",
       " 'HYDROCHLOROTHIAZIDE-LISINOPRIL',\n",
       " 'HYDROCHLOROTHIAZIDE-METOPROLOL',\n",
       " 'HYDROCHLOROTHIAZIDE-MOEXIPRIL HYDROCHLORIDE',\n",
       " 'HYDROCHLOROTHIAZIDE-PO 25MG TAB',\n",
       " 'HYDROCHLOROTHIAZIDE-PROPRANOLOL',\n",
       " 'HYDROCHLOROTHIAZIDE-QUINAPRIL HYDROCHLORIDE',\n",
       " 'HYDROCHLOROTHIAZIDE-SPIRONOLACTONE',\n",
       " 'HYDROCHLOROTHIAZIDE-TRIAMTERENE',\n",
       " 'LISINOPRIL-HYDROCHLOROTHIAZIDE',\n",
       " 'LOSARTAN POTASSIUM-HYDROCHLOROTHIAZIDE',\n",
       " 'QUINAPRIL-HYDROCHLOROTHIAZIDE',\n",
       " 'SPIRONOLACTONE-HYDROCHLOROTHIAZIDE',\n",
       " 'TRIAMTERENE-HYDROCHLOROTHIAZIDE',\n",
       " 'VALSARTAN-HYDROCHLOROTHIAZIDE'}"
      ]
     },
     "execution_count": 33,
     "metadata": {},
     "output_type": "execute_result"
    }
   ],
   "source": [
    "hctz_clean = [clean_rxname(i) for i in hctz_set]\n",
    "set(hctz_clean)"
   ]
  },
  {
   "cell_type": "code",
   "execution_count": 34,
   "metadata": {
    "collapsed": false
   },
   "outputs": [],
   "source": [
    "rxnames = meds_copy.rxName\n",
    "rxnames_clean = [clean_rxname(i) for i in rxnames]"
   ]
  },
  {
   "cell_type": "code",
   "execution_count": 35,
   "metadata": {
    "collapsed": false
   },
   "outputs": [
    {
     "data": {
      "text/plain": [
       "(7628, 1148347)"
      ]
     },
     "execution_count": 35,
     "metadata": {},
     "output_type": "execute_result"
    }
   ],
   "source": [
    "len(set(rxnames_clean)), len(rxnames)"
   ]
  },
  {
   "cell_type": "markdown",
   "metadata": {},
   "source": [
    "<h2>Data preparation</h2>"
   ]
  },
  {
   "cell_type": "markdown",
   "metadata": {},
   "source": [
    "Based on above exploration, let's remove duplicate rows from base data."
   ]
  },
  {
   "cell_type": "code",
   "execution_count": 36,
   "metadata": {
    "collapsed": false
   },
   "outputs": [],
   "source": [
    "base_clean = base_copy.drop_duplicates(subset=subset_cols)"
   ]
  },
  {
   "cell_type": "code",
   "execution_count": 37,
   "metadata": {
    "collapsed": false
   },
   "outputs": [
    {
     "data": {
      "text/plain": [
       "(1148347, 377386)"
      ]
     },
     "execution_count": 37,
     "metadata": {},
     "output_type": "execute_result"
    }
   ],
   "source": [
    "meds_dedup_cols = [i for i in meds_data.columns if i not in ('Unnamed: 0')]\n",
    "len(meds_data), len(meds_data.drop_duplicates(subset=meds_dedup_cols))"
   ]
  },
  {
   "cell_type": "code",
   "execution_count": 38,
   "metadata": {
    "collapsed": false
   },
   "outputs": [
    {
     "data": {
      "text/plain": [
       "(1148347, 264411)"
      ]
     },
     "execution_count": 38,
     "metadata": {},
     "output_type": "execute_result"
    }
   ],
   "source": [
    "meds_dedup_cols = [i for i in meds_data.columns if i not in ('Unnamed: 0', 'id')]\n",
    "len(meds_data), len(meds_data.drop_duplicates(subset=meds_dedup_cols))"
   ]
  },
  {
   "cell_type": "markdown",
   "metadata": {
    "collapsed": true
   },
   "source": [
    "We could have duplicate client info who nevertheless have different prescription info."
   ]
  },
  {
   "cell_type": "markdown",
   "metadata": {},
   "source": [
    "<h2>Initial questions</h2>"
   ]
  },
  {
   "cell_type": "markdown",
   "metadata": {},
   "source": [
    "1. What are the most common medications for each disease in the base file?\n",
    "2. What medications are most indicative of each disease?"
   ]
  },
  {
   "cell_type": "code",
   "execution_count": 39,
   "metadata": {
    "collapsed": true
   },
   "outputs": [],
   "source": [
    "# For each disease, see the distribution of medications?  Top 10 medications?\n",
    "# Join the medications on to the disease data\n",
    "# Try deduping people?"
   ]
  },
  {
   "cell_type": "code",
   "execution_count": 40,
   "metadata": {
    "collapsed": false
   },
   "outputs": [
    {
     "data": {
      "text/plain": [
       "<seaborn.axisgrid.PairGrid at 0x107ac1dd0>"
      ]
     },
     "execution_count": 40,
     "metadata": {},
     "output_type": "execute_result"
    },
    {
     "data": {
      "image/png": "[encoded data removed]",
      "text/plain": [
       "<matplotlib.figure.Figure at 0x1034cf090>"
      ]
     },
     "metadata": {},
     "output_type": "display_data"
    }
   ],
   "source": [
    "sns.set()\n",
    "\n",
    "#df = sns.load_dataset(\"iris\")\n",
    "#sns.pairplot(df, hue=\"species\")\n",
    "\n",
    "df = base_copy[['pooledWeight', 'age']]\n",
    "sns.pairplot(df)"
   ]
  },
  {
   "cell_type": "code",
   "execution_count": 41,
   "metadata": {
    "collapsed": false
   },
   "outputs": [
    {
     "data": {
      "text/plain": [
       "Index([u'Unnamed: 0', u'id', u'panel', u'pooledWeight', u'age', u'sex',\n",
       "       u'race', u'married', u'highBPDiagnosed', u'diabetesDiagnosed',\n",
       "       u'chdDiagnosed', u'miDiagnosed', u'anginaDiagnosed', u'strokeDiagnosed',\n",
       "       u'emphysemaDiagnosed', u'asthmaDiagnosed', u'otherHDDiagnosed',\n",
       "       u'heartFailureDiagnosed', u'entry_count'],\n",
       "      dtype='object')"
      ]
     },
     "execution_count": 41,
     "metadata": {},
     "output_type": "execute_result"
    }
   ],
   "source": [
    "base_copy.columns"
   ]
  },
  {
   "cell_type": "code",
   "execution_count": 42,
   "metadata": {
    "collapsed": false
   },
   "outputs": [],
   "source": [
    "chd_dummies = pd.get_dummies(base_copy.chdDiagnosed, prefix='chdDiagnosed')\n",
    "sns_test = pd.merge(chd_dummies, base_copy[['id', 'panel', 'pooledWeight', 'age']], left_index=True, right_index=True)"
   ]
  },
  {
   "cell_type": "code",
   "execution_count": 43,
   "metadata": {
    "collapsed": false
   },
   "outputs": [
    {
     "data": {
      "text/plain": [
       "(61489, 61489, 61489)"
      ]
     },
     "execution_count": 43,
     "metadata": {},
     "output_type": "execute_result"
    }
   ],
   "source": [
    "len(chd_dummies), len(sns_test), len(base_copy)"
   ]
  },
  {
   "cell_type": "code",
   "execution_count": 44,
   "metadata": {
    "collapsed": false
   },
   "outputs": [
    {
     "data": {
      "text/plain": [
       "<matplotlib.axes._subplots.AxesSubplot at 0x10f2a5990>"
      ]
     },
     "execution_count": 44,
     "metadata": {},
     "output_type": "execute_result"
    },
    {
     "data": {
      "image/png": "[encoded data removed]",
      "text/plain": [
       "<matplotlib.figure.Figure at 0x10fd8d8d0>"
      ]
     },
     "metadata": {},
     "output_type": "display_data"
    }
   ],
   "source": [
    "sns.swarmplot(x='chdDiagnosed', y='age', data=base_copy.sample(400))"
   ]
  },
  {
   "cell_type": "code",
   "execution_count": 45,
   "metadata": {
    "collapsed": false
   },
   "outputs": [
    {
     "data": {
      "text/plain": [
       "<matplotlib.axes._subplots.AxesSubplot at 0x10cb8a0d0>"
      ]
     },
     "execution_count": 45,
     "metadata": {},
     "output_type": "execute_result"
    },
    {
     "data": {
      "image/png": "[encoded data removed]",
      "text/plain": [
       "<matplotlib.figure.Figure at 0x10f845fd0>"
      ]
     },
     "metadata": {},
     "output_type": "display_data"
    }
   ],
   "source": [
    "sns.boxplot(x='highBPDiagnosed', y='age', data=base_copy)"
   ]
  },
  {
   "cell_type": "code",
   "execution_count": 46,
   "metadata": {
    "collapsed": false
   },
   "outputs": [
    {
     "data": {
      "text/plain": [
       "<matplotlib.axes._subplots.AxesSubplot at 0x1189bbbd0>"
      ]
     },
     "execution_count": 46,
     "metadata": {},
     "output_type": "execute_result"
    },
    {
     "data": {
      "image/png": "[encoded data removed]",
      "text/plain": [
       "<matplotlib.figure.Figure at 0x10d3b0e10>"
      ]
     },
     "metadata": {},
     "output_type": "display_data"
    }
   ],
   "source": [
    "sns.boxplot(x='chdDiagnosed', y='age', data=base_copy)"
   ]
  },
  {
   "cell_type": "code",
   "execution_count": 47,
   "metadata": {
    "collapsed": false
   },
   "outputs": [
    {
     "data": {
      "text/plain": [
       "array(['No', 'Inapplicable', 'Yes', 'DK', 'not ascertained', 'Refused'], dtype=object)"
      ]
     },
     "execution_count": 47,
     "metadata": {},
     "output_type": "execute_result"
    }
   ],
   "source": [
    "base_copy.chdDiagnosed.unique()"
   ]
  },
  {
   "cell_type": "markdown",
   "metadata": {},
   "source": [
    "<h2>Building the model</h2>"
   ]
  },
  {
   "cell_type": "markdown",
   "metadata": {},
   "source": [
    "We want a multi-class classifier to take as input the medications prescribed and give as output what diseases a patient has.  We must demonstrate that the end user should be confident in the result."
   ]
  },
  {
   "cell_type": "code",
   "execution_count": null,
   "metadata": {
    "collapsed": true
   },
   "outputs": [],
   "source": []
  }
 ],
 "metadata": {
  "kernelspec": {
   "display_name": "Python 2",
   "language": "python",
   "name": "python2"
  },
  "language_info": {
   "codemirror_mode": {
    "name": "ipython",
    "version": 2
   },
   "file_extension": ".py",
   "mimetype": "text/x-python",
   "name": "python",
   "nbconvert_exporter": "python",
   "pygments_lexer": "ipython2",
   "version": "2.7.11"
  }
 },
 "nbformat": 4,
 "nbformat_minor": 0
}
